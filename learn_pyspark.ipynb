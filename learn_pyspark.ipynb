{
  "nbformat": 4,
  "nbformat_minor": 0,
  "metadata": {
    "colab": {
      "provenance": [],
      "authorship_tag": "ABX9TyNWN2NDcqCoUa6BfFd/QXgv",
      "include_colab_link": true
    },
    "kernelspec": {
      "name": "python3",
      "display_name": "Python 3"
    },
    "language_info": {
      "name": "python"
    }
  },
  "cells": [
    {
      "cell_type": "markdown",
      "metadata": {
        "id": "view-in-github",
        "colab_type": "text"
      },
      "source": [
        "<a href=\"https://colab.research.google.com/github/itsmevishnu/python/blob/master/learn_pyspark.ipynb\" target=\"_parent\"><img src=\"https://colab.research.google.com/assets/colab-badge.svg\" alt=\"Open In Colab\"/></a>"
      ]
    },
    {
      "cell_type": "markdown",
      "source": [
        "## Basic Introduction to Pyspark\n",
        "---\n",
        "1. Installation of Pyspark package in python\n",
        "2. Import `pytspark`, `pyspark.sql.SparkSession` for creating new spark session.\n",
        "3. Creating new spark session\n",
        "4. Reading csv files\n",
        "5. Reading csv file with header values.\n",
        "6. Reading csv file with header and inferSchema.[With different data types instead of default string types]\n",
        "7. Basic methods and properties like `show()`, `printSchema()`, `head()`, `columns`"
      ],
      "metadata": {
        "id": "t2X1Ln8uwilk"
      }
    },
    {
      "cell_type": "code",
      "execution_count": null,
      "metadata": {
        "colab": {
          "base_uri": "https://localhost:8080/"
        },
        "id": "O2Y6hZ3tkXQ3",
        "outputId": "7807257b-0d73-4f61-aa3a-0751c688fd96"
      },
      "outputs": [
        {
          "output_type": "stream",
          "name": "stdout",
          "text": [
            "Looking in indexes: https://pypi.org/simple, https://us-python.pkg.dev/colab-wheels/public/simple/\n",
            "Requirement already satisfied: pyspark in /usr/local/lib/python3.9/dist-packages (3.3.2)\n",
            "Requirement already satisfied: py4j==0.10.9.5 in /usr/local/lib/python3.9/dist-packages (from pyspark) (0.10.9.5)\n"
          ]
        }
      ],
      "source": [
        "!pip install pyspark"
      ]
    },
    {
      "cell_type": "code",
      "source": [
        "import pyspark "
      ],
      "metadata": {
        "id": "gd7bPaiWl9N2"
      },
      "execution_count": null,
      "outputs": []
    },
    {
      "cell_type": "code",
      "source": [
        "import pandas as pd\n",
        "df =  pd.read_csv('organisations.csv')"
      ],
      "metadata": {
        "id": "jOVgaGL0l_6A"
      },
      "execution_count": null,
      "outputs": []
    },
    {
      "cell_type": "code",
      "source": [
        "df.head()"
      ],
      "metadata": {
        "colab": {
          "base_uri": "https://localhost:8080/",
          "height": 478
        },
        "id": "dzdEFQ17mz-W",
        "outputId": "d3511f59-1ada-408e-f0ba-a9564a34760b"
      },
      "execution_count": null,
      "outputs": [
        {
          "output_type": "execute_result",
          "data": {
            "text/plain": [
              "   Index  Organization Id                     Name  \\\n",
              "0      1  FAB0d41d5b5d22c              Ferrell LLC   \n",
              "1      2  6A7EdDEA9FaDC52  Mckinney, Riley and Day   \n",
              "2      3  0bFED1ADAE4bcC1               Hester Ltd   \n",
              "3      4  2bFC1Be8a4ce42f           Holder-Sellers   \n",
              "4      5  9eE8A6a4Eb96C24              Mayer Group   \n",
              "\n",
              "                          Website           Country  \\\n",
              "0              https://price.net/  Papua New Guinea   \n",
              "1  http://www.hall-buchanan.info/           Finland   \n",
              "2       http://sullivan-reed.com/             China   \n",
              "3             https://becker.com/      Turkmenistan   \n",
              "4          http://www.brewer.com/         Mauritius   \n",
              "\n",
              "                                      Description  Founded  \\\n",
              "0             Horizontal empowering knowledgebase     1990   \n",
              "1             User-centric system-worthy leverage     2015   \n",
              "2                  Switchable scalable moratorium     1971   \n",
              "3  De-engineered systemic artificial intelligence     2004   \n",
              "4              Synchronized needs-based challenge     1991   \n",
              "\n",
              "                      Industry  Number of employees  \n",
              "0                     Plastics                 3498  \n",
              "1  Glass / Ceramics / Concrete                 4952  \n",
              "2                Public Safety                 5287  \n",
              "3                   Automotive                  921  \n",
              "4               Transportation                 7870  "
            ],
            "text/html": [
              "\n",
              "  <div id=\"df-c8653b31-f44d-48e3-b007-ee980df38c0d\">\n",
              "    <div class=\"colab-df-container\">\n",
              "      <div>\n",
              "<style scoped>\n",
              "    .dataframe tbody tr th:only-of-type {\n",
              "        vertical-align: middle;\n",
              "    }\n",
              "\n",
              "    .dataframe tbody tr th {\n",
              "        vertical-align: top;\n",
              "    }\n",
              "\n",
              "    .dataframe thead th {\n",
              "        text-align: right;\n",
              "    }\n",
              "</style>\n",
              "<table border=\"1\" class=\"dataframe\">\n",
              "  <thead>\n",
              "    <tr style=\"text-align: right;\">\n",
              "      <th></th>\n",
              "      <th>Index</th>\n",
              "      <th>Organization Id</th>\n",
              "      <th>Name</th>\n",
              "      <th>Website</th>\n",
              "      <th>Country</th>\n",
              "      <th>Description</th>\n",
              "      <th>Founded</th>\n",
              "      <th>Industry</th>\n",
              "      <th>Number of employees</th>\n",
              "    </tr>\n",
              "  </thead>\n",
              "  <tbody>\n",
              "    <tr>\n",
              "      <th>0</th>\n",
              "      <td>1</td>\n",
              "      <td>FAB0d41d5b5d22c</td>\n",
              "      <td>Ferrell LLC</td>\n",
              "      <td>https://price.net/</td>\n",
              "      <td>Papua New Guinea</td>\n",
              "      <td>Horizontal empowering knowledgebase</td>\n",
              "      <td>1990</td>\n",
              "      <td>Plastics</td>\n",
              "      <td>3498</td>\n",
              "    </tr>\n",
              "    <tr>\n",
              "      <th>1</th>\n",
              "      <td>2</td>\n",
              "      <td>6A7EdDEA9FaDC52</td>\n",
              "      <td>Mckinney, Riley and Day</td>\n",
              "      <td>http://www.hall-buchanan.info/</td>\n",
              "      <td>Finland</td>\n",
              "      <td>User-centric system-worthy leverage</td>\n",
              "      <td>2015</td>\n",
              "      <td>Glass / Ceramics / Concrete</td>\n",
              "      <td>4952</td>\n",
              "    </tr>\n",
              "    <tr>\n",
              "      <th>2</th>\n",
              "      <td>3</td>\n",
              "      <td>0bFED1ADAE4bcC1</td>\n",
              "      <td>Hester Ltd</td>\n",
              "      <td>http://sullivan-reed.com/</td>\n",
              "      <td>China</td>\n",
              "      <td>Switchable scalable moratorium</td>\n",
              "      <td>1971</td>\n",
              "      <td>Public Safety</td>\n",
              "      <td>5287</td>\n",
              "    </tr>\n",
              "    <tr>\n",
              "      <th>3</th>\n",
              "      <td>4</td>\n",
              "      <td>2bFC1Be8a4ce42f</td>\n",
              "      <td>Holder-Sellers</td>\n",
              "      <td>https://becker.com/</td>\n",
              "      <td>Turkmenistan</td>\n",
              "      <td>De-engineered systemic artificial intelligence</td>\n",
              "      <td>2004</td>\n",
              "      <td>Automotive</td>\n",
              "      <td>921</td>\n",
              "    </tr>\n",
              "    <tr>\n",
              "      <th>4</th>\n",
              "      <td>5</td>\n",
              "      <td>9eE8A6a4Eb96C24</td>\n",
              "      <td>Mayer Group</td>\n",
              "      <td>http://www.brewer.com/</td>\n",
              "      <td>Mauritius</td>\n",
              "      <td>Synchronized needs-based challenge</td>\n",
              "      <td>1991</td>\n",
              "      <td>Transportation</td>\n",
              "      <td>7870</td>\n",
              "    </tr>\n",
              "  </tbody>\n",
              "</table>\n",
              "</div>\n",
              "      <button class=\"colab-df-convert\" onclick=\"convertToInteractive('df-c8653b31-f44d-48e3-b007-ee980df38c0d')\"\n",
              "              title=\"Convert this dataframe to an interactive table.\"\n",
              "              style=\"display:none;\">\n",
              "        \n",
              "  <svg xmlns=\"http://www.w3.org/2000/svg\" height=\"24px\"viewBox=\"0 0 24 24\"\n",
              "       width=\"24px\">\n",
              "    <path d=\"M0 0h24v24H0V0z\" fill=\"none\"/>\n",
              "    <path d=\"M18.56 5.44l.94 2.06.94-2.06 2.06-.94-2.06-.94-.94-2.06-.94 2.06-2.06.94zm-11 1L8.5 8.5l.94-2.06 2.06-.94-2.06-.94L8.5 2.5l-.94 2.06-2.06.94zm10 10l.94 2.06.94-2.06 2.06-.94-2.06-.94-.94-2.06-.94 2.06-2.06.94z\"/><path d=\"M17.41 7.96l-1.37-1.37c-.4-.4-.92-.59-1.43-.59-.52 0-1.04.2-1.43.59L10.3 9.45l-7.72 7.72c-.78.78-.78 2.05 0 2.83L4 21.41c.39.39.9.59 1.41.59.51 0 1.02-.2 1.41-.59l7.78-7.78 2.81-2.81c.8-.78.8-2.07 0-2.86zM5.41 20L4 18.59l7.72-7.72 1.47 1.35L5.41 20z\"/>\n",
              "  </svg>\n",
              "      </button>\n",
              "      \n",
              "  <style>\n",
              "    .colab-df-container {\n",
              "      display:flex;\n",
              "      flex-wrap:wrap;\n",
              "      gap: 12px;\n",
              "    }\n",
              "\n",
              "    .colab-df-convert {\n",
              "      background-color: #E8F0FE;\n",
              "      border: none;\n",
              "      border-radius: 50%;\n",
              "      cursor: pointer;\n",
              "      display: none;\n",
              "      fill: #1967D2;\n",
              "      height: 32px;\n",
              "      padding: 0 0 0 0;\n",
              "      width: 32px;\n",
              "    }\n",
              "\n",
              "    .colab-df-convert:hover {\n",
              "      background-color: #E2EBFA;\n",
              "      box-shadow: 0px 1px 2px rgba(60, 64, 67, 0.3), 0px 1px 3px 1px rgba(60, 64, 67, 0.15);\n",
              "      fill: #174EA6;\n",
              "    }\n",
              "\n",
              "    [theme=dark] .colab-df-convert {\n",
              "      background-color: #3B4455;\n",
              "      fill: #D2E3FC;\n",
              "    }\n",
              "\n",
              "    [theme=dark] .colab-df-convert:hover {\n",
              "      background-color: #434B5C;\n",
              "      box-shadow: 0px 1px 3px 1px rgba(0, 0, 0, 0.15);\n",
              "      filter: drop-shadow(0px 1px 2px rgba(0, 0, 0, 0.3));\n",
              "      fill: #FFFFFF;\n",
              "    }\n",
              "  </style>\n",
              "\n",
              "      <script>\n",
              "        const buttonEl =\n",
              "          document.querySelector('#df-c8653b31-f44d-48e3-b007-ee980df38c0d button.colab-df-convert');\n",
              "        buttonEl.style.display =\n",
              "          google.colab.kernel.accessAllowed ? 'block' : 'none';\n",
              "\n",
              "        async function convertToInteractive(key) {\n",
              "          const element = document.querySelector('#df-c8653b31-f44d-48e3-b007-ee980df38c0d');\n",
              "          const dataTable =\n",
              "            await google.colab.kernel.invokeFunction('convertToInteractive',\n",
              "                                                     [key], {});\n",
              "          if (!dataTable) return;\n",
              "\n",
              "          const docLinkHtml = 'Like what you see? Visit the ' +\n",
              "            '<a target=\"_blank\" href=https://colab.research.google.com/notebooks/data_table.ipynb>data table notebook</a>'\n",
              "            + ' to learn more about interactive tables.';\n",
              "          element.innerHTML = '';\n",
              "          dataTable['output_type'] = 'display_data';\n",
              "          await google.colab.output.renderOutput(dataTable, element);\n",
              "          const docLink = document.createElement('div');\n",
              "          docLink.innerHTML = docLinkHtml;\n",
              "          element.appendChild(docLink);\n",
              "        }\n",
              "      </script>\n",
              "    </div>\n",
              "  </div>\n",
              "  "
            ]
          },
          "metadata": {},
          "execution_count": 6
        }
      ]
    },
    {
      "cell_type": "code",
      "source": [
        "from pyspark.sql import SparkSession"
      ],
      "metadata": {
        "id": "86olncrUm1YH"
      },
      "execution_count": null,
      "outputs": []
    },
    {
      "cell_type": "code",
      "source": [
        "spark = SparkSession.builder.appName('practice').getOrCreate()"
      ],
      "metadata": {
        "id": "xamrC7KrnYIu"
      },
      "execution_count": null,
      "outputs": []
    },
    {
      "cell_type": "code",
      "source": [
        "spark"
      ],
      "metadata": {
        "colab": {
          "base_uri": "https://localhost:8080/",
          "height": 222
        },
        "id": "q0DU4c4EnsEK",
        "outputId": "269c607a-8dec-4444-b107-a59e0cd6ab11"
      },
      "execution_count": null,
      "outputs": [
        {
          "output_type": "execute_result",
          "data": {
            "text/plain": [
              "<pyspark.sql.session.SparkSession at 0x7f2df3dd0640>"
            ],
            "text/html": [
              "\n",
              "            <div>\n",
              "                <p><b>SparkSession - in-memory</b></p>\n",
              "                \n",
              "        <div>\n",
              "            <p><b>SparkContext</b></p>\n",
              "\n",
              "            <p><a href=\"http://7db5d8eeae7b:4040\">Spark UI</a></p>\n",
              "\n",
              "            <dl>\n",
              "              <dt>Version</dt>\n",
              "                <dd><code>v3.3.2</code></dd>\n",
              "              <dt>Master</dt>\n",
              "                <dd><code>local[*]</code></dd>\n",
              "              <dt>AppName</dt>\n",
              "                <dd><code>practice</code></dd>\n",
              "            </dl>\n",
              "        </div>\n",
              "        \n",
              "            </div>\n",
              "        "
            ]
          },
          "metadata": {},
          "execution_count": 10
        }
      ]
    },
    {
      "cell_type": "code",
      "source": [
        "df_pyspark = spark.read.csv('organisations.csv') #Reading the csv files"
      ],
      "metadata": {
        "id": "UKRE1VD7nv5G"
      },
      "execution_count": null,
      "outputs": []
    },
    {
      "cell_type": "code",
      "source": [
        "df_pyspark #There is header is start with C0, C1, etc"
      ],
      "metadata": {
        "colab": {
          "base_uri": "https://localhost:8080/"
        },
        "id": "WopNWvQooFsU",
        "outputId": "7a2bd93d-66ec-40f4-a05b-838b87f6cc73"
      },
      "execution_count": null,
      "outputs": [
        {
          "output_type": "execute_result",
          "data": {
            "text/plain": [
              "DataFrame[_c0: string, _c1: string, _c2: string, _c3: string, _c4: string, _c5: string, _c6: string, _c7: string, _c8: string]"
            ]
          },
          "metadata": {},
          "execution_count": 13
        }
      ]
    },
    {
      "cell_type": "code",
      "source": [
        "df_pyspark.show() #to display the details of the table"
      ],
      "metadata": {
        "colab": {
          "base_uri": "https://localhost:8080/"
        },
        "id": "I-xcj9cxoN0q",
        "outputId": "309bed81-9c3d-47f5-b24a-8db2236de567"
      },
      "execution_count": null,
      "outputs": [
        {
          "output_type": "stream",
          "name": "stdout",
          "text": [
            "+-----+---------------+--------------------+--------------------+--------------------+--------------------+-------+--------------------+-------------------+\n",
            "|  _c0|            _c1|                 _c2|                 _c3|                 _c4|                 _c5|    _c6|                 _c7|                _c8|\n",
            "+-----+---------------+--------------------+--------------------+--------------------+--------------------+-------+--------------------+-------------------+\n",
            "|Index|Organization Id|                Name|             Website|             Country|         Description|Founded|            Industry|Number of employees|\n",
            "|    1|FAB0d41d5b5d22c|         Ferrell LLC|  https://price.net/|    Papua New Guinea|Horizontal empowe...|   1990|            Plastics|               3498|\n",
            "|    2|6A7EdDEA9FaDC52|Mckinney, Riley a...|http://www.hall-b...|             Finland|User-centric syst...|   2015|Glass / Ceramics ...|               4952|\n",
            "|    3|0bFED1ADAE4bcC1|          Hester Ltd|http://sullivan-r...|               China|Switchable scalab...|   1971|       Public Safety|               5287|\n",
            "|    4|2bFC1Be8a4ce42f|      Holder-Sellers| https://becker.com/|        Turkmenistan|De-engineered sys...|   2004|          Automotive|                921|\n",
            "|    5|9eE8A6a4Eb96C24|         Mayer Group|http://www.brewer...|           Mauritius|Synchronized need...|   1991|      Transportation|               7870|\n",
            "|    6|cC757116fe1C085|      Henry-Thompson|   http://morse.net/|             Bahamas|Face-to-face well...|   1992|Primary / Seconda...|               4914|\n",
            "|    7|219233e8aFF1BC3|      Hansen-Everett|https://www.kidd....|            Pakistan|Seamless disinter...|   2018| Publishing Industry|               7832|\n",
            "|    8|ccc93DCF81a31CD|       Mcintosh-Mora|https://www.brook...|Heard Island and ...|Centralized attit...|   1970|     Import / Export|               4389|\n",
            "|    9|0B4F93aA06ED03e|            Carr Inc|    http://ross.com/|              Kuwait|Distributed impac...|   1996|            Plastics|               8167|\n",
            "|   10|738b5aDe6B1C6A5|          Gaines Inc|http://sandoval-h...|          Uzbekistan|Multi-lateral sca...|   1997|Outsourcing / Off...|               9698|\n",
            "|   11|AE61b8Ffebbc476|          Kidd Group|http://www.lyons....|Bouvet Island (Bo...|Proactive foregro...|   2001|Primary / Seconda...|               7473|\n",
            "|   12|eb3B7D06cCdD609|        Crane-Clarke|https://www.sando...|             Denmark|Front-line clear-...|   2014|    Food / Beverages|               9011|\n",
            "|   13|8D0c29189C9798B|Keller, Campos an...|https://www.garne...|             Liberia|Ameliorated direc...|   2020|Museums / Institu...|               2862|\n",
            "|   14|D2c91cc03CA394c|         Glover-Pope|http://www.silva....|United Arab Emirates|Persevering conte...|   2013|    Medical Practice|               9079|\n",
            "|   15|C8AC1eaf9C036F4|      Pacheco-Spears|https://aguilar.com/|              Sweden|Secured logistica...|   1984|            Maritime|                769|\n",
            "|   16|b5D10A14f7a8AfE|         Hodge-Ayers|http://www.archer...|            Honduras|Future-proofed ra...|   1990| Facilities Services|               8508|\n",
            "|   17|68139b5C4De03B4|Bowers, Guerra an...|http://www.carril...|              Uganda|De-engineered tra...|   1972|Primary / Seconda...|               6986|\n",
            "|   18|5c2EffEfdba2BdF|     Mckenzie-Melton|http://montoya-th...|           Hong Kong|Reverse-engineere...|   1998|Investment Manage...|               4589|\n",
            "|   19|ba179F19F7925f5|         Branch-Mann|http://www.lozano...|            Botswana|Adaptive intangib...|   1999|Architecture / Pl...|               7961|\n",
            "+-----+---------------+--------------------+--------------------+--------------------+--------------------+-------+--------------------+-------------------+\n",
            "only showing top 20 rows\n",
            "\n"
          ]
        }
      ]
    },
    {
      "cell_type": "code",
      "source": [
        "df = spark.read.option('header', 'true').csv('organisations.csv') #the first row will be header instead of c0,c1"
      ],
      "metadata": {
        "id": "RnqeI7QaoRwz"
      },
      "execution_count": null,
      "outputs": []
    },
    {
      "cell_type": "code",
      "source": [
        "df.show()"
      ],
      "metadata": {
        "colab": {
          "base_uri": "https://localhost:8080/"
        },
        "id": "b-_ZxpdspLMO",
        "outputId": "ec922663-2c1b-4a4f-d751-07efdd0c3e80"
      },
      "execution_count": null,
      "outputs": [
        {
          "output_type": "stream",
          "name": "stdout",
          "text": [
            "+-----+---------------+--------------------+--------------------+--------------------+--------------------+-------+--------------------+-------------------+\n",
            "|Index|Organization Id|                Name|             Website|             Country|         Description|Founded|            Industry|Number of employees|\n",
            "+-----+---------------+--------------------+--------------------+--------------------+--------------------+-------+--------------------+-------------------+\n",
            "|    1|FAB0d41d5b5d22c|         Ferrell LLC|  https://price.net/|    Papua New Guinea|Horizontal empowe...|   1990|            Plastics|               3498|\n",
            "|    2|6A7EdDEA9FaDC52|Mckinney, Riley a...|http://www.hall-b...|             Finland|User-centric syst...|   2015|Glass / Ceramics ...|               4952|\n",
            "|    3|0bFED1ADAE4bcC1|          Hester Ltd|http://sullivan-r...|               China|Switchable scalab...|   1971|       Public Safety|               5287|\n",
            "|    4|2bFC1Be8a4ce42f|      Holder-Sellers| https://becker.com/|        Turkmenistan|De-engineered sys...|   2004|          Automotive|                921|\n",
            "|    5|9eE8A6a4Eb96C24|         Mayer Group|http://www.brewer...|           Mauritius|Synchronized need...|   1991|      Transportation|               7870|\n",
            "|    6|cC757116fe1C085|      Henry-Thompson|   http://morse.net/|             Bahamas|Face-to-face well...|   1992|Primary / Seconda...|               4914|\n",
            "|    7|219233e8aFF1BC3|      Hansen-Everett|https://www.kidd....|            Pakistan|Seamless disinter...|   2018| Publishing Industry|               7832|\n",
            "|    8|ccc93DCF81a31CD|       Mcintosh-Mora|https://www.brook...|Heard Island and ...|Centralized attit...|   1970|     Import / Export|               4389|\n",
            "|    9|0B4F93aA06ED03e|            Carr Inc|    http://ross.com/|              Kuwait|Distributed impac...|   1996|            Plastics|               8167|\n",
            "|   10|738b5aDe6B1C6A5|          Gaines Inc|http://sandoval-h...|          Uzbekistan|Multi-lateral sca...|   1997|Outsourcing / Off...|               9698|\n",
            "|   11|AE61b8Ffebbc476|          Kidd Group|http://www.lyons....|Bouvet Island (Bo...|Proactive foregro...|   2001|Primary / Seconda...|               7473|\n",
            "|   12|eb3B7D06cCdD609|        Crane-Clarke|https://www.sando...|             Denmark|Front-line clear-...|   2014|    Food / Beverages|               9011|\n",
            "|   13|8D0c29189C9798B|Keller, Campos an...|https://www.garne...|             Liberia|Ameliorated direc...|   2020|Museums / Institu...|               2862|\n",
            "|   14|D2c91cc03CA394c|         Glover-Pope|http://www.silva....|United Arab Emirates|Persevering conte...|   2013|    Medical Practice|               9079|\n",
            "|   15|C8AC1eaf9C036F4|      Pacheco-Spears|https://aguilar.com/|              Sweden|Secured logistica...|   1984|            Maritime|                769|\n",
            "|   16|b5D10A14f7a8AfE|         Hodge-Ayers|http://www.archer...|            Honduras|Future-proofed ra...|   1990| Facilities Services|               8508|\n",
            "|   17|68139b5C4De03B4|Bowers, Guerra an...|http://www.carril...|              Uganda|De-engineered tra...|   1972|Primary / Seconda...|               6986|\n",
            "|   18|5c2EffEfdba2BdF|     Mckenzie-Melton|http://montoya-th...|           Hong Kong|Reverse-engineere...|   1998|Investment Manage...|               4589|\n",
            "|   19|ba179F19F7925f5|         Branch-Mann|http://www.lozano...|            Botswana|Adaptive intangib...|   1999|Architecture / Pl...|               7961|\n",
            "|   20|c1Ce9B350BAc66b|      Weiss and Sons|https://barrett.com/|               Korea|Sharable optimal ...|   2011|            Plastics|               5984|\n",
            "+-----+---------------+--------------------+--------------------+--------------------+--------------------+-------+--------------------+-------------------+\n",
            "only showing top 20 rows\n",
            "\n"
          ]
        }
      ]
    },
    {
      "cell_type": "code",
      "source": [
        "type(df)"
      ],
      "metadata": {
        "colab": {
          "base_uri": "https://localhost:8080/"
        },
        "id": "5VwXvPtEpNAH",
        "outputId": "a660b0d0-30cf-4f7b-843d-ccc31cc9e485"
      },
      "execution_count": null,
      "outputs": [
        {
          "output_type": "execute_result",
          "data": {
            "text/plain": [
              "pyspark.sql.dataframe.DataFrame"
            ]
          },
          "metadata": {},
          "execution_count": 18
        }
      ]
    },
    {
      "cell_type": "code",
      "source": [
        "df.head()"
      ],
      "metadata": {
        "colab": {
          "base_uri": "https://localhost:8080/"
        },
        "id": "wQBNklSNpXwO",
        "outputId": "902e6418-aed3-479b-bc6e-f3c9417c8bd6"
      },
      "execution_count": null,
      "outputs": [
        {
          "output_type": "execute_result",
          "data": {
            "text/plain": [
              "Row(Index='1', Organization Id='FAB0d41d5b5d22c', Name='Ferrell LLC', Website='https://price.net/', Country='Papua New Guinea', Description='Horizontal empowering knowledgebase', Founded='1990', Industry='Plastics', Number of employees='3498')"
            ]
          },
          "metadata": {},
          "execution_count": 19
        }
      ]
    },
    {
      "cell_type": "code",
      "source": [
        "df.printSchema() #Give more the information of the data, check schema, similar to pd.info()\n",
        "# by default all the values as string. "
      ],
      "metadata": {
        "colab": {
          "base_uri": "https://localhost:8080/"
        },
        "id": "tGF3oo6EpeKn",
        "outputId": "25877e4e-d07a-4f3d-af58-1af8ec2922fb"
      },
      "execution_count": null,
      "outputs": [
        {
          "output_type": "stream",
          "name": "stdout",
          "text": [
            "root\n",
            " |-- Index: string (nullable = true)\n",
            " |-- Organization Id: string (nullable = true)\n",
            " |-- Name: string (nullable = true)\n",
            " |-- Website: string (nullable = true)\n",
            " |-- Country: string (nullable = true)\n",
            " |-- Description: string (nullable = true)\n",
            " |-- Founded: string (nullable = true)\n",
            " |-- Industry: string (nullable = true)\n",
            " |-- Number of employees: string (nullable = true)\n",
            "\n"
          ]
        }
      ]
    },
    {
      "cell_type": "code",
      "source": [
        "#To modify the schema datatype while reading, add inferSchema=True during reading\n",
        "df = spark.read.option('header', 'true').csv('organisations.csv', inferSchema=True)"
      ],
      "metadata": {
        "id": "2zi2VWY7pdm-"
      },
      "execution_count": null,
      "outputs": []
    },
    {
      "cell_type": "code",
      "source": [
        "#another easy method similar to pandas\n",
        "df= spark.read.csv('organisations.csv',inferSchema=True, header=True)"
      ],
      "metadata": {
        "id": "zIpQFGk9pdkK"
      },
      "execution_count": null,
      "outputs": []
    },
    {
      "cell_type": "code",
      "source": [
        "df.printSchema()"
      ],
      "metadata": {
        "colab": {
          "base_uri": "https://localhost:8080/"
        },
        "id": "OOMB13bRpdhO",
        "outputId": "6fe12c02-2ec1-4cd5-885b-f9898a71c005"
      },
      "execution_count": null,
      "outputs": [
        {
          "output_type": "stream",
          "name": "stdout",
          "text": [
            "root\n",
            " |-- Index: integer (nullable = true)\n",
            " |-- Organization Id: string (nullable = true)\n",
            " |-- Name: string (nullable = true)\n",
            " |-- Website: string (nullable = true)\n",
            " |-- Country: string (nullable = true)\n",
            " |-- Description: string (nullable = true)\n",
            " |-- Founded: integer (nullable = true)\n",
            " |-- Industry: string (nullable = true)\n",
            " |-- Number of employees: integer (nullable = true)\n",
            "\n"
          ]
        }
      ]
    },
    {
      "cell_type": "code",
      "source": [
        "df.head(10)"
      ],
      "metadata": {
        "colab": {
          "base_uri": "https://localhost:8080/"
        },
        "id": "GZgU8ZBcpdep",
        "outputId": "689fad60-42ed-4d57-ddfd-975178f6a8a9"
      },
      "execution_count": null,
      "outputs": [
        {
          "output_type": "execute_result",
          "data": {
            "text/plain": [
              "[Row(Index=1, Organization Id='FAB0d41d5b5d22c', Name='Ferrell LLC', Website='https://price.net/', Country='Papua New Guinea', Description='Horizontal empowering knowledgebase', Founded=1990, Industry='Plastics', Number of employees=3498),\n",
              " Row(Index=2, Organization Id='6A7EdDEA9FaDC52', Name='Mckinney, Riley and Day', Website='http://www.hall-buchanan.info/', Country='Finland', Description='User-centric system-worthy leverage', Founded=2015, Industry='Glass / Ceramics / Concrete', Number of employees=4952),\n",
              " Row(Index=3, Organization Id='0bFED1ADAE4bcC1', Name='Hester Ltd', Website='http://sullivan-reed.com/', Country='China', Description='Switchable scalable moratorium', Founded=1971, Industry='Public Safety', Number of employees=5287),\n",
              " Row(Index=4, Organization Id='2bFC1Be8a4ce42f', Name='Holder-Sellers', Website='https://becker.com/', Country='Turkmenistan', Description='De-engineered systemic artificial intelligence', Founded=2004, Industry='Automotive', Number of employees=921),\n",
              " Row(Index=5, Organization Id='9eE8A6a4Eb96C24', Name='Mayer Group', Website='http://www.brewer.com/', Country='Mauritius', Description='Synchronized needs-based challenge', Founded=1991, Industry='Transportation', Number of employees=7870),\n",
              " Row(Index=6, Organization Id='cC757116fe1C085', Name='Henry-Thompson', Website='http://morse.net/', Country='Bahamas', Description='Face-to-face well-modulated customer loyalty', Founded=1992, Industry='Primary / Secondary Education', Number of employees=4914),\n",
              " Row(Index=7, Organization Id='219233e8aFF1BC3', Name='Hansen-Everett', Website='https://www.kidd.org/', Country='Pakistan', Description='Seamless disintermediate collaboration', Founded=2018, Industry='Publishing Industry', Number of employees=7832),\n",
              " Row(Index=8, Organization Id='ccc93DCF81a31CD', Name='Mcintosh-Mora', Website='https://www.brooks.com/', Country='Heard Island and McDonald Islands', Description='Centralized attitude-oriented capability', Founded=1970, Industry='Import / Export', Number of employees=4389),\n",
              " Row(Index=9, Organization Id='0B4F93aA06ED03e', Name='Carr Inc', Website='http://ross.com/', Country='Kuwait', Description='Distributed impactful customer loyalty', Founded=1996, Industry='Plastics', Number of employees=8167),\n",
              " Row(Index=10, Organization Id='738b5aDe6B1C6A5', Name='Gaines Inc', Website='http://sandoval-hooper.com/', Country='Uzbekistan', Description='Multi-lateral scalable protocol', Founded=1997, Industry='Outsourcing / Offshoring', Number of employees=9698)]"
            ]
          },
          "metadata": {},
          "execution_count": 33
        }
      ]
    },
    {
      "cell_type": "code",
      "source": [
        "df.columns #Get the names of the coloumns"
      ],
      "metadata": {
        "colab": {
          "base_uri": "https://localhost:8080/"
        },
        "id": "Il_coLespdcM",
        "outputId": "d155f022-ccec-402c-90ed-1024597196e8"
      },
      "execution_count": null,
      "outputs": [
        {
          "output_type": "execute_result",
          "data": {
            "text/plain": [
              "['Index',\n",
              " 'Organization Id',\n",
              " 'Name',\n",
              " 'Website',\n",
              " 'Country',\n",
              " 'Description',\n",
              " 'Founded',\n",
              " 'Industry',\n",
              " 'Number of employees']"
            ]
          },
          "metadata": {},
          "execution_count": 36
        }
      ]
    },
    {
      "cell_type": "markdown",
      "source": [
        "## Basic operations \n",
        "---\n",
        "1. Select a row using `select()`\n",
        "2. `dtypes` for showing the datatypes as pandas.\n",
        "3. Describe the data available(similar to pandas `describe()`) --> `describe()`\n",
        "4. Create new column with `withColumn(\"name_of_col\", values)`\n",
        "5. Drop a coloumn is by `drop('name_of_col')`. By default is by column.\n",
        "6. Rename the coloumn by `withColumnRenamed('old_name', 'mew_name')"
      ],
      "metadata": {
        "id": "U4StwT0OxpsG"
      }
    },
    {
      "cell_type": "code",
      "source": [
        "df.select(\"Name\").show() # Get the details of the column"
      ],
      "metadata": {
        "colab": {
          "base_uri": "https://localhost:8080/"
        },
        "id": "Qgfmq23yte-B",
        "outputId": "66d7fa08-7a85-4079-ecb9-04bebf52ac5a"
      },
      "execution_count": null,
      "outputs": [
        {
          "output_type": "stream",
          "name": "stdout",
          "text": [
            "+--------------------+\n",
            "|                Name|\n",
            "+--------------------+\n",
            "|         Ferrell LLC|\n",
            "|Mckinney, Riley a...|\n",
            "|          Hester Ltd|\n",
            "|      Holder-Sellers|\n",
            "|         Mayer Group|\n",
            "|      Henry-Thompson|\n",
            "|      Hansen-Everett|\n",
            "|       Mcintosh-Mora|\n",
            "|            Carr Inc|\n",
            "|          Gaines Inc|\n",
            "|          Kidd Group|\n",
            "|        Crane-Clarke|\n",
            "|Keller, Campos an...|\n",
            "|         Glover-Pope|\n",
            "|      Pacheco-Spears|\n",
            "|         Hodge-Ayers|\n",
            "|Bowers, Guerra an...|\n",
            "|     Mckenzie-Melton|\n",
            "|         Branch-Mann|\n",
            "|      Weiss and Sons|\n",
            "+--------------------+\n",
            "only showing top 20 rows\n",
            "\n"
          ]
        }
      ]
    },
    {
      "cell_type": "code",
      "source": [
        "df.select([\"Name\", \"Country\"]).show() #Get the multiple columns of the dataset"
      ],
      "metadata": {
        "colab": {
          "base_uri": "https://localhost:8080/"
        },
        "id": "sroOTh7HtpsH",
        "outputId": "81c32622-3505-40bf-b712-4b6032cd34f2"
      },
      "execution_count": null,
      "outputs": [
        {
          "output_type": "stream",
          "name": "stdout",
          "text": [
            "+--------------------+--------------------+\n",
            "|                Name|             Country|\n",
            "+--------------------+--------------------+\n",
            "|         Ferrell LLC|    Papua New Guinea|\n",
            "|Mckinney, Riley a...|             Finland|\n",
            "|          Hester Ltd|               China|\n",
            "|      Holder-Sellers|        Turkmenistan|\n",
            "|         Mayer Group|           Mauritius|\n",
            "|      Henry-Thompson|             Bahamas|\n",
            "|      Hansen-Everett|            Pakistan|\n",
            "|       Mcintosh-Mora|Heard Island and ...|\n",
            "|            Carr Inc|              Kuwait|\n",
            "|          Gaines Inc|          Uzbekistan|\n",
            "|          Kidd Group|Bouvet Island (Bo...|\n",
            "|        Crane-Clarke|             Denmark|\n",
            "|Keller, Campos an...|             Liberia|\n",
            "|         Glover-Pope|United Arab Emirates|\n",
            "|      Pacheco-Spears|              Sweden|\n",
            "|         Hodge-Ayers|            Honduras|\n",
            "|Bowers, Guerra an...|              Uganda|\n",
            "|     Mckenzie-Melton|           Hong Kong|\n",
            "|         Branch-Mann|            Botswana|\n",
            "|      Weiss and Sons|               Korea|\n",
            "+--------------------+--------------------+\n",
            "only showing top 20 rows\n",
            "\n"
          ]
        }
      ]
    },
    {
      "cell_type": "code",
      "source": [
        "df[\"Name\"]"
      ],
      "metadata": {
        "colab": {
          "base_uri": "https://localhost:8080/"
        },
        "id": "gZSXNMpNt1Al",
        "outputId": "5c1b4985-af29-4c9c-d35d-731b12251a81"
      },
      "execution_count": null,
      "outputs": [
        {
          "output_type": "execute_result",
          "data": {
            "text/plain": [
              "Column<'Name'>"
            ]
          },
          "metadata": {},
          "execution_count": 42
        }
      ]
    },
    {
      "cell_type": "code",
      "source": [
        "df.dtypes #identify the datatypes of each columns similar to pandas "
      ],
      "metadata": {
        "colab": {
          "base_uri": "https://localhost:8080/"
        },
        "id": "GKwfOJpWt_HH",
        "outputId": "982f43a4-12d0-4a66-de98-75f6f005007c"
      },
      "execution_count": null,
      "outputs": [
        {
          "output_type": "execute_result",
          "data": {
            "text/plain": [
              "[('Index', 'int'),\n",
              " ('Organization Id', 'string'),\n",
              " ('Name', 'string'),\n",
              " ('Website', 'string'),\n",
              " ('Country', 'string'),\n",
              " ('Description', 'string'),\n",
              " ('Founded', 'int'),\n",
              " ('Industry', 'string'),\n",
              " ('Number of employees', 'int')]"
            ]
          },
          "metadata": {},
          "execution_count": 44
        }
      ]
    },
    {
      "cell_type": "code",
      "source": [
        "df.describe().show() #similar to the pandas describe()  -providing the statistical information"
      ],
      "metadata": {
        "colab": {
          "base_uri": "https://localhost:8080/"
        },
        "id": "vHT1DZrsuJJ8",
        "outputId": "510556ae-da10-49b9-d854-0f5caeee2c0c"
      },
      "execution_count": null,
      "outputs": [
        {
          "output_type": "stream",
          "name": "stdout",
          "text": [
            "+-------+------------------+--------------------+--------------------+--------+--------------------+-----------------+-----------------+-------------------+------------------+\n",
            "|summary|             Index|                Name|             Website| Country|         Description|          Founded|         Industry|Number of employees|       Current age|\n",
            "+-------+------------------+--------------------+--------------------+--------+--------------------+-----------------+-----------------+-------------------+------------------+\n",
            "|  count|               100|                 100|                 100|     100|                 100|              100|              100|                100|               100|\n",
            "|   mean|              50.5|                null|                null|    null|                null|          1995.41|             null|            4964.86|             27.59|\n",
            "| stddev|29.011491975882016|                null|                null|    null|                null|15.74422773814921|             null|  2850.859799492714|15.744227738149208|\n",
            "|    min|                 1|          Arroyo Inc| http://aguilar.org/|Anguilla|Adaptive bi-direc...|             1970|       Accounting|                236|                 2|\n",
            "|    max|               100|Wilkinson, Charle...|https://zimmerman...|Zimbabwe|Vision-oriented s...|             2021|Writing / Editing|               9995|                53|\n",
            "+-------+------------------+--------------------+--------------------+--------+--------------------+-----------------+-----------------+-------------------+------------------+\n",
            "\n"
          ]
        }
      ]
    },
    {
      "cell_type": "code",
      "source": [
        "## adding columns to the dataset \n",
        "df = df.withColumn('Current age', 2023-df[\"Founded\"] )"
      ],
      "metadata": {
        "id": "88vl6qSguVK4"
      },
      "execution_count": null,
      "outputs": []
    },
    {
      "cell_type": "code",
      "source": [
        "##drop the columns, drop fucntion can be used, by default it take the column\n",
        "df = df.drop(\"Organization Id\")"
      ],
      "metadata": {
        "id": "9opvuJvOvB8_"
      },
      "execution_count": null,
      "outputs": []
    },
    {
      "cell_type": "code",
      "source": [
        "## Rename the column head withColumnRenamed(OldName, Newname)\n",
        "df  = df.withColumnRenamed('Number of employees', 'Employees')"
      ],
      "metadata": {
        "id": "6iImT9devqzb"
      },
      "execution_count": null,
      "outputs": []
    },
    {
      "cell_type": "code",
      "source": [
        "df.printSchema()"
      ],
      "metadata": {
        "colab": {
          "base_uri": "https://localhost:8080/"
        },
        "id": "ZwGdzDU0wQ9a",
        "outputId": "30a854eb-efd6-4ec1-a219-061b8d3bbfde"
      },
      "execution_count": null,
      "outputs": [
        {
          "output_type": "stream",
          "name": "stdout",
          "text": [
            "root\n",
            " |-- Index: integer (nullable = true)\n",
            " |-- Name: string (nullable = true)\n",
            " |-- Website: string (nullable = true)\n",
            " |-- Country: string (nullable = true)\n",
            " |-- Description: string (nullable = true)\n",
            " |-- Founded: integer (nullable = true)\n",
            " |-- Industry: string (nullable = true)\n",
            " |-- Employees: integer (nullable = true)\n",
            " |-- Current age: integer (nullable = true)\n",
            "\n"
          ]
        }
      ]
    },
    {
      "cell_type": "code",
      "source": [],
      "metadata": {
        "id": "GX7Q4BK8wXHW"
      },
      "execution_count": null,
      "outputs": []
    },
    {
      "cell_type": "markdown",
      "source": [
        "## Filters in Pyspark"
      ],
      "metadata": {
        "id": "HizN0OjUwgkp"
      }
    },
    {
      "cell_type": "code",
      "source": [
        "#delete the null values\n",
        "df.na.drop().show() #delete the rows with null values\n",
        "#how\n",
        "df.na.drop(how=\"all\") #if all the values of the row is null, then it will delete\n",
        "df.na.drop(how=\"any\") #if any null value is there, then delete the entire row\n",
        "#default value = any\n",
        "\n",
        "#thresh\n",
        "df.na.drop(thresh=2) #Atleadt two non null values should be there to not delete  \n",
        "#the row. If the non null values are less than 2, then delete rows.\n",
        "#default value is 0\n",
        "\n",
        "#subset\n",
        "df.na.drop(subset=[\"Name\"]) # if there any null in the Name column, those rows will \n",
        "#be delete\n"
      ],
      "metadata": {
        "colab": {
          "base_uri": "https://localhost:8080/"
        },
        "id": "HyWdN9fkzTXU",
        "outputId": "b388b7e4-c824-4178-98fa-37af19901336"
      },
      "execution_count": null,
      "outputs": [
        {
          "output_type": "stream",
          "name": "stdout",
          "text": [
            "+-----+--------------------+--------------------+--------------------+--------------------+-------+--------------------+---------+-----------+\n",
            "|Index|                Name|             Website|             Country|         Description|Founded|            Industry|Employees|Current age|\n",
            "+-----+--------------------+--------------------+--------------------+--------------------+-------+--------------------+---------+-----------+\n",
            "|    1|         Ferrell LLC|  https://price.net/|    Papua New Guinea|Horizontal empowe...|   1990|            Plastics|     3498|         33|\n",
            "|    2|Mckinney, Riley a...|http://www.hall-b...|             Finland|User-centric syst...|   2015|Glass / Ceramics ...|     4952|          8|\n",
            "|    3|          Hester Ltd|http://sullivan-r...|               China|Switchable scalab...|   1971|       Public Safety|     5287|         52|\n",
            "|    4|      Holder-Sellers| https://becker.com/|        Turkmenistan|De-engineered sys...|   2004|          Automotive|      921|         19|\n",
            "|    5|         Mayer Group|http://www.brewer...|           Mauritius|Synchronized need...|   1991|      Transportation|     7870|         32|\n",
            "|    6|      Henry-Thompson|   http://morse.net/|             Bahamas|Face-to-face well...|   1992|Primary / Seconda...|     4914|         31|\n",
            "|    7|      Hansen-Everett|https://www.kidd....|            Pakistan|Seamless disinter...|   2018| Publishing Industry|     7832|          5|\n",
            "|    8|       Mcintosh-Mora|https://www.brook...|Heard Island and ...|Centralized attit...|   1970|     Import / Export|     4389|         53|\n",
            "|    9|            Carr Inc|    http://ross.com/|              Kuwait|Distributed impac...|   1996|            Plastics|     8167|         27|\n",
            "|   10|          Gaines Inc|http://sandoval-h...|          Uzbekistan|Multi-lateral sca...|   1997|Outsourcing / Off...|     9698|         26|\n",
            "|   11|          Kidd Group|http://www.lyons....|Bouvet Island (Bo...|Proactive foregro...|   2001|Primary / Seconda...|     7473|         22|\n",
            "|   12|        Crane-Clarke|https://www.sando...|             Denmark|Front-line clear-...|   2014|    Food / Beverages|     9011|          9|\n",
            "|   13|Keller, Campos an...|https://www.garne...|             Liberia|Ameliorated direc...|   2020|Museums / Institu...|     2862|          3|\n",
            "|   14|         Glover-Pope|http://www.silva....|United Arab Emirates|Persevering conte...|   2013|    Medical Practice|     9079|         10|\n",
            "|   15|      Pacheco-Spears|https://aguilar.com/|              Sweden|Secured logistica...|   1984|            Maritime|      769|         39|\n",
            "|   16|         Hodge-Ayers|http://www.archer...|            Honduras|Future-proofed ra...|   1990| Facilities Services|     8508|         33|\n",
            "|   17|Bowers, Guerra an...|http://www.carril...|              Uganda|De-engineered tra...|   1972|Primary / Seconda...|     6986|         51|\n",
            "|   18|     Mckenzie-Melton|http://montoya-th...|           Hong Kong|Reverse-engineere...|   1998|Investment Manage...|     4589|         25|\n",
            "|   19|         Branch-Mann|http://www.lozano...|            Botswana|Adaptive intangib...|   1999|Architecture / Pl...|     7961|         24|\n",
            "|   20|      Weiss and Sons|https://barrett.com/|               Korea|Sharable optimal ...|   2011|            Plastics|     5984|         12|\n",
            "+-----+--------------------+--------------------+--------------------+--------------------+-------+--------------------+---------+-----------+\n",
            "only showing top 20 rows\n",
            "\n"
          ]
        }
      ]
    },
    {
      "cell_type": "code",
      "source": [
        "## fill the missing value.\n",
        "df.na.fill('Missing') # all null values changed with Missing\n",
        "df.na.fill(\"Missing\", \"Name\") # Null values in the name column replaced with the word Missing\n"
      ],
      "metadata": {
        "colab": {
          "base_uri": "https://localhost:8080/"
        },
        "id": "U4ddNaTDzqFB",
        "outputId": "23d8d1c1-0a81-40bd-cdd2-3af900ca07f5"
      },
      "execution_count": null,
      "outputs": [
        {
          "output_type": "execute_result",
          "data": {
            "text/plain": [
              "DataFrame[Index: int, Name: string, Website: string, Country: string, Description: string, Founded: int, Industry: string, Employees: int, Current age: int]"
            ]
          },
          "metadata": {},
          "execution_count": 61
        }
      ]
    },
    {
      "cell_type": "code",
      "source": [
        "#filter operations\n",
        "df.show()"
      ],
      "metadata": {
        "colab": {
          "base_uri": "https://localhost:8080/"
        },
        "id": "nSwRET9t2hDi",
        "outputId": "35700ba1-825c-4bd9-a631-7a72ebd83de7"
      },
      "execution_count": null,
      "outputs": [
        {
          "output_type": "stream",
          "name": "stdout",
          "text": [
            "+-----+--------------------+--------------------+--------------------+--------------------+-------+--------------------+---------+-----------+\n",
            "|Index|                Name|             Website|             Country|         Description|Founded|            Industry|Employees|Current age|\n",
            "+-----+--------------------+--------------------+--------------------+--------------------+-------+--------------------+---------+-----------+\n",
            "|    1|         Ferrell LLC|  https://price.net/|    Papua New Guinea|Horizontal empowe...|   1990|            Plastics|     3498|         33|\n",
            "|    2|Mckinney, Riley a...|http://www.hall-b...|             Finland|User-centric syst...|   2015|Glass / Ceramics ...|     4952|          8|\n",
            "|    3|          Hester Ltd|http://sullivan-r...|               China|Switchable scalab...|   1971|       Public Safety|     5287|         52|\n",
            "|    4|      Holder-Sellers| https://becker.com/|        Turkmenistan|De-engineered sys...|   2004|          Automotive|      921|         19|\n",
            "|    5|         Mayer Group|http://www.brewer...|           Mauritius|Synchronized need...|   1991|      Transportation|     7870|         32|\n",
            "|    6|      Henry-Thompson|   http://morse.net/|             Bahamas|Face-to-face well...|   1992|Primary / Seconda...|     4914|         31|\n",
            "|    7|      Hansen-Everett|https://www.kidd....|            Pakistan|Seamless disinter...|   2018| Publishing Industry|     7832|          5|\n",
            "|    8|       Mcintosh-Mora|https://www.brook...|Heard Island and ...|Centralized attit...|   1970|     Import / Export|     4389|         53|\n",
            "|    9|            Carr Inc|    http://ross.com/|              Kuwait|Distributed impac...|   1996|            Plastics|     8167|         27|\n",
            "|   10|          Gaines Inc|http://sandoval-h...|          Uzbekistan|Multi-lateral sca...|   1997|Outsourcing / Off...|     9698|         26|\n",
            "|   11|          Kidd Group|http://www.lyons....|Bouvet Island (Bo...|Proactive foregro...|   2001|Primary / Seconda...|     7473|         22|\n",
            "|   12|        Crane-Clarke|https://www.sando...|             Denmark|Front-line clear-...|   2014|    Food / Beverages|     9011|          9|\n",
            "|   13|Keller, Campos an...|https://www.garne...|             Liberia|Ameliorated direc...|   2020|Museums / Institu...|     2862|          3|\n",
            "|   14|         Glover-Pope|http://www.silva....|United Arab Emirates|Persevering conte...|   2013|    Medical Practice|     9079|         10|\n",
            "|   15|      Pacheco-Spears|https://aguilar.com/|              Sweden|Secured logistica...|   1984|            Maritime|      769|         39|\n",
            "|   16|         Hodge-Ayers|http://www.archer...|            Honduras|Future-proofed ra...|   1990| Facilities Services|     8508|         33|\n",
            "|   17|Bowers, Guerra an...|http://www.carril...|              Uganda|De-engineered tra...|   1972|Primary / Seconda...|     6986|         51|\n",
            "|   18|     Mckenzie-Melton|http://montoya-th...|           Hong Kong|Reverse-engineere...|   1998|Investment Manage...|     4589|         25|\n",
            "|   19|         Branch-Mann|http://www.lozano...|            Botswana|Adaptive intangib...|   1999|Architecture / Pl...|     7961|         24|\n",
            "|   20|      Weiss and Sons|https://barrett.com/|               Korea|Sharable optimal ...|   2011|            Plastics|     5984|         12|\n",
            "+-----+--------------------+--------------------+--------------------+--------------------+-------+--------------------+---------+-----------+\n",
            "only showing top 20 rows\n",
            "\n"
          ]
        }
      ]
    },
    {
      "cell_type": "code",
      "source": [
        "df.filter(\"Founded<1990\").show()"
      ],
      "metadata": {
        "colab": {
          "base_uri": "https://localhost:8080/"
        },
        "id": "di3Ew7Kl3h9L",
        "outputId": "7268717f-85a4-4fab-80ea-cc6b5168a719"
      },
      "execution_count": null,
      "outputs": [
        {
          "output_type": "stream",
          "name": "stdout",
          "text": [
            "+-----+--------------------+--------------------+--------------------+--------------------+-------+--------------------+---------+-----------+\n",
            "|Index|                Name|             Website|             Country|         Description|Founded|            Industry|Employees|Current age|\n",
            "+-----+--------------------+--------------------+--------------------+--------------------+-------+--------------------+---------+-----------+\n",
            "|    3|          Hester Ltd|http://sullivan-r...|               China|Switchable scalab...|   1971|       Public Safety|     5287|         52|\n",
            "|    8|       Mcintosh-Mora|https://www.brook...|Heard Island and ...|Centralized attit...|   1970|     Import / Export|     4389|         53|\n",
            "|   15|      Pacheco-Spears|https://aguilar.com/|              Sweden|Secured logistica...|   1984|            Maritime|      769|         39|\n",
            "|   17|Bowers, Guerra an...|http://www.carril...|              Uganda|De-engineered tra...|   1972|Primary / Seconda...|     6986|         51|\n",
            "|   21|Velez, Payne and ...|  http://burton.com/|          Luxembourg|Mandatory coheren...|   1986|           Wholesale|     5010|         37|\n",
            "|   27|Dickson, Richmond...| http://everett.com/|      Czech Republic|Team-oriented tan...|   1980|Real Estate / Mor...|     3122|         43|\n",
            "|   28|        Prince-David|http://thompson.com/|    Christmas Island|Virtual holistic ...|   1970|  Banking / Mortgage|     1046|         53|\n",
            "|   33|      Fritz-Franklin|http://www.lamber...|               Nepal|Automated 4thgene...|   1972|         Hospitality|     4516|         51|\n",
            "|   34|         Burch-Ewing|   http://cline.net/|              Taiwan|User-centric 4thg...|   1981|Venture Capital / VC|     7443|         42|\n",
            "|   42|           Walls LLC|http://www.reese-...|          Cape Verde|Self-enabling fre...|   1989|Investment Manage...|     1678|         34|\n",
            "|   45|     Brock-Blackwell|http://www.small....|               Benin|Secured foregroun...|   1986|   Online Publishing|     7034|         37|\n",
            "|   47|     Bartlett-Arroyo|   https://cruz.com/|Northern Mariana ...|Realigned didacti...|   1976|Civic / Social Or...|     3987|         47|\n",
            "|   49|         Berg-Sparks|https://cisneros-...|              Canada|Stand-alone stati...|   1974|       Arts / Crafts|     2073|         49|\n",
            "|   50|        Gonzales Ltd|    http://bird.com/|               Tonga|Managed human-res...|   1988|      Consumer Goods|     9069|         35|\n",
            "|   52|Mcguire, Mcconnel...|https://melton-br...|               Korea|Profound client-s...|   1988|            Printing|     8445|         35|\n",
            "|   55|         Richard PLC|https://holden-co...|             Mayotte|Object-based opti...|   1971|     Broadcast Media|     4942|         52|\n",
            "|   58|          Cherry PLC|https://www.avila...|    Marshall Islands|Persistent tertia...|   1980|            Plastics|     8245|         43|\n",
            "|   61|        Freeman-Chen| https://mathis.com/|         Timor-Leste|Phased next gener...|   1973|International Tra...|      346|         50|\n",
            "|   62|          Soto Group|https://norris.info/|             Vietnam|Enterprise-wide e...|   1988|Business Supplies...|     9097|         35|\n",
            "|   63|Poole, Cruz and W...|  https://reed.info/|             Reunion|Balanced analyzin...|   1978|Marketing / Adver...|     2992|         45|\n",
            "+-----+--------------------+--------------------+--------------------+--------------------+-------+--------------------+---------+-----------+\n",
            "only showing top 20 rows\n",
            "\n"
          ]
        }
      ]
    },
    {
      "cell_type": "code",
      "source": [
        "df.filter(\"Founded>2010\").select([\"Name\", \"Country\", \"Founded\"]).show()"
      ],
      "metadata": {
        "colab": {
          "base_uri": "https://localhost:8080/"
        },
        "id": "CaPcxL0N3wQe",
        "outputId": "d578d9d4-e5df-4f6c-93b1-42645c5445e0"
      },
      "execution_count": null,
      "outputs": [
        {
          "output_type": "stream",
          "name": "stdout",
          "text": [
            "+--------------------+--------------------+-------+\n",
            "|                Name|             Country|Founded|\n",
            "+--------------------+--------------------+-------+\n",
            "|Mckinney, Riley a...|             Finland|   2015|\n",
            "|      Hansen-Everett|            Pakistan|   2018|\n",
            "|        Crane-Clarke|             Denmark|   2014|\n",
            "|Keller, Campos an...|             Liberia|   2020|\n",
            "|         Glover-Pope|United Arab Emirates|   2013|\n",
            "|      Weiss and Sons|               Korea|   2011|\n",
            "|         Harrell LLC|          Guadeloupe|   2018|\n",
            "|Eaton, Reynolds a...|              Monaco|   2014|\n",
            "|Greene, Benjamin ...|             Romania|   2012|\n",
            "|           Ayala LLC|         Philippines|   2021|\n",
            "|Glass, Barrera an...|     Kyrgyz Republic|   2020|\n",
            "|Baker, Mccann and...|               Kenya|   2013|\n",
            "|            Hahn PLC|             Belarus|   2012|\n",
            "|Mitchell, Warren ...| Trinidad and Tobago|   2021|\n",
            "|          Prince PLC|              Sweden|   2016|\n",
            "|Wallace, Madden a...|             Germany|   2016|\n",
            "|     Lawson and Sons|French Southern T...|   2021|\n",
            "|    Charles-Phillips|       Cote d'Ivoire|   2012|\n",
            "|            Odom Ltd|       Cote d'Ivoire|   2012|\n",
            "|Cherry, Le and Ca...|             Nigeria|   2017|\n",
            "+--------------------+--------------------+-------+\n",
            "only showing top 20 rows\n",
            "\n"
          ]
        }
      ]
    },
    {
      "cell_type": "code",
      "source": [
        "\n"
      ],
      "metadata": {
        "colab": {
          "base_uri": "https://localhost:8080/"
        },
        "id": "xryugZol4Gq7",
        "outputId": "d67d29cc-f87f-4daa-bd39-0138eb78826b"
      },
      "execution_count": null,
      "outputs": [
        {
          "output_type": "stream",
          "name": "stdout",
          "text": [
            "+-----+----+-------+-------+-----------+-------+--------+---------+-----------+\n",
            "|Index|Name|Website|Country|Description|Founded|Industry|Employees|Current age|\n",
            "+-----+----+-------+-------+-----------+-------+--------+---------+-----------+\n",
            "+-----+----+-------+-------+-----------+-------+--------+---------+-----------+\n",
            "\n"
          ]
        }
      ]
    },
    {
      "cell_type": "code",
      "source": [
        "df.filter((df[\"Country\"] == \"Germany\") & (df[\"Founded\"]<2000)).show()"
      ],
      "metadata": {
        "colab": {
          "base_uri": "https://localhost:8080/"
        },
        "id": "VT4XLKcE4SBt",
        "outputId": "48ec551a-e89a-468a-a3f2-edd3382dd0f3"
      },
      "execution_count": null,
      "outputs": [
        {
          "output_type": "stream",
          "name": "stdout",
          "text": [
            "+-----+----+-------+-------+-----------+-------+--------+---------+-----------+\n",
            "|Index|Name|Website|Country|Description|Founded|Industry|Employees|Current age|\n",
            "+-----+----+-------+-------+-----------+-------+--------+---------+-----------+\n",
            "+-----+----+-------+-------+-----------+-------+--------+---------+-----------+\n",
            "\n"
          ]
        }
      ]
    },
    {
      "cell_type": "code",
      "source": [
        "df.filter(~(df[\"Founded\"]<2000)).show()  #inverse operator: Make the inverse of the condition"
      ],
      "metadata": {
        "colab": {
          "base_uri": "https://localhost:8080/"
        },
        "id": "9JjlJ6Uy5MGI",
        "outputId": "6b1ecce1-cdc0-4479-ab20-73da95bc2599"
      },
      "execution_count": null,
      "outputs": [
        {
          "output_type": "stream",
          "name": "stdout",
          "text": [
            "+-----+--------------------+--------------------+--------------------+--------------------+-------+--------------------+---------+-----------+\n",
            "|Index|                Name|             Website|             Country|         Description|Founded|            Industry|Employees|Current age|\n",
            "+-----+--------------------+--------------------+--------------------+--------------------+-------+--------------------+---------+-----------+\n",
            "|    2|Mckinney, Riley a...|http://www.hall-b...|             Finland|User-centric syst...|   2015|Glass / Ceramics ...|     4952|          8|\n",
            "|    4|      Holder-Sellers| https://becker.com/|        Turkmenistan|De-engineered sys...|   2004|          Automotive|      921|         19|\n",
            "|    7|      Hansen-Everett|https://www.kidd....|            Pakistan|Seamless disinter...|   2018| Publishing Industry|     7832|          5|\n",
            "|   11|          Kidd Group|http://www.lyons....|Bouvet Island (Bo...|Proactive foregro...|   2001|Primary / Seconda...|     7473|         22|\n",
            "|   12|        Crane-Clarke|https://www.sando...|             Denmark|Front-line clear-...|   2014|    Food / Beverages|     9011|          9|\n",
            "|   13|Keller, Campos an...|https://www.garne...|             Liberia|Ameliorated direc...|   2020|Museums / Institu...|     2862|          3|\n",
            "|   14|         Glover-Pope|http://www.silva....|United Arab Emirates|Persevering conte...|   2013|    Medical Practice|     9079|         10|\n",
            "|   20|      Weiss and Sons|https://barrett.com/|               Korea|Sharable optimal ...|   2011|            Plastics|     5984|         12|\n",
            "|   22|         Harrell LLC|http://www.frey-r...|          Guadeloupe|Reverse-engineere...|   2018|        Construction|     2185|          5|\n",
            "|   23|Eaton, Reynolds a...|http://www.freema...|              Monaco|Self-enabling mul...|   2014|Luxury Goods / Je...|     8987|          9|\n",
            "|   25|         Jenkins Inc|http://www.kirk.biz/|        South Africa|Front-line system...|   2002|           Insurance|     1215|         21|\n",
            "|   26|Greene, Benjamin ...|http://www.kent.net/|             Romania|Centralized leadi...|   2012|Museums / Institu...|     4941|         11|\n",
            "|   29|           Ayala LLC|http://www.zhang....|         Philippines|Open-source zero ...|   2021|      Legal Services|     7664|          2|\n",
            "|   35|Glass, Barrera an...| https://dunlap.com/|     Kyrgyz Republic|Multi-channeled 3...|   2020|           Utilities|     2610|          3|\n",
            "|   36|          Pineda-Cox| http://aguilar.org/|             Bolivia|Fundamental async...|   2010|Human Resources / HR|     1312|         13|\n",
            "|   37|Baker, Mccann and...|http://www.anders...|               Kenya|Cross-group user-...|   2013|  Legislative Office|     1638|         10|\n",
            "|   39|            Hahn PLC|  http://newman.com/|             Belarus|Organic logistica...|   2012|Electrical / Elec...|     3715|         11|\n",
            "|   41|          Arroyo Inc|https://www.turne...|             Grenada|Managed demand-dr...|   2006|   Writing / Editing|     9067|         17|\n",
            "|   43|Mitchell, Warren ...|    https://fox.biz/| Trinidad and Tobago|Enhanced intangib...|   2021|Capital Markets /...|     3816|          2|\n",
            "|   44|          Prince PLC|https://www.watts...|              Sweden|Profit-focused co...|   2016|Individual / Fami...|     7645|          7|\n",
            "+-----+--------------------+--------------------+--------------------+--------------------+-------+--------------------+---------+-----------+\n",
            "only showing top 20 rows\n",
            "\n"
          ]
        }
      ]
    },
    {
      "cell_type": "code",
      "source": [],
      "metadata": {
        "id": "Hbu_Ky6P5i3B"
      },
      "execution_count": null,
      "outputs": []
    }
  ]
}