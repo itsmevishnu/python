{
  "nbformat": 4,
  "nbformat_minor": 0,
  "metadata": {
    "colab": {
      "provenance": [],
      "authorship_tag": "ABX9TyPRtOjEX9pVXuVionOSOgIo"
    },
    "kernelspec": {
      "name": "python3",
      "display_name": "Python 3"
    },
    "language_info": {
      "name": "python"
    }
  },
  "cells": [
    {
      "cell_type": "code",
      "execution_count": 1,
      "metadata": {
        "id": "Us64OxhzMZ4A",
        "colab": {
          "base_uri": "https://localhost:8080/"
        },
        "outputId": "48bc1df1-f415-4efc-df25-54c60f1a0617"
      },
      "outputs": [
        {
          "output_type": "stream",
          "name": "stdout",
          "text": [
            "Looking in indexes: https://pypi.org/simple, https://us-python.pkg.dev/colab-wheels/public/simple/\n",
            "Requirement already satisfied: geopy in /usr/local/lib/python3.9/dist-packages (2.3.0)\n",
            "Requirement already satisfied: geographiclib<3,>=1.52 in /usr/local/lib/python3.9/dist-packages (from geopy) (2.0)\n"
          ]
        }
      ],
      "source": [
        "!pip install geopy"
      ]
    },
    {
      "cell_type": "code",
      "source": [
        "import datetime"
      ],
      "metadata": {
        "id": "HeOKrHFh9XQA"
      },
      "execution_count": null,
      "outputs": []
    },
    {
      "cell_type": "code",
      "source": [],
      "metadata": {
        "colab": {
          "base_uri": "https://localhost:8080/",
          "height": 172
        },
        "id": "vtb-isx19ePl",
        "outputId": "f76f8e2d-a0d1-496c-cc69-6fb16f51f247"
      },
      "execution_count": null,
      "outputs": [
        {
          "output_type": "error",
          "ename": "OverflowError",
          "evalue": "ignored",
          "traceback": [
            "\u001b[0;31m---------------------------------------------------------------------------\u001b[0m",
            "\u001b[0;31mOverflowError\u001b[0m                             Traceback (most recent call last)",
            "\u001b[0;32m<ipython-input-3-8c7544169a8e>\u001b[0m in \u001b[0;36m<module>\u001b[0;34m\u001b[0m\n\u001b[0;32m----> 1\u001b[0;31m \u001b[0mdatetime\u001b[0m\u001b[0;34m.\u001b[0m\u001b[0mdatetime\u001b[0m\u001b[0;34m(\u001b[0m\u001b[0;36m1645779720000\u001b[0m\u001b[0;34m)\u001b[0m\u001b[0;34m\u001b[0m\u001b[0;34m\u001b[0m\u001b[0m\n\u001b[0m",
            "\u001b[0;31mOverflowError\u001b[0m: signed integer is greater than maximum"
          ]
        }
      ]
    },
    {
      "cell_type": "code",
      "source": [
        "import pandas as pd\n",
        "from google.colab import files\n",
        "import seaborn as sns"
      ],
      "metadata": {
        "id": "RMylm4DcMk-L"
      },
      "execution_count": null,
      "outputs": []
    },
    {
      "cell_type": "code",
      "source": [
        "import numpy as np"
      ],
      "metadata": {
        "id": "nOxFYmfyMshH"
      },
      "execution_count": null,
      "outputs": []
    },
    {
      "cell_type": "code",
      "source": [
        "import matplotlib.pyplot as plt\n",
        "from geopy.geocoders import Nominatim"
      ],
      "metadata": {
        "id": "2dnUyJQv4to6"
      },
      "execution_count": null,
      "outputs": []
    },
    {
      "cell_type": "code",
      "source": [
        "df = pd.read_csv('out.csv')"
      ],
      "metadata": {
        "id": "3kBz2pbQ44Al"
      },
      "execution_count": null,
      "outputs": []
    },
    {
      "cell_type": "code",
      "source": [
        "df.head()"
      ],
      "metadata": {
        "colab": {
          "base_uri": "https://localhost:8080/",
          "height": 206
        },
        "id": "EiV68mOd5B73",
        "outputId": "06e4428d-6db7-416c-95cf-ba9a4e5b16cc"
      },
      "execution_count": null,
      "outputs": [
        {
          "output_type": "execute_result",
          "data": {
            "text/plain": [
              "         Status of Moratorium Industrial Cluster / Area          State  \\\n",
              "0  Moratorium has been lifted                      Agra  Uttar Pradesh   \n",
              "1  Moratorium has been lifted                 Ahmedabad        Gujarat   \n",
              "2  Moratorium has been lifted             Angul Talcher         Orissa   \n",
              "3  Moratorium has been lifted                   Asansol    West Bengal   \n",
              "4  Moratorium has been lifted                Aurangabad    Maharashtra   \n",
              "\n",
              "   CEPI SCORE-2009  CEPI SCORE-2011  CEPI SCORE-2013  \n",
              "0            76.48            88.36            68.71  \n",
              "1            75.28            78.09            69.54  \n",
              "2            82.09            89.74            72.86  \n",
              "3            70.20            70.96            56.01  \n",
              "4            77.44            83.10            68.87  "
            ],
            "text/html": [
              "\n",
              "  <div id=\"df-589c3a03-d8ba-47fb-91eb-af0b0ffc7b0b\">\n",
              "    <div class=\"colab-df-container\">\n",
              "      <div>\n",
              "<style scoped>\n",
              "    .dataframe tbody tr th:only-of-type {\n",
              "        vertical-align: middle;\n",
              "    }\n",
              "\n",
              "    .dataframe tbody tr th {\n",
              "        vertical-align: top;\n",
              "    }\n",
              "\n",
              "    .dataframe thead th {\n",
              "        text-align: right;\n",
              "    }\n",
              "</style>\n",
              "<table border=\"1\" class=\"dataframe\">\n",
              "  <thead>\n",
              "    <tr style=\"text-align: right;\">\n",
              "      <th></th>\n",
              "      <th>Status of Moratorium</th>\n",
              "      <th>Industrial Cluster / Area</th>\n",
              "      <th>State</th>\n",
              "      <th>CEPI SCORE-2009</th>\n",
              "      <th>CEPI SCORE-2011</th>\n",
              "      <th>CEPI SCORE-2013</th>\n",
              "    </tr>\n",
              "  </thead>\n",
              "  <tbody>\n",
              "    <tr>\n",
              "      <th>0</th>\n",
              "      <td>Moratorium has been lifted</td>\n",
              "      <td>Agra</td>\n",
              "      <td>Uttar Pradesh</td>\n",
              "      <td>76.48</td>\n",
              "      <td>88.36</td>\n",
              "      <td>68.71</td>\n",
              "    </tr>\n",
              "    <tr>\n",
              "      <th>1</th>\n",
              "      <td>Moratorium has been lifted</td>\n",
              "      <td>Ahmedabad</td>\n",
              "      <td>Gujarat</td>\n",
              "      <td>75.28</td>\n",
              "      <td>78.09</td>\n",
              "      <td>69.54</td>\n",
              "    </tr>\n",
              "    <tr>\n",
              "      <th>2</th>\n",
              "      <td>Moratorium has been lifted</td>\n",
              "      <td>Angul Talcher</td>\n",
              "      <td>Orissa</td>\n",
              "      <td>82.09</td>\n",
              "      <td>89.74</td>\n",
              "      <td>72.86</td>\n",
              "    </tr>\n",
              "    <tr>\n",
              "      <th>3</th>\n",
              "      <td>Moratorium has been lifted</td>\n",
              "      <td>Asansol</td>\n",
              "      <td>West Bengal</td>\n",
              "      <td>70.20</td>\n",
              "      <td>70.96</td>\n",
              "      <td>56.01</td>\n",
              "    </tr>\n",
              "    <tr>\n",
              "      <th>4</th>\n",
              "      <td>Moratorium has been lifted</td>\n",
              "      <td>Aurangabad</td>\n",
              "      <td>Maharashtra</td>\n",
              "      <td>77.44</td>\n",
              "      <td>83.10</td>\n",
              "      <td>68.87</td>\n",
              "    </tr>\n",
              "  </tbody>\n",
              "</table>\n",
              "</div>\n",
              "      <button class=\"colab-df-convert\" onclick=\"convertToInteractive('df-589c3a03-d8ba-47fb-91eb-af0b0ffc7b0b')\"\n",
              "              title=\"Convert this dataframe to an interactive table.\"\n",
              "              style=\"display:none;\">\n",
              "        \n",
              "  <svg xmlns=\"http://www.w3.org/2000/svg\" height=\"24px\"viewBox=\"0 0 24 24\"\n",
              "       width=\"24px\">\n",
              "    <path d=\"M0 0h24v24H0V0z\" fill=\"none\"/>\n",
              "    <path d=\"M18.56 5.44l.94 2.06.94-2.06 2.06-.94-2.06-.94-.94-2.06-.94 2.06-2.06.94zm-11 1L8.5 8.5l.94-2.06 2.06-.94-2.06-.94L8.5 2.5l-.94 2.06-2.06.94zm10 10l.94 2.06.94-2.06 2.06-.94-2.06-.94-.94-2.06-.94 2.06-2.06.94z\"/><path d=\"M17.41 7.96l-1.37-1.37c-.4-.4-.92-.59-1.43-.59-.52 0-1.04.2-1.43.59L10.3 9.45l-7.72 7.72c-.78.78-.78 2.05 0 2.83L4 21.41c.39.39.9.59 1.41.59.51 0 1.02-.2 1.41-.59l7.78-7.78 2.81-2.81c.8-.78.8-2.07 0-2.86zM5.41 20L4 18.59l7.72-7.72 1.47 1.35L5.41 20z\"/>\n",
              "  </svg>\n",
              "      </button>\n",
              "      \n",
              "  <style>\n",
              "    .colab-df-container {\n",
              "      display:flex;\n",
              "      flex-wrap:wrap;\n",
              "      gap: 12px;\n",
              "    }\n",
              "\n",
              "    .colab-df-convert {\n",
              "      background-color: #E8F0FE;\n",
              "      border: none;\n",
              "      border-radius: 50%;\n",
              "      cursor: pointer;\n",
              "      display: none;\n",
              "      fill: #1967D2;\n",
              "      height: 32px;\n",
              "      padding: 0 0 0 0;\n",
              "      width: 32px;\n",
              "    }\n",
              "\n",
              "    .colab-df-convert:hover {\n",
              "      background-color: #E2EBFA;\n",
              "      box-shadow: 0px 1px 2px rgba(60, 64, 67, 0.3), 0px 1px 3px 1px rgba(60, 64, 67, 0.15);\n",
              "      fill: #174EA6;\n",
              "    }\n",
              "\n",
              "    [theme=dark] .colab-df-convert {\n",
              "      background-color: #3B4455;\n",
              "      fill: #D2E3FC;\n",
              "    }\n",
              "\n",
              "    [theme=dark] .colab-df-convert:hover {\n",
              "      background-color: #434B5C;\n",
              "      box-shadow: 0px 1px 3px 1px rgba(0, 0, 0, 0.15);\n",
              "      filter: drop-shadow(0px 1px 2px rgba(0, 0, 0, 0.3));\n",
              "      fill: #FFFFFF;\n",
              "    }\n",
              "  </style>\n",
              "\n",
              "      <script>\n",
              "        const buttonEl =\n",
              "          document.querySelector('#df-589c3a03-d8ba-47fb-91eb-af0b0ffc7b0b button.colab-df-convert');\n",
              "        buttonEl.style.display =\n",
              "          google.colab.kernel.accessAllowed ? 'block' : 'none';\n",
              "\n",
              "        async function convertToInteractive(key) {\n",
              "          const element = document.querySelector('#df-589c3a03-d8ba-47fb-91eb-af0b0ffc7b0b');\n",
              "          const dataTable =\n",
              "            await google.colab.kernel.invokeFunction('convertToInteractive',\n",
              "                                                     [key], {});\n",
              "          if (!dataTable) return;\n",
              "\n",
              "          const docLinkHtml = 'Like what you see? Visit the ' +\n",
              "            '<a target=\"_blank\" href=https://colab.research.google.com/notebooks/data_table.ipynb>data table notebook</a>'\n",
              "            + ' to learn more about interactive tables.';\n",
              "          element.innerHTML = '';\n",
              "          dataTable['output_type'] = 'display_data';\n",
              "          await google.colab.output.renderOutput(dataTable, element);\n",
              "          const docLink = document.createElement('div');\n",
              "          docLink.innerHTML = docLinkHtml;\n",
              "          element.appendChild(docLink);\n",
              "        }\n",
              "      </script>\n",
              "    </div>\n",
              "  </div>\n",
              "  "
            ]
          },
          "metadata": {},
          "execution_count": 57
        }
      ]
    },
    {
      "cell_type": "code",
      "source": [
        "df[\"location\"] = df[\"Industrial Cluster / Area\"] + \", \"+ df[\"State\"]"
      ],
      "metadata": {
        "id": "zph2YHJi55FC"
      },
      "execution_count": null,
      "outputs": []
    },
    {
      "cell_type": "code",
      "source": [
        "df.head(3)"
      ],
      "metadata": {
        "colab": {
          "base_uri": "https://localhost:8080/",
          "height": 143
        },
        "id": "6Y1qujfG5Dkp",
        "outputId": "07df384b-020f-455d-937c-3c34c6faa385"
      },
      "execution_count": null,
      "outputs": [
        {
          "output_type": "execute_result",
          "data": {
            "text/plain": [
              "         Status of Moratorium Industrial Cluster / Area          State  \\\n",
              "0  Moratorium has been lifted                      Agra  Uttar Pradesh   \n",
              "1  Moratorium has been lifted                 Ahmedabad        Gujarat   \n",
              "2  Moratorium has been lifted             Angul Talcher         Orissa   \n",
              "\n",
              "   CEPI SCORE-2009  CEPI SCORE-2011  CEPI SCORE-2013               location  \n",
              "0            76.48            88.36            68.71    Agra, Uttar Pradesh  \n",
              "1            75.28            78.09            69.54     Ahmedabad, Gujarat  \n",
              "2            82.09            89.74            72.86  Angul Talcher, Orissa  "
            ],
            "text/html": [
              "\n",
              "  <div id=\"df-17561f4b-bd76-4504-bf07-ea8bc4237629\">\n",
              "    <div class=\"colab-df-container\">\n",
              "      <div>\n",
              "<style scoped>\n",
              "    .dataframe tbody tr th:only-of-type {\n",
              "        vertical-align: middle;\n",
              "    }\n",
              "\n",
              "    .dataframe tbody tr th {\n",
              "        vertical-align: top;\n",
              "    }\n",
              "\n",
              "    .dataframe thead th {\n",
              "        text-align: right;\n",
              "    }\n",
              "</style>\n",
              "<table border=\"1\" class=\"dataframe\">\n",
              "  <thead>\n",
              "    <tr style=\"text-align: right;\">\n",
              "      <th></th>\n",
              "      <th>Status of Moratorium</th>\n",
              "      <th>Industrial Cluster / Area</th>\n",
              "      <th>State</th>\n",
              "      <th>CEPI SCORE-2009</th>\n",
              "      <th>CEPI SCORE-2011</th>\n",
              "      <th>CEPI SCORE-2013</th>\n",
              "      <th>location</th>\n",
              "    </tr>\n",
              "  </thead>\n",
              "  <tbody>\n",
              "    <tr>\n",
              "      <th>0</th>\n",
              "      <td>Moratorium has been lifted</td>\n",
              "      <td>Agra</td>\n",
              "      <td>Uttar Pradesh</td>\n",
              "      <td>76.48</td>\n",
              "      <td>88.36</td>\n",
              "      <td>68.71</td>\n",
              "      <td>Agra, Uttar Pradesh</td>\n",
              "    </tr>\n",
              "    <tr>\n",
              "      <th>1</th>\n",
              "      <td>Moratorium has been lifted</td>\n",
              "      <td>Ahmedabad</td>\n",
              "      <td>Gujarat</td>\n",
              "      <td>75.28</td>\n",
              "      <td>78.09</td>\n",
              "      <td>69.54</td>\n",
              "      <td>Ahmedabad, Gujarat</td>\n",
              "    </tr>\n",
              "    <tr>\n",
              "      <th>2</th>\n",
              "      <td>Moratorium has been lifted</td>\n",
              "      <td>Angul Talcher</td>\n",
              "      <td>Orissa</td>\n",
              "      <td>82.09</td>\n",
              "      <td>89.74</td>\n",
              "      <td>72.86</td>\n",
              "      <td>Angul Talcher, Orissa</td>\n",
              "    </tr>\n",
              "  </tbody>\n",
              "</table>\n",
              "</div>\n",
              "      <button class=\"colab-df-convert\" onclick=\"convertToInteractive('df-17561f4b-bd76-4504-bf07-ea8bc4237629')\"\n",
              "              title=\"Convert this dataframe to an interactive table.\"\n",
              "              style=\"display:none;\">\n",
              "        \n",
              "  <svg xmlns=\"http://www.w3.org/2000/svg\" height=\"24px\"viewBox=\"0 0 24 24\"\n",
              "       width=\"24px\">\n",
              "    <path d=\"M0 0h24v24H0V0z\" fill=\"none\"/>\n",
              "    <path d=\"M18.56 5.44l.94 2.06.94-2.06 2.06-.94-2.06-.94-.94-2.06-.94 2.06-2.06.94zm-11 1L8.5 8.5l.94-2.06 2.06-.94-2.06-.94L8.5 2.5l-.94 2.06-2.06.94zm10 10l.94 2.06.94-2.06 2.06-.94-2.06-.94-.94-2.06-.94 2.06-2.06.94z\"/><path d=\"M17.41 7.96l-1.37-1.37c-.4-.4-.92-.59-1.43-.59-.52 0-1.04.2-1.43.59L10.3 9.45l-7.72 7.72c-.78.78-.78 2.05 0 2.83L4 21.41c.39.39.9.59 1.41.59.51 0 1.02-.2 1.41-.59l7.78-7.78 2.81-2.81c.8-.78.8-2.07 0-2.86zM5.41 20L4 18.59l7.72-7.72 1.47 1.35L5.41 20z\"/>\n",
              "  </svg>\n",
              "      </button>\n",
              "      \n",
              "  <style>\n",
              "    .colab-df-container {\n",
              "      display:flex;\n",
              "      flex-wrap:wrap;\n",
              "      gap: 12px;\n",
              "    }\n",
              "\n",
              "    .colab-df-convert {\n",
              "      background-color: #E8F0FE;\n",
              "      border: none;\n",
              "      border-radius: 50%;\n",
              "      cursor: pointer;\n",
              "      display: none;\n",
              "      fill: #1967D2;\n",
              "      height: 32px;\n",
              "      padding: 0 0 0 0;\n",
              "      width: 32px;\n",
              "    }\n",
              "\n",
              "    .colab-df-convert:hover {\n",
              "      background-color: #E2EBFA;\n",
              "      box-shadow: 0px 1px 2px rgba(60, 64, 67, 0.3), 0px 1px 3px 1px rgba(60, 64, 67, 0.15);\n",
              "      fill: #174EA6;\n",
              "    }\n",
              "\n",
              "    [theme=dark] .colab-df-convert {\n",
              "      background-color: #3B4455;\n",
              "      fill: #D2E3FC;\n",
              "    }\n",
              "\n",
              "    [theme=dark] .colab-df-convert:hover {\n",
              "      background-color: #434B5C;\n",
              "      box-shadow: 0px 1px 3px 1px rgba(0, 0, 0, 0.15);\n",
              "      filter: drop-shadow(0px 1px 2px rgba(0, 0, 0, 0.3));\n",
              "      fill: #FFFFFF;\n",
              "    }\n",
              "  </style>\n",
              "\n",
              "      <script>\n",
              "        const buttonEl =\n",
              "          document.querySelector('#df-17561f4b-bd76-4504-bf07-ea8bc4237629 button.colab-df-convert');\n",
              "        buttonEl.style.display =\n",
              "          google.colab.kernel.accessAllowed ? 'block' : 'none';\n",
              "\n",
              "        async function convertToInteractive(key) {\n",
              "          const element = document.querySelector('#df-17561f4b-bd76-4504-bf07-ea8bc4237629');\n",
              "          const dataTable =\n",
              "            await google.colab.kernel.invokeFunction('convertToInteractive',\n",
              "                                                     [key], {});\n",
              "          if (!dataTable) return;\n",
              "\n",
              "          const docLinkHtml = 'Like what you see? Visit the ' +\n",
              "            '<a target=\"_blank\" href=https://colab.research.google.com/notebooks/data_table.ipynb>data table notebook</a>'\n",
              "            + ' to learn more about interactive tables.';\n",
              "          element.innerHTML = '';\n",
              "          dataTable['output_type'] = 'display_data';\n",
              "          await google.colab.output.renderOutput(dataTable, element);\n",
              "          const docLink = document.createElement('div');\n",
              "          docLink.innerHTML = docLinkHtml;\n",
              "          element.appendChild(docLink);\n",
              "        }\n",
              "      </script>\n",
              "    </div>\n",
              "  </div>\n",
              "  "
            ]
          },
          "metadata": {},
          "execution_count": 59
        }
      ]
    },
    {
      "cell_type": "code",
      "source": [
        "geo_location = Nominatim(user_agent=\"vishnu_cepi_calculation\")"
      ],
      "metadata": {
        "id": "KQqHub015Pyz"
      },
      "execution_count": null,
      "outputs": []
    },
    {
      "cell_type": "code",
      "source": [
        "location = geo_location.geocode('Angul Talcher, Orissa')"
      ],
      "metadata": {
        "id": "SsgDqs3063X-"
      },
      "execution_count": null,
      "outputs": []
    },
    {
      "cell_type": "code",
      "source": [
        "location.latitude"
      ],
      "metadata": {
        "colab": {
          "base_uri": "https://localhost:8080/"
        },
        "id": "K_t_jKWy7HK1",
        "outputId": "3f750af4-e1eb-4a45-bca8-905fe685ca21"
      },
      "execution_count": null,
      "outputs": [
        {
          "output_type": "execute_result",
          "data": {
            "text/plain": [
              "Location(Angul, Angul - Talcher Road, Angul, Anugul, Odisha, 759123, India, (20.8602508, 85.1021043, 0.0))"
            ]
          },
          "metadata": {},
          "execution_count": 23
        }
      ]
    },
    {
      "cell_type": "code",
      "source": [
        "def find_lat_long(location):\n",
        "  geo_location = Nominatim(user_agent=\"vishnu_cepi_calculation\")\n",
        "  try:\n",
        "    loc_details = geo_location.geocode(location)\n",
        "    return [loc_details.latitude, loc_details.longitude]\n",
        "  except:\n",
        "      return None, None"
      ],
      "metadata": {
        "id": "OvvYyMkf7IUX"
      },
      "execution_count": null,
      "outputs": []
    },
    {
      "cell_type": "code",
      "source": [
        "a, b = find_lat_long('Angul Talcher, Orissa')"
      ],
      "metadata": {
        "id": "jC3a5j5Y7La_"
      },
      "execution_count": null,
      "outputs": []
    },
    {
      "cell_type": "code",
      "source": [
        "df[\"lat_long\"] = df[\"location\"].map(find_lat_long, na_action=\"ignore\")"
      ],
      "metadata": {
        "id": "lgZYhCLK8P1W"
      },
      "execution_count": null,
      "outputs": []
    },
    {
      "cell_type": "code",
      "source": [
        "df.head()"
      ],
      "metadata": {
        "colab": {
          "base_uri": "https://localhost:8080/",
          "height": 478
        },
        "id": "CCu8CFxX9Vv-",
        "outputId": "dae807bf-8a57-4e44-e709-1ce4fb644a74"
      },
      "execution_count": null,
      "outputs": [
        {
          "output_type": "execute_result",
          "data": {
            "text/plain": [
              "   Unnamed: 0        Status of Moratorium Industrial Cluster / Area  \\\n",
              "0           0  Moratorium has been lifted                      Agra   \n",
              "1           1  Moratorium has been lifted                 Ahmedabad   \n",
              "2           2  Moratorium has been lifted             Angul Talcher   \n",
              "3           3  Moratorium has been lifted                   Asansol   \n",
              "4           4  Moratorium has been lifted                Aurangabad   \n",
              "\n",
              "           State  CEPI SCORE-2009  CEPI SCORE-2011  CEPI SCORE-2013  \\\n",
              "0  Uttar Pradesh            76.48            88.36            68.71   \n",
              "1        Gujarat            75.28            78.09            69.54   \n",
              "2         Orissa            82.09            89.74            72.86   \n",
              "3    West Bengal            70.20            70.96            56.01   \n",
              "4    Maharashtra            77.44            83.10            68.87   \n",
              "\n",
              "                  location                  lat_long   latitude  longitude  \n",
              "0      Agra, Uttar Pradesh  [27.1752554, 78.0098161]  27.175255  78.009816  \n",
              "1       Ahmedabad, Gujarat  [23.0216238, 72.5797068]  23.021624  72.579707  \n",
              "2    Angul Talcher, Orissa  [20.8602508, 85.1021043]  20.860251  85.102104  \n",
              "3     Asansol, West Bengal  [23.6871297, 86.9746587]  23.687130  86.974659  \n",
              "4  Aurangabad, Maharashtra   [19.877263, 75.3390241]  19.877263  75.339024  "
            ],
            "text/html": [
              "\n",
              "  <div id=\"df-321cd23a-9d5c-4ed2-bb7f-2a31784668da\">\n",
              "    <div class=\"colab-df-container\">\n",
              "      <div>\n",
              "<style scoped>\n",
              "    .dataframe tbody tr th:only-of-type {\n",
              "        vertical-align: middle;\n",
              "    }\n",
              "\n",
              "    .dataframe tbody tr th {\n",
              "        vertical-align: top;\n",
              "    }\n",
              "\n",
              "    .dataframe thead th {\n",
              "        text-align: right;\n",
              "    }\n",
              "</style>\n",
              "<table border=\"1\" class=\"dataframe\">\n",
              "  <thead>\n",
              "    <tr style=\"text-align: right;\">\n",
              "      <th></th>\n",
              "      <th>Unnamed: 0</th>\n",
              "      <th>Status of Moratorium</th>\n",
              "      <th>Industrial Cluster / Area</th>\n",
              "      <th>State</th>\n",
              "      <th>CEPI SCORE-2009</th>\n",
              "      <th>CEPI SCORE-2011</th>\n",
              "      <th>CEPI SCORE-2013</th>\n",
              "      <th>location</th>\n",
              "      <th>lat_long</th>\n",
              "      <th>latitude</th>\n",
              "      <th>longitude</th>\n",
              "    </tr>\n",
              "  </thead>\n",
              "  <tbody>\n",
              "    <tr>\n",
              "      <th>0</th>\n",
              "      <td>0</td>\n",
              "      <td>Moratorium has been lifted</td>\n",
              "      <td>Agra</td>\n",
              "      <td>Uttar Pradesh</td>\n",
              "      <td>76.48</td>\n",
              "      <td>88.36</td>\n",
              "      <td>68.71</td>\n",
              "      <td>Agra, Uttar Pradesh</td>\n",
              "      <td>[27.1752554, 78.0098161]</td>\n",
              "      <td>27.175255</td>\n",
              "      <td>78.009816</td>\n",
              "    </tr>\n",
              "    <tr>\n",
              "      <th>1</th>\n",
              "      <td>1</td>\n",
              "      <td>Moratorium has been lifted</td>\n",
              "      <td>Ahmedabad</td>\n",
              "      <td>Gujarat</td>\n",
              "      <td>75.28</td>\n",
              "      <td>78.09</td>\n",
              "      <td>69.54</td>\n",
              "      <td>Ahmedabad, Gujarat</td>\n",
              "      <td>[23.0216238, 72.5797068]</td>\n",
              "      <td>23.021624</td>\n",
              "      <td>72.579707</td>\n",
              "    </tr>\n",
              "    <tr>\n",
              "      <th>2</th>\n",
              "      <td>2</td>\n",
              "      <td>Moratorium has been lifted</td>\n",
              "      <td>Angul Talcher</td>\n",
              "      <td>Orissa</td>\n",
              "      <td>82.09</td>\n",
              "      <td>89.74</td>\n",
              "      <td>72.86</td>\n",
              "      <td>Angul Talcher, Orissa</td>\n",
              "      <td>[20.8602508, 85.1021043]</td>\n",
              "      <td>20.860251</td>\n",
              "      <td>85.102104</td>\n",
              "    </tr>\n",
              "    <tr>\n",
              "      <th>3</th>\n",
              "      <td>3</td>\n",
              "      <td>Moratorium has been lifted</td>\n",
              "      <td>Asansol</td>\n",
              "      <td>West Bengal</td>\n",
              "      <td>70.20</td>\n",
              "      <td>70.96</td>\n",
              "      <td>56.01</td>\n",
              "      <td>Asansol, West Bengal</td>\n",
              "      <td>[23.6871297, 86.9746587]</td>\n",
              "      <td>23.687130</td>\n",
              "      <td>86.974659</td>\n",
              "    </tr>\n",
              "    <tr>\n",
              "      <th>4</th>\n",
              "      <td>4</td>\n",
              "      <td>Moratorium has been lifted</td>\n",
              "      <td>Aurangabad</td>\n",
              "      <td>Maharashtra</td>\n",
              "      <td>77.44</td>\n",
              "      <td>83.10</td>\n",
              "      <td>68.87</td>\n",
              "      <td>Aurangabad, Maharashtra</td>\n",
              "      <td>[19.877263, 75.3390241]</td>\n",
              "      <td>19.877263</td>\n",
              "      <td>75.339024</td>\n",
              "    </tr>\n",
              "  </tbody>\n",
              "</table>\n",
              "</div>\n",
              "      <button class=\"colab-df-convert\" onclick=\"convertToInteractive('df-321cd23a-9d5c-4ed2-bb7f-2a31784668da')\"\n",
              "              title=\"Convert this dataframe to an interactive table.\"\n",
              "              style=\"display:none;\">\n",
              "        \n",
              "  <svg xmlns=\"http://www.w3.org/2000/svg\" height=\"24px\"viewBox=\"0 0 24 24\"\n",
              "       width=\"24px\">\n",
              "    <path d=\"M0 0h24v24H0V0z\" fill=\"none\"/>\n",
              "    <path d=\"M18.56 5.44l.94 2.06.94-2.06 2.06-.94-2.06-.94-.94-2.06-.94 2.06-2.06.94zm-11 1L8.5 8.5l.94-2.06 2.06-.94-2.06-.94L8.5 2.5l-.94 2.06-2.06.94zm10 10l.94 2.06.94-2.06 2.06-.94-2.06-.94-.94-2.06-.94 2.06-2.06.94z\"/><path d=\"M17.41 7.96l-1.37-1.37c-.4-.4-.92-.59-1.43-.59-.52 0-1.04.2-1.43.59L10.3 9.45l-7.72 7.72c-.78.78-.78 2.05 0 2.83L4 21.41c.39.39.9.59 1.41.59.51 0 1.02-.2 1.41-.59l7.78-7.78 2.81-2.81c.8-.78.8-2.07 0-2.86zM5.41 20L4 18.59l7.72-7.72 1.47 1.35L5.41 20z\"/>\n",
              "  </svg>\n",
              "      </button>\n",
              "      \n",
              "  <style>\n",
              "    .colab-df-container {\n",
              "      display:flex;\n",
              "      flex-wrap:wrap;\n",
              "      gap: 12px;\n",
              "    }\n",
              "\n",
              "    .colab-df-convert {\n",
              "      background-color: #E8F0FE;\n",
              "      border: none;\n",
              "      border-radius: 50%;\n",
              "      cursor: pointer;\n",
              "      display: none;\n",
              "      fill: #1967D2;\n",
              "      height: 32px;\n",
              "      padding: 0 0 0 0;\n",
              "      width: 32px;\n",
              "    }\n",
              "\n",
              "    .colab-df-convert:hover {\n",
              "      background-color: #E2EBFA;\n",
              "      box-shadow: 0px 1px 2px rgba(60, 64, 67, 0.3), 0px 1px 3px 1px rgba(60, 64, 67, 0.15);\n",
              "      fill: #174EA6;\n",
              "    }\n",
              "\n",
              "    [theme=dark] .colab-df-convert {\n",
              "      background-color: #3B4455;\n",
              "      fill: #D2E3FC;\n",
              "    }\n",
              "\n",
              "    [theme=dark] .colab-df-convert:hover {\n",
              "      background-color: #434B5C;\n",
              "      box-shadow: 0px 1px 3px 1px rgba(0, 0, 0, 0.15);\n",
              "      filter: drop-shadow(0px 1px 2px rgba(0, 0, 0, 0.3));\n",
              "      fill: #FFFFFF;\n",
              "    }\n",
              "  </style>\n",
              "\n",
              "      <script>\n",
              "        const buttonEl =\n",
              "          document.querySelector('#df-321cd23a-9d5c-4ed2-bb7f-2a31784668da button.colab-df-convert');\n",
              "        buttonEl.style.display =\n",
              "          google.colab.kernel.accessAllowed ? 'block' : 'none';\n",
              "\n",
              "        async function convertToInteractive(key) {\n",
              "          const element = document.querySelector('#df-321cd23a-9d5c-4ed2-bb7f-2a31784668da');\n",
              "          const dataTable =\n",
              "            await google.colab.kernel.invokeFunction('convertToInteractive',\n",
              "                                                     [key], {});\n",
              "          if (!dataTable) return;\n",
              "\n",
              "          const docLinkHtml = 'Like what you see? Visit the ' +\n",
              "            '<a target=\"_blank\" href=https://colab.research.google.com/notebooks/data_table.ipynb>data table notebook</a>'\n",
              "            + ' to learn more about interactive tables.';\n",
              "          element.innerHTML = '';\n",
              "          dataTable['output_type'] = 'display_data';\n",
              "          await google.colab.output.renderOutput(dataTable, element);\n",
              "          const docLink = document.createElement('div');\n",
              "          docLink.innerHTML = docLinkHtml;\n",
              "          element.appendChild(docLink);\n",
              "        }\n",
              "      </script>\n",
              "    </div>\n",
              "  </div>\n",
              "  "
            ]
          },
          "metadata": {},
          "execution_count": 75
        }
      ]
    },
    {
      "cell_type": "code",
      "source": [
        "df.info()"
      ],
      "metadata": {
        "colab": {
          "base_uri": "https://localhost:8080/"
        },
        "id": "osCbbk_E_FaZ",
        "outputId": "9ee24bc7-74bc-43d0-816e-3cbbd73b01dc"
      },
      "execution_count": null,
      "outputs": [
        {
          "output_type": "stream",
          "name": "stdout",
          "text": [
            "<class 'pandas.core.frame.DataFrame'>\n",
            "RangeIndex: 43 entries, 0 to 42\n",
            "Data columns (total 8 columns):\n",
            " #   Column                     Non-Null Count  Dtype  \n",
            "---  ------                     --------------  -----  \n",
            " 0   Status of Moratorium       43 non-null     object \n",
            " 1   Industrial Cluster / Area  43 non-null     object \n",
            " 2   State                      43 non-null     object \n",
            " 3   CEPI SCORE-2009            43 non-null     float64\n",
            " 4   CEPI SCORE-2011            43 non-null     float64\n",
            " 5   CEPI SCORE-2013            43 non-null     float64\n",
            " 6   location                   43 non-null     object \n",
            " 7   lat_long                   43 non-null     object \n",
            "dtypes: float64(3), object(5)\n",
            "memory usage: 2.8+ KB\n"
          ]
        }
      ]
    },
    {
      "cell_type": "code",
      "source": [
        "df['latitude'], df['longitude'] = df[\"lat_long\"].str"
      ],
      "metadata": {
        "colab": {
          "base_uri": "https://localhost:8080/"
        },
        "id": "zpgGgcDy_Rkn",
        "outputId": "2cbdd609-96c0-4416-8ff0-826963b5178f"
      },
      "execution_count": null,
      "outputs": [
        {
          "output_type": "stream",
          "name": "stderr",
          "text": [
            "<ipython-input-65-10ba06c64c72>:1: FutureWarning: Columnar iteration over characters will be deprecated in future releases.\n",
            "  df['latitude'], df['longitude'] = df[\"lat_long\"].str\n"
          ]
        }
      ]
    },
    {
      "cell_type": "code",
      "source": [
        "df.head()"
      ],
      "metadata": {
        "colab": {
          "base_uri": "https://localhost:8080/",
          "height": 478
        },
        "id": "2rIJjFws_7K3",
        "outputId": "90c0a907-eb48-403a-f9db-927da63024a6"
      },
      "execution_count": null,
      "outputs": [
        {
          "output_type": "execute_result",
          "data": {
            "text/plain": [
              "   Unnamed: 0        Status of Moratorium Industrial Cluster / Area  \\\n",
              "0           0  Moratorium has been lifted                      Agra   \n",
              "1           1  Moratorium has been lifted                 Ahmedabad   \n",
              "2           2  Moratorium has been lifted             Angul Talcher   \n",
              "3           3  Moratorium has been lifted                   Asansol   \n",
              "4           4  Moratorium has been lifted                Aurangabad   \n",
              "\n",
              "           State  CEPI SCORE-2009  CEPI SCORE-2011  CEPI SCORE-2013  \\\n",
              "0  Uttar Pradesh            76.48            88.36            68.71   \n",
              "1        Gujarat            75.28            78.09            69.54   \n",
              "2         Orissa            82.09            89.74            72.86   \n",
              "3    West Bengal            70.20            70.96            56.01   \n",
              "4    Maharashtra            77.44            83.10            68.87   \n",
              "\n",
              "                  location                  lat_long   latitude  longitude  \n",
              "0      Agra, Uttar Pradesh  [27.1752554, 78.0098161]  27.175255  78.009816  \n",
              "1       Ahmedabad, Gujarat  [23.0216238, 72.5797068]  23.021624  72.579707  \n",
              "2    Angul Talcher, Orissa  [20.8602508, 85.1021043]  20.860251  85.102104  \n",
              "3     Asansol, West Bengal  [23.6871297, 86.9746587]  23.687130  86.974659  \n",
              "4  Aurangabad, Maharashtra   [19.877263, 75.3390241]  19.877263  75.339024  "
            ],
            "text/html": [
              "\n",
              "  <div id=\"df-ca918a37-9493-49c2-b0be-3813fc3264c4\">\n",
              "    <div class=\"colab-df-container\">\n",
              "      <div>\n",
              "<style scoped>\n",
              "    .dataframe tbody tr th:only-of-type {\n",
              "        vertical-align: middle;\n",
              "    }\n",
              "\n",
              "    .dataframe tbody tr th {\n",
              "        vertical-align: top;\n",
              "    }\n",
              "\n",
              "    .dataframe thead th {\n",
              "        text-align: right;\n",
              "    }\n",
              "</style>\n",
              "<table border=\"1\" class=\"dataframe\">\n",
              "  <thead>\n",
              "    <tr style=\"text-align: right;\">\n",
              "      <th></th>\n",
              "      <th>Unnamed: 0</th>\n",
              "      <th>Status of Moratorium</th>\n",
              "      <th>Industrial Cluster / Area</th>\n",
              "      <th>State</th>\n",
              "      <th>CEPI SCORE-2009</th>\n",
              "      <th>CEPI SCORE-2011</th>\n",
              "      <th>CEPI SCORE-2013</th>\n",
              "      <th>location</th>\n",
              "      <th>lat_long</th>\n",
              "      <th>latitude</th>\n",
              "      <th>longitude</th>\n",
              "    </tr>\n",
              "  </thead>\n",
              "  <tbody>\n",
              "    <tr>\n",
              "      <th>0</th>\n",
              "      <td>0</td>\n",
              "      <td>Moratorium has been lifted</td>\n",
              "      <td>Agra</td>\n",
              "      <td>Uttar Pradesh</td>\n",
              "      <td>76.48</td>\n",
              "      <td>88.36</td>\n",
              "      <td>68.71</td>\n",
              "      <td>Agra, Uttar Pradesh</td>\n",
              "      <td>[27.1752554, 78.0098161]</td>\n",
              "      <td>27.175255</td>\n",
              "      <td>78.009816</td>\n",
              "    </tr>\n",
              "    <tr>\n",
              "      <th>1</th>\n",
              "      <td>1</td>\n",
              "      <td>Moratorium has been lifted</td>\n",
              "      <td>Ahmedabad</td>\n",
              "      <td>Gujarat</td>\n",
              "      <td>75.28</td>\n",
              "      <td>78.09</td>\n",
              "      <td>69.54</td>\n",
              "      <td>Ahmedabad, Gujarat</td>\n",
              "      <td>[23.0216238, 72.5797068]</td>\n",
              "      <td>23.021624</td>\n",
              "      <td>72.579707</td>\n",
              "    </tr>\n",
              "    <tr>\n",
              "      <th>2</th>\n",
              "      <td>2</td>\n",
              "      <td>Moratorium has been lifted</td>\n",
              "      <td>Angul Talcher</td>\n",
              "      <td>Orissa</td>\n",
              "      <td>82.09</td>\n",
              "      <td>89.74</td>\n",
              "      <td>72.86</td>\n",
              "      <td>Angul Talcher, Orissa</td>\n",
              "      <td>[20.8602508, 85.1021043]</td>\n",
              "      <td>20.860251</td>\n",
              "      <td>85.102104</td>\n",
              "    </tr>\n",
              "    <tr>\n",
              "      <th>3</th>\n",
              "      <td>3</td>\n",
              "      <td>Moratorium has been lifted</td>\n",
              "      <td>Asansol</td>\n",
              "      <td>West Bengal</td>\n",
              "      <td>70.20</td>\n",
              "      <td>70.96</td>\n",
              "      <td>56.01</td>\n",
              "      <td>Asansol, West Bengal</td>\n",
              "      <td>[23.6871297, 86.9746587]</td>\n",
              "      <td>23.687130</td>\n",
              "      <td>86.974659</td>\n",
              "    </tr>\n",
              "    <tr>\n",
              "      <th>4</th>\n",
              "      <td>4</td>\n",
              "      <td>Moratorium has been lifted</td>\n",
              "      <td>Aurangabad</td>\n",
              "      <td>Maharashtra</td>\n",
              "      <td>77.44</td>\n",
              "      <td>83.10</td>\n",
              "      <td>68.87</td>\n",
              "      <td>Aurangabad, Maharashtra</td>\n",
              "      <td>[19.877263, 75.3390241]</td>\n",
              "      <td>19.877263</td>\n",
              "      <td>75.339024</td>\n",
              "    </tr>\n",
              "  </tbody>\n",
              "</table>\n",
              "</div>\n",
              "      <button class=\"colab-df-convert\" onclick=\"convertToInteractive('df-ca918a37-9493-49c2-b0be-3813fc3264c4')\"\n",
              "              title=\"Convert this dataframe to an interactive table.\"\n",
              "              style=\"display:none;\">\n",
              "        \n",
              "  <svg xmlns=\"http://www.w3.org/2000/svg\" height=\"24px\"viewBox=\"0 0 24 24\"\n",
              "       width=\"24px\">\n",
              "    <path d=\"M0 0h24v24H0V0z\" fill=\"none\"/>\n",
              "    <path d=\"M18.56 5.44l.94 2.06.94-2.06 2.06-.94-2.06-.94-.94-2.06-.94 2.06-2.06.94zm-11 1L8.5 8.5l.94-2.06 2.06-.94-2.06-.94L8.5 2.5l-.94 2.06-2.06.94zm10 10l.94 2.06.94-2.06 2.06-.94-2.06-.94-.94-2.06-.94 2.06-2.06.94z\"/><path d=\"M17.41 7.96l-1.37-1.37c-.4-.4-.92-.59-1.43-.59-.52 0-1.04.2-1.43.59L10.3 9.45l-7.72 7.72c-.78.78-.78 2.05 0 2.83L4 21.41c.39.39.9.59 1.41.59.51 0 1.02-.2 1.41-.59l7.78-7.78 2.81-2.81c.8-.78.8-2.07 0-2.86zM5.41 20L4 18.59l7.72-7.72 1.47 1.35L5.41 20z\"/>\n",
              "  </svg>\n",
              "      </button>\n",
              "      \n",
              "  <style>\n",
              "    .colab-df-container {\n",
              "      display:flex;\n",
              "      flex-wrap:wrap;\n",
              "      gap: 12px;\n",
              "    }\n",
              "\n",
              "    .colab-df-convert {\n",
              "      background-color: #E8F0FE;\n",
              "      border: none;\n",
              "      border-radius: 50%;\n",
              "      cursor: pointer;\n",
              "      display: none;\n",
              "      fill: #1967D2;\n",
              "      height: 32px;\n",
              "      padding: 0 0 0 0;\n",
              "      width: 32px;\n",
              "    }\n",
              "\n",
              "    .colab-df-convert:hover {\n",
              "      background-color: #E2EBFA;\n",
              "      box-shadow: 0px 1px 2px rgba(60, 64, 67, 0.3), 0px 1px 3px 1px rgba(60, 64, 67, 0.15);\n",
              "      fill: #174EA6;\n",
              "    }\n",
              "\n",
              "    [theme=dark] .colab-df-convert {\n",
              "      background-color: #3B4455;\n",
              "      fill: #D2E3FC;\n",
              "    }\n",
              "\n",
              "    [theme=dark] .colab-df-convert:hover {\n",
              "      background-color: #434B5C;\n",
              "      box-shadow: 0px 1px 3px 1px rgba(0, 0, 0, 0.15);\n",
              "      filter: drop-shadow(0px 1px 2px rgba(0, 0, 0, 0.3));\n",
              "      fill: #FFFFFF;\n",
              "    }\n",
              "  </style>\n",
              "\n",
              "      <script>\n",
              "        const buttonEl =\n",
              "          document.querySelector('#df-ca918a37-9493-49c2-b0be-3813fc3264c4 button.colab-df-convert');\n",
              "        buttonEl.style.display =\n",
              "          google.colab.kernel.accessAllowed ? 'block' : 'none';\n",
              "\n",
              "        async function convertToInteractive(key) {\n",
              "          const element = document.querySelector('#df-ca918a37-9493-49c2-b0be-3813fc3264c4');\n",
              "          const dataTable =\n",
              "            await google.colab.kernel.invokeFunction('convertToInteractive',\n",
              "                                                     [key], {});\n",
              "          if (!dataTable) return;\n",
              "\n",
              "          const docLinkHtml = 'Like what you see? Visit the ' +\n",
              "            '<a target=\"_blank\" href=https://colab.research.google.com/notebooks/data_table.ipynb>data table notebook</a>'\n",
              "            + ' to learn more about interactive tables.';\n",
              "          element.innerHTML = '';\n",
              "          dataTable['output_type'] = 'display_data';\n",
              "          await google.colab.output.renderOutput(dataTable, element);\n",
              "          const docLink = document.createElement('div');\n",
              "          docLink.innerHTML = docLinkHtml;\n",
              "          element.appendChild(docLink);\n",
              "        }\n",
              "      </script>\n",
              "    </div>\n",
              "  </div>\n",
              "  "
            ]
          },
          "metadata": {},
          "execution_count": 76
        }
      ]
    },
    {
      "cell_type": "code",
      "source": [
        "plt.plot(df[\"CEPI SCORE-2009\"], df[\"Industrial Cluster / Area\"])"
      ],
      "metadata": {
        "colab": {
          "base_uri": "https://localhost:8080/",
          "height": 283
        },
        "id": "vpGLy3LWVa9P",
        "outputId": "89dc1e96-622a-48ce-a2df-dfc3b7d45d25"
      },
      "execution_count": null,
      "outputs": [
        {
          "output_type": "execute_result",
          "data": {
            "text/plain": [
              "[<matplotlib.lines.Line2D at 0x7f6e4b8454c0>]"
            ]
          },
          "metadata": {},
          "execution_count": 79
        },
        {
          "output_type": "display_data",
          "data": {
            "text/plain": [
              "<Figure size 432x288 with 1 Axes>"
            ],
            "image/png": "[encoded data removed]"
          },
          "metadata": {
            "needs_background": "light"
          }
        }
      ]
    },
    {
      "cell_type": "code",
      "source": [
        "df.shape"
      ],
      "metadata": {
        "colab": {
          "base_uri": "https://localhost:8080/"
        },
        "id": "uI1oNhgfWeqU",
        "outputId": "5ea0ff4a-9cf0-4ce1-d36c-d85a003999d3"
      },
      "execution_count": null,
      "outputs": [
        {
          "output_type": "execute_result",
          "data": {
            "text/plain": [
              "(43, 11)"
            ]
          },
          "metadata": {},
          "execution_count": 82
        }
      ]
    },
    {
      "cell_type": "code",
      "source": [
        "df.describe()"
      ],
      "metadata": {
        "colab": {
          "base_uri": "https://localhost:8080/",
          "height": 300
        },
        "id": "lyJPCLRlWgn-",
        "outputId": "681fa165-7d9c-48de-b597-6b19f67d57ae"
      },
      "execution_count": null,
      "outputs": [
        {
          "output_type": "execute_result",
          "data": {
            "text/plain": [
              "       Unnamed: 0  CEPI SCORE-2009  CEPI SCORE-2011  CEPI SCORE-2013  \\\n",
              "count   43.000000        43.000000        43.000000        43.000000   \n",
              "mean    21.000000        76.986977        77.542791        70.811163   \n",
              "std     12.556539         5.181878         9.140876        10.022805   \n",
              "min      0.000000        70.070000        54.160000        45.270000   \n",
              "25%     10.500000        73.215000        73.445000        65.205000   \n",
              "50%     21.000000        75.190000        78.670000        72.860000   \n",
              "75%     31.500000        81.695000        84.900000        78.345000   \n",
              "max     42.000000        88.500000        90.750000        85.310000   \n",
              "\n",
              "        latitude  longitude  \n",
              "count  36.000000  36.000000  \n",
              "mean   22.591502  78.408233  \n",
              "std     5.185551   4.910842  \n",
              "min    11.060052  70.333333  \n",
              "25%    20.701703  75.215020  \n",
              "50%    22.646996  77.198968  \n",
              "75%    26.337807  82.630855  \n",
              "max    30.909016  88.325104  "
            ],
            "text/html": [
              "\n",
              "  <div id=\"df-ff1da2ee-ee0b-442b-b412-1f3dd36c9f48\">\n",
              "    <div class=\"colab-df-container\">\n",
              "      <div>\n",
              "<style scoped>\n",
              "    .dataframe tbody tr th:only-of-type {\n",
              "        vertical-align: middle;\n",
              "    }\n",
              "\n",
              "    .dataframe tbody tr th {\n",
              "        vertical-align: top;\n",
              "    }\n",
              "\n",
              "    .dataframe thead th {\n",
              "        text-align: right;\n",
              "    }\n",
              "</style>\n",
              "<table border=\"1\" class=\"dataframe\">\n",
              "  <thead>\n",
              "    <tr style=\"text-align: right;\">\n",
              "      <th></th>\n",
              "      <th>Unnamed: 0</th>\n",
              "      <th>CEPI SCORE-2009</th>\n",
              "      <th>CEPI SCORE-2011</th>\n",
              "      <th>CEPI SCORE-2013</th>\n",
              "      <th>latitude</th>\n",
              "      <th>longitude</th>\n",
              "    </tr>\n",
              "  </thead>\n",
              "  <tbody>\n",
              "    <tr>\n",
              "      <th>count</th>\n",
              "      <td>43.000000</td>\n",
              "      <td>43.000000</td>\n",
              "      <td>43.000000</td>\n",
              "      <td>43.000000</td>\n",
              "      <td>36.000000</td>\n",
              "      <td>36.000000</td>\n",
              "    </tr>\n",
              "    <tr>\n",
              "      <th>mean</th>\n",
              "      <td>21.000000</td>\n",
              "      <td>76.986977</td>\n",
              "      <td>77.542791</td>\n",
              "      <td>70.811163</td>\n",
              "      <td>22.591502</td>\n",
              "      <td>78.408233</td>\n",
              "    </tr>\n",
              "    <tr>\n",
              "      <th>std</th>\n",
              "      <td>12.556539</td>\n",
              "      <td>5.181878</td>\n",
              "      <td>9.140876</td>\n",
              "      <td>10.022805</td>\n",
              "      <td>5.185551</td>\n",
              "      <td>4.910842</td>\n",
              "    </tr>\n",
              "    <tr>\n",
              "      <th>min</th>\n",
              "      <td>0.000000</td>\n",
              "      <td>70.070000</td>\n",
              "      <td>54.160000</td>\n",
              "      <td>45.270000</td>\n",
              "      <td>11.060052</td>\n",
              "      <td>70.333333</td>\n",
              "    </tr>\n",
              "    <tr>\n",
              "      <th>25%</th>\n",
              "      <td>10.500000</td>\n",
              "      <td>73.215000</td>\n",
              "      <td>73.445000</td>\n",
              "      <td>65.205000</td>\n",
              "      <td>20.701703</td>\n",
              "      <td>75.215020</td>\n",
              "    </tr>\n",
              "    <tr>\n",
              "      <th>50%</th>\n",
              "      <td>21.000000</td>\n",
              "      <td>75.190000</td>\n",
              "      <td>78.670000</td>\n",
              "      <td>72.860000</td>\n",
              "      <td>22.646996</td>\n",
              "      <td>77.198968</td>\n",
              "    </tr>\n",
              "    <tr>\n",
              "      <th>75%</th>\n",
              "      <td>31.500000</td>\n",
              "      <td>81.695000</td>\n",
              "      <td>84.900000</td>\n",
              "      <td>78.345000</td>\n",
              "      <td>26.337807</td>\n",
              "      <td>82.630855</td>\n",
              "    </tr>\n",
              "    <tr>\n",
              "      <th>max</th>\n",
              "      <td>42.000000</td>\n",
              "      <td>88.500000</td>\n",
              "      <td>90.750000</td>\n",
              "      <td>85.310000</td>\n",
              "      <td>30.909016</td>\n",
              "      <td>88.325104</td>\n",
              "    </tr>\n",
              "  </tbody>\n",
              "</table>\n",
              "</div>\n",
              "      <button class=\"colab-df-convert\" onclick=\"convertToInteractive('df-ff1da2ee-ee0b-442b-b412-1f3dd36c9f48')\"\n",
              "              title=\"Convert this dataframe to an interactive table.\"\n",
              "              style=\"display:none;\">\n",
              "        \n",
              "  <svg xmlns=\"http://www.w3.org/2000/svg\" height=\"24px\"viewBox=\"0 0 24 24\"\n",
              "       width=\"24px\">\n",
              "    <path d=\"M0 0h24v24H0V0z\" fill=\"none\"/>\n",
              "    <path d=\"M18.56 5.44l.94 2.06.94-2.06 2.06-.94-2.06-.94-.94-2.06-.94 2.06-2.06.94zm-11 1L8.5 8.5l.94-2.06 2.06-.94-2.06-.94L8.5 2.5l-.94 2.06-2.06.94zm10 10l.94 2.06.94-2.06 2.06-.94-2.06-.94-.94-2.06-.94 2.06-2.06.94z\"/><path d=\"M17.41 7.96l-1.37-1.37c-.4-.4-.92-.59-1.43-.59-.52 0-1.04.2-1.43.59L10.3 9.45l-7.72 7.72c-.78.78-.78 2.05 0 2.83L4 21.41c.39.39.9.59 1.41.59.51 0 1.02-.2 1.41-.59l7.78-7.78 2.81-2.81c.8-.78.8-2.07 0-2.86zM5.41 20L4 18.59l7.72-7.72 1.47 1.35L5.41 20z\"/>\n",
              "  </svg>\n",
              "      </button>\n",
              "      \n",
              "  <style>\n",
              "    .colab-df-container {\n",
              "      display:flex;\n",
              "      flex-wrap:wrap;\n",
              "      gap: 12px;\n",
              "    }\n",
              "\n",
              "    .colab-df-convert {\n",
              "      background-color: #E8F0FE;\n",
              "      border: none;\n",
              "      border-radius: 50%;\n",
              "      cursor: pointer;\n",
              "      display: none;\n",
              "      fill: #1967D2;\n",
              "      height: 32px;\n",
              "      padding: 0 0 0 0;\n",
              "      width: 32px;\n",
              "    }\n",
              "\n",
              "    .colab-df-convert:hover {\n",
              "      background-color: #E2EBFA;\n",
              "      box-shadow: 0px 1px 2px rgba(60, 64, 67, 0.3), 0px 1px 3px 1px rgba(60, 64, 67, 0.15);\n",
              "      fill: #174EA6;\n",
              "    }\n",
              "\n",
              "    [theme=dark] .colab-df-convert {\n",
              "      background-color: #3B4455;\n",
              "      fill: #D2E3FC;\n",
              "    }\n",
              "\n",
              "    [theme=dark] .colab-df-convert:hover {\n",
              "      background-color: #434B5C;\n",
              "      box-shadow: 0px 1px 3px 1px rgba(0, 0, 0, 0.15);\n",
              "      filter: drop-shadow(0px 1px 2px rgba(0, 0, 0, 0.3));\n",
              "      fill: #FFFFFF;\n",
              "    }\n",
              "  </style>\n",
              "\n",
              "      <script>\n",
              "        const buttonEl =\n",
              "          document.querySelector('#df-ff1da2ee-ee0b-442b-b412-1f3dd36c9f48 button.colab-df-convert');\n",
              "        buttonEl.style.display =\n",
              "          google.colab.kernel.accessAllowed ? 'block' : 'none';\n",
              "\n",
              "        async function convertToInteractive(key) {\n",
              "          const element = document.querySelector('#df-ff1da2ee-ee0b-442b-b412-1f3dd36c9f48');\n",
              "          const dataTable =\n",
              "            await google.colab.kernel.invokeFunction('convertToInteractive',\n",
              "                                                     [key], {});\n",
              "          if (!dataTable) return;\n",
              "\n",
              "          const docLinkHtml = 'Like what you see? Visit the ' +\n",
              "            '<a target=\"_blank\" href=https://colab.research.google.com/notebooks/data_table.ipynb>data table notebook</a>'\n",
              "            + ' to learn more about interactive tables.';\n",
              "          element.innerHTML = '';\n",
              "          dataTable['output_type'] = 'display_data';\n",
              "          await google.colab.output.renderOutput(dataTable, element);\n",
              "          const docLink = document.createElement('div');\n",
              "          docLink.innerHTML = docLinkHtml;\n",
              "          element.appendChild(docLink);\n",
              "        }\n",
              "      </script>\n",
              "    </div>\n",
              "  </div>\n",
              "  "
            ]
          },
          "metadata": {},
          "execution_count": 83
        }
      ]
    },
    {
      "cell_type": "code",
      "source": [
        "def categorization(value):\n",
        "  if value<50:\n",
        "    return \"Normal\"\n",
        "  elif value>50 and value <60:\n",
        "    return \"Polluted\"\n",
        "  elif value>60 and value <70:\n",
        "    return \"Severely polluted\"\n",
        "  else:\n",
        "    return \"Critically polluted\""
      ],
      "metadata": {
        "id": "BEqkDJFnXWlI"
      },
      "execution_count": null,
      "outputs": []
    },
    {
      "cell_type": "code",
      "source": [
        "df[\"cepi_classification_2009\"] = df[\"CEPI SCORE-2009\"].map(categorization)"
      ],
      "metadata": {
        "id": "SjOO7lrkhkSO"
      },
      "execution_count": null,
      "outputs": []
    },
    {
      "cell_type": "code",
      "source": [
        "df[\"cepi_classification_2011\"] = df[\"CEPI SCORE-2011\"].map(categorization)"
      ],
      "metadata": {
        "id": "QQrcBQGKhwVc"
      },
      "execution_count": null,
      "outputs": []
    },
    {
      "cell_type": "code",
      "source": [
        "df[\"cepi_classification_2013\"] = df[\"CEPI SCORE-2013\"].map(categorization)"
      ],
      "metadata": {
        "id": "yLFbN7Rth4b6"
      },
      "execution_count": null,
      "outputs": []
    },
    {
      "cell_type": "code",
      "source": [
        "df.head()"
      ],
      "metadata": {
        "colab": {
          "base_uri": "https://localhost:8080/",
          "height": 478
        },
        "id": "aAL-54HSh7ot",
        "outputId": "46df6721-2210-4e1b-b279-0c3c50ae3994"
      },
      "execution_count": null,
      "outputs": [
        {
          "output_type": "execute_result",
          "data": {
            "text/plain": [
              "   Unnamed: 0        Status of Moratorium Industrial Cluster / Area  \\\n",
              "0           0  Moratorium has been lifted                      Agra   \n",
              "1           1  Moratorium has been lifted                 Ahmedabad   \n",
              "2           2  Moratorium has been lifted             Angul Talcher   \n",
              "3           3  Moratorium has been lifted                   Asansol   \n",
              "4           4  Moratorium has been lifted                Aurangabad   \n",
              "\n",
              "           State  CEPI SCORE-2009  CEPI SCORE-2011  CEPI SCORE-2013  \\\n",
              "0  Uttar Pradesh            76.48            88.36            68.71   \n",
              "1        Gujarat            75.28            78.09            69.54   \n",
              "2         Orissa            82.09            89.74            72.86   \n",
              "3    West Bengal            70.20            70.96            56.01   \n",
              "4    Maharashtra            77.44            83.10            68.87   \n",
              "\n",
              "                  location                  lat_long   latitude  longitude  \\\n",
              "0      Agra, Uttar Pradesh  [27.1752554, 78.0098161]  27.175255  78.009816   \n",
              "1       Ahmedabad, Gujarat  [23.0216238, 72.5797068]  23.021624  72.579707   \n",
              "2    Angul Talcher, Orissa  [20.8602508, 85.1021043]  20.860251  85.102104   \n",
              "3     Asansol, West Bengal  [23.6871297, 86.9746587]  23.687130  86.974659   \n",
              "4  Aurangabad, Maharashtra   [19.877263, 75.3390241]  19.877263  75.339024   \n",
              "\n",
              "  cepi_classification_2009 cepi_classification_2011 cepi_classification_2013  \n",
              "0      Critically polluted      Critically polluted        Severely polluted  \n",
              "1      Critically polluted      Critically polluted        Severely polluted  \n",
              "2      Critically polluted      Critically polluted      Critically polluted  \n",
              "3      Critically polluted      Critically polluted                 Polluted  \n",
              "4      Critically polluted      Critically polluted        Severely polluted  "
            ],
            "text/html": [
              "\n",
              "  <div id=\"df-4e0280a9-0417-472e-8839-d11ecb58f985\">\n",
              "    <div class=\"colab-df-container\">\n",
              "      <div>\n",
              "<style scoped>\n",
              "    .dataframe tbody tr th:only-of-type {\n",
              "        vertical-align: middle;\n",
              "    }\n",
              "\n",
              "    .dataframe tbody tr th {\n",
              "        vertical-align: top;\n",
              "    }\n",
              "\n",
              "    .dataframe thead th {\n",
              "        text-align: right;\n",
              "    }\n",
              "</style>\n",
              "<table border=\"1\" class=\"dataframe\">\n",
              "  <thead>\n",
              "    <tr style=\"text-align: right;\">\n",
              "      <th></th>\n",
              "      <th>Unnamed: 0</th>\n",
              "      <th>Status of Moratorium</th>\n",
              "      <th>Industrial Cluster / Area</th>\n",
              "      <th>State</th>\n",
              "      <th>CEPI SCORE-2009</th>\n",
              "      <th>CEPI SCORE-2011</th>\n",
              "      <th>CEPI SCORE-2013</th>\n",
              "      <th>location</th>\n",
              "      <th>lat_long</th>\n",
              "      <th>latitude</th>\n",
              "      <th>longitude</th>\n",
              "      <th>cepi_classification_2009</th>\n",
              "      <th>cepi_classification_2011</th>\n",
              "      <th>cepi_classification_2013</th>\n",
              "    </tr>\n",
              "  </thead>\n",
              "  <tbody>\n",
              "    <tr>\n",
              "      <th>0</th>\n",
              "      <td>0</td>\n",
              "      <td>Moratorium has been lifted</td>\n",
              "      <td>Agra</td>\n",
              "      <td>Uttar Pradesh</td>\n",
              "      <td>76.48</td>\n",
              "      <td>88.36</td>\n",
              "      <td>68.71</td>\n",
              "      <td>Agra, Uttar Pradesh</td>\n",
              "      <td>[27.1752554, 78.0098161]</td>\n",
              "      <td>27.175255</td>\n",
              "      <td>78.009816</td>\n",
              "      <td>Critically polluted</td>\n",
              "      <td>Critically polluted</td>\n",
              "      <td>Severely polluted</td>\n",
              "    </tr>\n",
              "    <tr>\n",
              "      <th>1</th>\n",
              "      <td>1</td>\n",
              "      <td>Moratorium has been lifted</td>\n",
              "      <td>Ahmedabad</td>\n",
              "      <td>Gujarat</td>\n",
              "      <td>75.28</td>\n",
              "      <td>78.09</td>\n",
              "      <td>69.54</td>\n",
              "      <td>Ahmedabad, Gujarat</td>\n",
              "      <td>[23.0216238, 72.5797068]</td>\n",
              "      <td>23.021624</td>\n",
              "      <td>72.579707</td>\n",
              "      <td>Critically polluted</td>\n",
              "      <td>Critically polluted</td>\n",
              "      <td>Severely polluted</td>\n",
              "    </tr>\n",
              "    <tr>\n",
              "      <th>2</th>\n",
              "      <td>2</td>\n",
              "      <td>Moratorium has been lifted</td>\n",
              "      <td>Angul Talcher</td>\n",
              "      <td>Orissa</td>\n",
              "      <td>82.09</td>\n",
              "      <td>89.74</td>\n",
              "      <td>72.86</td>\n",
              "      <td>Angul Talcher, Orissa</td>\n",
              "      <td>[20.8602508, 85.1021043]</td>\n",
              "      <td>20.860251</td>\n",
              "      <td>85.102104</td>\n",
              "      <td>Critically polluted</td>\n",
              "      <td>Critically polluted</td>\n",
              "      <td>Critically polluted</td>\n",
              "    </tr>\n",
              "    <tr>\n",
              "      <th>3</th>\n",
              "      <td>3</td>\n",
              "      <td>Moratorium has been lifted</td>\n",
              "      <td>Asansol</td>\n",
              "      <td>West Bengal</td>\n",
              "      <td>70.20</td>\n",
              "      <td>70.96</td>\n",
              "      <td>56.01</td>\n",
              "      <td>Asansol, West Bengal</td>\n",
              "      <td>[23.6871297, 86.9746587]</td>\n",
              "      <td>23.687130</td>\n",
              "      <td>86.974659</td>\n",
              "      <td>Critically polluted</td>\n",
              "      <td>Critically polluted</td>\n",
              "      <td>Polluted</td>\n",
              "    </tr>\n",
              "    <tr>\n",
              "      <th>4</th>\n",
              "      <td>4</td>\n",
              "      <td>Moratorium has been lifted</td>\n",
              "      <td>Aurangabad</td>\n",
              "      <td>Maharashtra</td>\n",
              "      <td>77.44</td>\n",
              "      <td>83.10</td>\n",
              "      <td>68.87</td>\n",
              "      <td>Aurangabad, Maharashtra</td>\n",
              "      <td>[19.877263, 75.3390241]</td>\n",
              "      <td>19.877263</td>\n",
              "      <td>75.339024</td>\n",
              "      <td>Critically polluted</td>\n",
              "      <td>Critically polluted</td>\n",
              "      <td>Severely polluted</td>\n",
              "    </tr>\n",
              "  </tbody>\n",
              "</table>\n",
              "</div>\n",
              "      <button class=\"colab-df-convert\" onclick=\"convertToInteractive('df-4e0280a9-0417-472e-8839-d11ecb58f985')\"\n",
              "              title=\"Convert this dataframe to an interactive table.\"\n",
              "              style=\"display:none;\">\n",
              "        \n",
              "  <svg xmlns=\"http://www.w3.org/2000/svg\" height=\"24px\"viewBox=\"0 0 24 24\"\n",
              "       width=\"24px\">\n",
              "    <path d=\"M0 0h24v24H0V0z\" fill=\"none\"/>\n",
              "    <path d=\"M18.56 5.44l.94 2.06.94-2.06 2.06-.94-2.06-.94-.94-2.06-.94 2.06-2.06.94zm-11 1L8.5 8.5l.94-2.06 2.06-.94-2.06-.94L8.5 2.5l-.94 2.06-2.06.94zm10 10l.94 2.06.94-2.06 2.06-.94-2.06-.94-.94-2.06-.94 2.06-2.06.94z\"/><path d=\"M17.41 7.96l-1.37-1.37c-.4-.4-.92-.59-1.43-.59-.52 0-1.04.2-1.43.59L10.3 9.45l-7.72 7.72c-.78.78-.78 2.05 0 2.83L4 21.41c.39.39.9.59 1.41.59.51 0 1.02-.2 1.41-.59l7.78-7.78 2.81-2.81c.8-.78.8-2.07 0-2.86zM5.41 20L4 18.59l7.72-7.72 1.47 1.35L5.41 20z\"/>\n",
              "  </svg>\n",
              "      </button>\n",
              "      \n",
              "  <style>\n",
              "    .colab-df-container {\n",
              "      display:flex;\n",
              "      flex-wrap:wrap;\n",
              "      gap: 12px;\n",
              "    }\n",
              "\n",
              "    .colab-df-convert {\n",
              "      background-color: #E8F0FE;\n",
              "      border: none;\n",
              "      border-radius: 50%;\n",
              "      cursor: pointer;\n",
              "      display: none;\n",
              "      fill: #1967D2;\n",
              "      height: 32px;\n",
              "      padding: 0 0 0 0;\n",
              "      width: 32px;\n",
              "    }\n",
              "\n",
              "    .colab-df-convert:hover {\n",
              "      background-color: #E2EBFA;\n",
              "      box-shadow: 0px 1px 2px rgba(60, 64, 67, 0.3), 0px 1px 3px 1px rgba(60, 64, 67, 0.15);\n",
              "      fill: #174EA6;\n",
              "    }\n",
              "\n",
              "    [theme=dark] .colab-df-convert {\n",
              "      background-color: #3B4455;\n",
              "      fill: #D2E3FC;\n",
              "    }\n",
              "\n",
              "    [theme=dark] .colab-df-convert:hover {\n",
              "      background-color: #434B5C;\n",
              "      box-shadow: 0px 1px 3px 1px rgba(0, 0, 0, 0.15);\n",
              "      filter: drop-shadow(0px 1px 2px rgba(0, 0, 0, 0.3));\n",
              "      fill: #FFFFFF;\n",
              "    }\n",
              "  </style>\n",
              "\n",
              "      <script>\n",
              "        const buttonEl =\n",
              "          document.querySelector('#df-4e0280a9-0417-472e-8839-d11ecb58f985 button.colab-df-convert');\n",
              "        buttonEl.style.display =\n",
              "          google.colab.kernel.accessAllowed ? 'block' : 'none';\n",
              "\n",
              "        async function convertToInteractive(key) {\n",
              "          const element = document.querySelector('#df-4e0280a9-0417-472e-8839-d11ecb58f985');\n",
              "          const dataTable =\n",
              "            await google.colab.kernel.invokeFunction('convertToInteractive',\n",
              "                                                     [key], {});\n",
              "          if (!dataTable) return;\n",
              "\n",
              "          const docLinkHtml = 'Like what you see? Visit the ' +\n",
              "            '<a target=\"_blank\" href=https://colab.research.google.com/notebooks/data_table.ipynb>data table notebook</a>'\n",
              "            + ' to learn more about interactive tables.';\n",
              "          element.innerHTML = '';\n",
              "          dataTable['output_type'] = 'display_data';\n",
              "          await google.colab.output.renderOutput(dataTable, element);\n",
              "          const docLink = document.createElement('div');\n",
              "          docLink.innerHTML = docLinkHtml;\n",
              "          element.appendChild(docLink);\n",
              "        }\n",
              "      </script>\n",
              "    </div>\n",
              "  </div>\n",
              "  "
            ]
          },
          "metadata": {},
          "execution_count": 90
        }
      ]
    },
    {
      "cell_type": "code",
      "source": [
        "category_2009 = df[\"cepi_classification_2009\"].value_counts()"
      ],
      "metadata": {
        "id": "zPImoY6_h81q"
      },
      "execution_count": null,
      "outputs": []
    },
    {
      "cell_type": "code",
      "source": [
        "category_2011 = df[\"cepi_classification_2011\"].value_counts()"
      ],
      "metadata": {
        "id": "OhIBHfzqihq6"
      },
      "execution_count": null,
      "outputs": []
    },
    {
      "cell_type": "code",
      "source": [
        "category_2013 = df[\"cepi_classification_2013\"].value_counts()"
      ],
      "metadata": {
        "id": "whlF5yK1ipsE"
      },
      "execution_count": null,
      "outputs": []
    },
    {
      "cell_type": "code",
      "source": [
        "category_2009[\"Critically polluted\"]"
      ],
      "metadata": {
        "colab": {
          "base_uri": "https://localhost:8080/"
        },
        "id": "KUgHBARHiuhC",
        "outputId": "76a96e5d-fe49-440f-f9cc-2dd7ffaf9001"
      },
      "execution_count": null,
      "outputs": [
        {
          "output_type": "execute_result",
          "data": {
            "text/plain": [
              "43"
            ]
          },
          "metadata": {},
          "execution_count": 99
        }
      ]
    },
    {
      "cell_type": "code",
      "source": [
        "category_2011"
      ],
      "metadata": {
        "colab": {
          "base_uri": "https://localhost:8080/"
        },
        "id": "ptE0AzzKiydC",
        "outputId": "9b895962-f162-450a-faa1-f1dd41b2d595"
      },
      "execution_count": null,
      "outputs": [
        {
          "output_type": "execute_result",
          "data": {
            "text/plain": [
              "Critically polluted    34\n",
              "Severely polluted       6\n",
              "Polluted                3\n",
              "Name: cepi_classification_2011, dtype: int64"
            ]
          },
          "metadata": {},
          "execution_count": 100
        }
      ]
    },
    {
      "cell_type": "code",
      "source": [
        "category_2013"
      ],
      "metadata": {
        "colab": {
          "base_uri": "https://localhost:8080/"
        },
        "id": "dfOkFwlKjGv1",
        "outputId": "de2e7512-a6ad-4bfe-de9e-237a56e8f816"
      },
      "execution_count": null,
      "outputs": [
        {
          "output_type": "execute_result",
          "data": {
            "text/plain": [
              "Critically polluted    27\n",
              "Severely polluted       8\n",
              "Polluted                7\n",
              "Normal                  1\n",
              "Name: cepi_classification_2013, dtype: int64"
            ]
          },
          "metadata": {},
          "execution_count": 101
        }
      ]
    },
    {
      "cell_type": "code",
      "source": [
        "df_1 = pd.DataFrame({\n",
        "    '2009': category_2009,\n",
        "    '2011': category_2011,\n",
        "    '2013': category_2013\n",
        "})"
      ],
      "metadata": {
        "id": "FtleVZAxjJKs"
      },
      "execution_count": null,
      "outputs": []
    },
    {
      "cell_type": "code",
      "source": [
        "df_1.head()"
      ],
      "metadata": {
        "colab": {
          "base_uri": "https://localhost:8080/",
          "height": 175
        },
        "id": "gRr8xJmwjilC",
        "outputId": "f874773b-8b58-4f6e-a992-a6223cb831b7"
      },
      "execution_count": null,
      "outputs": [
        {
          "output_type": "execute_result",
          "data": {
            "text/plain": [
              "                     2009  2011  2013\n",
              "Critically polluted  43.0  34.0    27\n",
              "Normal                NaN   NaN     1\n",
              "Polluted              NaN   3.0     7\n",
              "Severely polluted     NaN   6.0     8"
            ],
            "text/html": [
              "\n",
              "  <div id=\"df-644ff19f-c407-4330-af11-f50e54baff3f\">\n",
              "    <div class=\"colab-df-container\">\n",
              "      <div>\n",
              "<style scoped>\n",
              "    .dataframe tbody tr th:only-of-type {\n",
              "        vertical-align: middle;\n",
              "    }\n",
              "\n",
              "    .dataframe tbody tr th {\n",
              "        vertical-align: top;\n",
              "    }\n",
              "\n",
              "    .dataframe thead th {\n",
              "        text-align: right;\n",
              "    }\n",
              "</style>\n",
              "<table border=\"1\" class=\"dataframe\">\n",
              "  <thead>\n",
              "    <tr style=\"text-align: right;\">\n",
              "      <th></th>\n",
              "      <th>2009</th>\n",
              "      <th>2011</th>\n",
              "      <th>2013</th>\n",
              "    </tr>\n",
              "  </thead>\n",
              "  <tbody>\n",
              "    <tr>\n",
              "      <th>Critically polluted</th>\n",
              "      <td>43.0</td>\n",
              "      <td>34.0</td>\n",
              "      <td>27</td>\n",
              "    </tr>\n",
              "    <tr>\n",
              "      <th>Normal</th>\n",
              "      <td>NaN</td>\n",
              "      <td>NaN</td>\n",
              "      <td>1</td>\n",
              "    </tr>\n",
              "    <tr>\n",
              "      <th>Polluted</th>\n",
              "      <td>NaN</td>\n",
              "      <td>3.0</td>\n",
              "      <td>7</td>\n",
              "    </tr>\n",
              "    <tr>\n",
              "      <th>Severely polluted</th>\n",
              "      <td>NaN</td>\n",
              "      <td>6.0</td>\n",
              "      <td>8</td>\n",
              "    </tr>\n",
              "  </tbody>\n",
              "</table>\n",
              "</div>\n",
              "      <button class=\"colab-df-convert\" onclick=\"convertToInteractive('df-644ff19f-c407-4330-af11-f50e54baff3f')\"\n",
              "              title=\"Convert this dataframe to an interactive table.\"\n",
              "              style=\"display:none;\">\n",
              "        \n",
              "  <svg xmlns=\"http://www.w3.org/2000/svg\" height=\"24px\"viewBox=\"0 0 24 24\"\n",
              "       width=\"24px\">\n",
              "    <path d=\"M0 0h24v24H0V0z\" fill=\"none\"/>\n",
              "    <path d=\"M18.56 5.44l.94 2.06.94-2.06 2.06-.94-2.06-.94-.94-2.06-.94 2.06-2.06.94zm-11 1L8.5 8.5l.94-2.06 2.06-.94-2.06-.94L8.5 2.5l-.94 2.06-2.06.94zm10 10l.94 2.06.94-2.06 2.06-.94-2.06-.94-.94-2.06-.94 2.06-2.06.94z\"/><path d=\"M17.41 7.96l-1.37-1.37c-.4-.4-.92-.59-1.43-.59-.52 0-1.04.2-1.43.59L10.3 9.45l-7.72 7.72c-.78.78-.78 2.05 0 2.83L4 21.41c.39.39.9.59 1.41.59.51 0 1.02-.2 1.41-.59l7.78-7.78 2.81-2.81c.8-.78.8-2.07 0-2.86zM5.41 20L4 18.59l7.72-7.72 1.47 1.35L5.41 20z\"/>\n",
              "  </svg>\n",
              "      </button>\n",
              "      \n",
              "  <style>\n",
              "    .colab-df-container {\n",
              "      display:flex;\n",
              "      flex-wrap:wrap;\n",
              "      gap: 12px;\n",
              "    }\n",
              "\n",
              "    .colab-df-convert {\n",
              "      background-color: #E8F0FE;\n",
              "      border: none;\n",
              "      border-radius: 50%;\n",
              "      cursor: pointer;\n",
              "      display: none;\n",
              "      fill: #1967D2;\n",
              "      height: 32px;\n",
              "      padding: 0 0 0 0;\n",
              "      width: 32px;\n",
              "    }\n",
              "\n",
              "    .colab-df-convert:hover {\n",
              "      background-color: #E2EBFA;\n",
              "      box-shadow: 0px 1px 2px rgba(60, 64, 67, 0.3), 0px 1px 3px 1px rgba(60, 64, 67, 0.15);\n",
              "      fill: #174EA6;\n",
              "    }\n",
              "\n",
              "    [theme=dark] .colab-df-convert {\n",
              "      background-color: #3B4455;\n",
              "      fill: #D2E3FC;\n",
              "    }\n",
              "\n",
              "    [theme=dark] .colab-df-convert:hover {\n",
              "      background-color: #434B5C;\n",
              "      box-shadow: 0px 1px 3px 1px rgba(0, 0, 0, 0.15);\n",
              "      filter: drop-shadow(0px 1px 2px rgba(0, 0, 0, 0.3));\n",
              "      fill: #FFFFFF;\n",
              "    }\n",
              "  </style>\n",
              "\n",
              "      <script>\n",
              "        const buttonEl =\n",
              "          document.querySelector('#df-644ff19f-c407-4330-af11-f50e54baff3f button.colab-df-convert');\n",
              "        buttonEl.style.display =\n",
              "          google.colab.kernel.accessAllowed ? 'block' : 'none';\n",
              "\n",
              "        async function convertToInteractive(key) {\n",
              "          const element = document.querySelector('#df-644ff19f-c407-4330-af11-f50e54baff3f');\n",
              "          const dataTable =\n",
              "            await google.colab.kernel.invokeFunction('convertToInteractive',\n",
              "                                                     [key], {});\n",
              "          if (!dataTable) return;\n",
              "\n",
              "          const docLinkHtml = 'Like what you see? Visit the ' +\n",
              "            '<a target=\"_blank\" href=https://colab.research.google.com/notebooks/data_table.ipynb>data table notebook</a>'\n",
              "            + ' to learn more about interactive tables.';\n",
              "          element.innerHTML = '';\n",
              "          dataTable['output_type'] = 'display_data';\n",
              "          await google.colab.output.renderOutput(dataTable, element);\n",
              "          const docLink = document.createElement('div');\n",
              "          docLink.innerHTML = docLinkHtml;\n",
              "          element.appendChild(docLink);\n",
              "        }\n",
              "      </script>\n",
              "    </div>\n",
              "  </div>\n",
              "  "
            ]
          },
          "metadata": {},
          "execution_count": 103
        }
      ]
    },
    {
      "cell_type": "code",
      "source": [
        "df_1 = df_1.fillna(0)"
      ],
      "metadata": {
        "id": "2c4IajBOjkdv"
      },
      "execution_count": null,
      "outputs": []
    },
    {
      "cell_type": "code",
      "source": [
        "df_1"
      ],
      "metadata": {
        "colab": {
          "base_uri": "https://localhost:8080/",
          "height": 175
        },
        "id": "CgWoo-v2mUOz",
        "outputId": "32de9b45-f8be-4692-a7b0-edfe72856975"
      },
      "execution_count": null,
      "outputs": [
        {
          "output_type": "execute_result",
          "data": {
            "text/plain": [
              "                     2009  2011  2013\n",
              "Critically polluted  43.0  34.0    27\n",
              "Normal                0.0   0.0     1\n",
              "Polluted              0.0   3.0     7\n",
              "Severely polluted     0.0   6.0     8"
            ],
            "text/html": [
              "\n",
              "  <div id=\"df-3b2b6140-2449-4109-98ae-4c1d2a9e1c06\">\n",
              "    <div class=\"colab-df-container\">\n",
              "      <div>\n",
              "<style scoped>\n",
              "    .dataframe tbody tr th:only-of-type {\n",
              "        vertical-align: middle;\n",
              "    }\n",
              "\n",
              "    .dataframe tbody tr th {\n",
              "        vertical-align: top;\n",
              "    }\n",
              "\n",
              "    .dataframe thead th {\n",
              "        text-align: right;\n",
              "    }\n",
              "</style>\n",
              "<table border=\"1\" class=\"dataframe\">\n",
              "  <thead>\n",
              "    <tr style=\"text-align: right;\">\n",
              "      <th></th>\n",
              "      <th>2009</th>\n",
              "      <th>2011</th>\n",
              "      <th>2013</th>\n",
              "    </tr>\n",
              "  </thead>\n",
              "  <tbody>\n",
              "    <tr>\n",
              "      <th>Critically polluted</th>\n",
              "      <td>43.0</td>\n",
              "      <td>34.0</td>\n",
              "      <td>27</td>\n",
              "    </tr>\n",
              "    <tr>\n",
              "      <th>Normal</th>\n",
              "      <td>0.0</td>\n",
              "      <td>0.0</td>\n",
              "      <td>1</td>\n",
              "    </tr>\n",
              "    <tr>\n",
              "      <th>Polluted</th>\n",
              "      <td>0.0</td>\n",
              "      <td>3.0</td>\n",
              "      <td>7</td>\n",
              "    </tr>\n",
              "    <tr>\n",
              "      <th>Severely polluted</th>\n",
              "      <td>0.0</td>\n",
              "      <td>6.0</td>\n",
              "      <td>8</td>\n",
              "    </tr>\n",
              "  </tbody>\n",
              "</table>\n",
              "</div>\n",
              "      <button class=\"colab-df-convert\" onclick=\"convertToInteractive('df-3b2b6140-2449-4109-98ae-4c1d2a9e1c06')\"\n",
              "              title=\"Convert this dataframe to an interactive table.\"\n",
              "              style=\"display:none;\">\n",
              "        \n",
              "  <svg xmlns=\"http://www.w3.org/2000/svg\" height=\"24px\"viewBox=\"0 0 24 24\"\n",
              "       width=\"24px\">\n",
              "    <path d=\"M0 0h24v24H0V0z\" fill=\"none\"/>\n",
              "    <path d=\"M18.56 5.44l.94 2.06.94-2.06 2.06-.94-2.06-.94-.94-2.06-.94 2.06-2.06.94zm-11 1L8.5 8.5l.94-2.06 2.06-.94-2.06-.94L8.5 2.5l-.94 2.06-2.06.94zm10 10l.94 2.06.94-2.06 2.06-.94-2.06-.94-.94-2.06-.94 2.06-2.06.94z\"/><path d=\"M17.41 7.96l-1.37-1.37c-.4-.4-.92-.59-1.43-.59-.52 0-1.04.2-1.43.59L10.3 9.45l-7.72 7.72c-.78.78-.78 2.05 0 2.83L4 21.41c.39.39.9.59 1.41.59.51 0 1.02-.2 1.41-.59l7.78-7.78 2.81-2.81c.8-.78.8-2.07 0-2.86zM5.41 20L4 18.59l7.72-7.72 1.47 1.35L5.41 20z\"/>\n",
              "  </svg>\n",
              "      </button>\n",
              "      \n",
              "  <style>\n",
              "    .colab-df-container {\n",
              "      display:flex;\n",
              "      flex-wrap:wrap;\n",
              "      gap: 12px;\n",
              "    }\n",
              "\n",
              "    .colab-df-convert {\n",
              "      background-color: #E8F0FE;\n",
              "      border: none;\n",
              "      border-radius: 50%;\n",
              "      cursor: pointer;\n",
              "      display: none;\n",
              "      fill: #1967D2;\n",
              "      height: 32px;\n",
              "      padding: 0 0 0 0;\n",
              "      width: 32px;\n",
              "    }\n",
              "\n",
              "    .colab-df-convert:hover {\n",
              "      background-color: #E2EBFA;\n",
              "      box-shadow: 0px 1px 2px rgba(60, 64, 67, 0.3), 0px 1px 3px 1px rgba(60, 64, 67, 0.15);\n",
              "      fill: #174EA6;\n",
              "    }\n",
              "\n",
              "    [theme=dark] .colab-df-convert {\n",
              "      background-color: #3B4455;\n",
              "      fill: #D2E3FC;\n",
              "    }\n",
              "\n",
              "    [theme=dark] .colab-df-convert:hover {\n",
              "      background-color: #434B5C;\n",
              "      box-shadow: 0px 1px 3px 1px rgba(0, 0, 0, 0.15);\n",
              "      filter: drop-shadow(0px 1px 2px rgba(0, 0, 0, 0.3));\n",
              "      fill: #FFFFFF;\n",
              "    }\n",
              "  </style>\n",
              "\n",
              "      <script>\n",
              "        const buttonEl =\n",
              "          document.querySelector('#df-3b2b6140-2449-4109-98ae-4c1d2a9e1c06 button.colab-df-convert');\n",
              "        buttonEl.style.display =\n",
              "          google.colab.kernel.accessAllowed ? 'block' : 'none';\n",
              "\n",
              "        async function convertToInteractive(key) {\n",
              "          const element = document.querySelector('#df-3b2b6140-2449-4109-98ae-4c1d2a9e1c06');\n",
              "          const dataTable =\n",
              "            await google.colab.kernel.invokeFunction('convertToInteractive',\n",
              "                                                     [key], {});\n",
              "          if (!dataTable) return;\n",
              "\n",
              "          const docLinkHtml = 'Like what you see? Visit the ' +\n",
              "            '<a target=\"_blank\" href=https://colab.research.google.com/notebooks/data_table.ipynb>data table notebook</a>'\n",
              "            + ' to learn more about interactive tables.';\n",
              "          element.innerHTML = '';\n",
              "          dataTable['output_type'] = 'display_data';\n",
              "          await google.colab.output.renderOutput(dataTable, element);\n",
              "          const docLink = document.createElement('div');\n",
              "          docLink.innerHTML = docLinkHtml;\n",
              "          element.appendChild(docLink);\n",
              "        }\n",
              "      </script>\n",
              "    </div>\n",
              "  </div>\n",
              "  "
            ]
          },
          "metadata": {},
          "execution_count": 155
        }
      ]
    },
    {
      "cell_type": "code",
      "source": [
        "f, ax = plt.subplots()\n",
        "width = 0.25\n",
        "labels = ['2009', '2011', '2013']\n",
        "# ax.ylimit\n",
        "ax.bar(labels, df_1.iloc[0], width, label=\"Critically polluted\", color=\"#e3282e\")\n",
        "ax.bar(labels, df_1.iloc[1], width, label=\"Normal\", bottom=df_1.iloc[0], color=\"#36ee12\")\n",
        "ax.bar(labels, df_1.iloc[2], width, label=\"Polluted\", bottom=df_1.iloc[1], color=\"#f4d20f\")\n",
        "ax.bar(labels, df_1.iloc[3], width, label=\"Severely Polluted\", bottom=df_1.iloc[2], color=\"#e2741a\")\n",
        "ax.set_ylabel(\"Count\")\n",
        "# ax.legend()\n",
        "\n"
      ],
      "metadata": {
        "colab": {
          "base_uri": "https://localhost:8080/",
          "height": 283
        },
        "id": "9ArFMkXOjpEf",
        "outputId": "3d5f0a54-797b-4c90-f7ff-77db671b515b"
      },
      "execution_count": null,
      "outputs": [
        {
          "output_type": "execute_result",
          "data": {
            "text/plain": [
              "Text(0, 0.5, 'Count')"
            ]
          },
          "metadata": {},
          "execution_count": 153
        },
        {
          "output_type": "display_data",
          "data": {
            "text/plain": [
              "<Figure size 432x288 with 1 Axes>"
            ],
            "image/png": "[encoded data removed]"
          },
          "metadata": {
            "needs_background": "light"
          }
        }
      ]
    },
    {
      "cell_type": "code",
      "source": [
        "#!/usr/bin/env python3\n",
        "# -*- coding: utf-8 -*-\n",
        "\"\"\"\n",
        "Created on Sat Mar  4 13:05:10 2023\n",
        "\n",
        "@author: vishnujayan\n",
        "\"\"\"\n",
        "\n",
        "nums = [1,343,43,5,342,324,32]\n",
        "largest, second_largest = 0,0\n",
        "for i in  nums:\n",
        "    if largest< i:\n",
        "        second_largest = largest\n",
        "        largest = i\n",
        "        \n",
        "    \n",
        "print(f\" largest number is {largest} and second largest number is {second_largest}\")"
      ],
      "metadata": {
        "id": "O_cfWW-Angut",
        "colab": {
          "base_uri": "https://localhost:8080/"
        },
        "outputId": "bd7be4ae-b84d-499a-cca7-7a3e900a1966"
      },
      "execution_count": null,
      "outputs": [
        {
          "output_type": "stream",
          "name": "stdout",
          "text": [
            " largest number is 343 and second largest number is 1\n"
          ]
        }
      ]
    },
    {
      "cell_type": "code",
      "source": [
        "sorted_array = sorted(nums)"
      ],
      "metadata": {
        "id": "5mj-GAgxlLZq"
      },
      "execution_count": null,
      "outputs": []
    },
    {
      "cell_type": "code",
      "source": [
        "sorted_array"
      ],
      "metadata": {
        "colab": {
          "base_uri": "https://localhost:8080/"
        },
        "id": "2Q6wwMhblNdQ",
        "outputId": "84b7dbc1-b019-4e85-f390-aabac43d9ee7"
      },
      "execution_count": null,
      "outputs": [
        {
          "output_type": "execute_result",
          "data": {
            "text/plain": [
              "[1, 5, 32, 43, 324, 342, 343]"
            ]
          },
          "metadata": {},
          "execution_count": 6
        }
      ]
    },
    {
      "cell_type": "code",
      "source": [
        "[0190235 0290292 0290294 0290295 0290303 0290340 0290372 0290373 0290376\n",
        "0290385 0290386 0290390 0290395 0290396 0290398 0290424 0290432 0290433\n",
        "0290437 0290441 0290444 0290447 0290448 0290449 0290450 0290453 0290459\n",
        "0290464 0290469 0290479 0290483 0290486 0290496 0290505 0290512 0290516\n",
        "0290518 0290519 0290522 0290524 0290527 0290531 0290532 0290548 0290550\n",
        "0290555 0290559 0290566 0290569 0290577 0290585 0290588 0290592 0290598\n",
        "0390400 0390445 0490690 0490705 0490735 0590544 0590549 0590550 0590556\n",
        "0590567 0590569 0590588 0590601 0590634 0590641 0590652 0590658 0590673\n",
        "0691113 0691127 0691191 0691205 0691223 0691229 0691239 0691255 0691269\n",
        "0691273 0691282 0691304 0691310 0691316 0691317 0691341 0691364 0691378\n",
        "0691406 0691409 0691416 0691420 0691421 0691422 0691427 0691435 0691443\n",
        "0691450 0691466 0691468 0691470 0691473 0691475 0691478 0691498 0691514\n",
        "0691521 0691525 0691535 0691538 0691544 0691552 0691572 0791502 0891194\n",
        "0891218 0891273 0891302 0891385 0891389 0891396 0891397 0891404 0891419\n",
        "0891450 0891458 0891470 0891472 0891509 0891539 0891541 0891582 0891593\n",
        "0891596 0891625 0891657 0891665 0891689 0891721 0891732 0891751 0891754\n",
        "0891760 0891808 0891820 0891825 0891826 0891827 0891829 0891841 0891854\n",
        "0891872 0891879 0891885 0891901 0891916 0891930 0891942 0891957 0891961\n",
        "0892005 0892021 0892032 0892033 0892040 0892066 0892068 0892072 0892079\n",
        "1090943 1090944 1090945 1090972 1091087 1091089 1190387 1190445 1190490\n",
        "1190504 1190512 1190522 1190542 1190554 1190619 1190645 1190649 1290569\n",
        "1590278 1590289 1590294 1590303 1590315 1590321 1590322 1590324 1590327\n",
        "1790038 1990800 1990853 1990857 1990861 2690622 2690640 2690739 2690750\n",
        "2690752 2690754 2690759 2690778 2690785 2690803 2690805 2690841 2690851\n",
        "2690865 2690866 2690873 2690875 2690904 2690914 2690917 2690925 2690927\n",
        "2690951 2690966 2690968 2690971 3490141 3590268 3590274 3590284 3590313\n",
        "3590315 3590326]"
      ],
      "metadata": {
        "id": "Qk119verb4hv"
      },
      "execution_count": null,
      "outputs": []
    },
    {
      "cell_type": "code",
      "source": [
        "pd.to_datetime(1677962187410282, unit='ns')"
      ],
      "metadata": {
        "colab": {
          "base_uri": "https://localhost:8080/"
        },
        "id": "4UqYEWWU9vG6",
        "outputId": "f1394868-50fc-41c0-b2ff-0ba31cb2ff6b"
      },
      "execution_count": null,
      "outputs": [
        {
          "output_type": "execute_result",
          "data": {
            "text/plain": [
              "Timestamp('1970-01-20 10:06:02.187410282')"
            ]
          },
          "metadata": {},
          "execution_count": 9
        }
      ]
    },
    {
      "cell_type": "code",
      "source": [
        "temp_data = pd.read_csv('ee-chart.csv');"
      ],
      "metadata": {
        "id": "fPbD89PH9xQR"
      },
      "execution_count": null,
      "outputs": []
    },
    {
      "cell_type": "code",
      "source": [
        "temp_data.isnull().count()"
      ],
      "metadata": {
        "colab": {
          "base_uri": "https://localhost:8080/"
        },
        "id": "WaPOWYuU7wzf",
        "outputId": "9c6952a3-ba44-4de3-927c-0586a73e9af3"
      },
      "execution_count": null,
      "outputs": [
        {
          "output_type": "execute_result",
          "data": {
            "text/plain": [
              "system:time_start    37\n",
              "0                    37\n",
              "dtype: int64"
            ]
          },
          "metadata": {},
          "execution_count": 18
        }
      ]
    },
    {
      "cell_type": "code",
      "source": [
        "data = temp_data.dropna(axis=0)"
      ],
      "metadata": {
        "id": "hZOXfL1m7ySB"
      },
      "execution_count": null,
      "outputs": []
    },
    {
      "cell_type": "code",
      "source": [
        "data\n"
      ],
      "metadata": {
        "colab": {
          "base_uri": "https://localhost:8080/",
          "height": 300
        },
        "id": "IAJBB-yj8DZL",
        "outputId": "ec5bd543-c009-497c-9b29-549a1991061b"
      },
      "execution_count": null,
      "outputs": [
        {
          "output_type": "execute_result",
          "data": {
            "text/plain": [
              "   system:time_start      0\n",
              "2       Feb 25, 2023  0.134\n",
              "4       Feb 26, 2023 -0.152\n",
              "7       Feb 27, 2023 -0.233\n",
              "9       Feb 28, 2023 -1.376\n",
              "18       Mar 1, 2023 -0.918\n",
              "22       Mar 2, 2023  0.801\n",
              "26       Mar 3, 2023  0.013\n",
              "34       Mar 4, 2023 -0.222"
            ],
            "text/html": [
              "\n",
              "  <div id=\"df-11d95988-bb76-4f3c-8428-95d0e18a919f\">\n",
              "    <div class=\"colab-df-container\">\n",
              "      <div>\n",
              "<style scoped>\n",
              "    .dataframe tbody tr th:only-of-type {\n",
              "        vertical-align: middle;\n",
              "    }\n",
              "\n",
              "    .dataframe tbody tr th {\n",
              "        vertical-align: top;\n",
              "    }\n",
              "\n",
              "    .dataframe thead th {\n",
              "        text-align: right;\n",
              "    }\n",
              "</style>\n",
              "<table border=\"1\" class=\"dataframe\">\n",
              "  <thead>\n",
              "    <tr style=\"text-align: right;\">\n",
              "      <th></th>\n",
              "      <th>system:time_start</th>\n",
              "      <th>0</th>\n",
              "    </tr>\n",
              "  </thead>\n",
              "  <tbody>\n",
              "    <tr>\n",
              "      <th>2</th>\n",
              "      <td>Feb 25, 2023</td>\n",
              "      <td>0.134</td>\n",
              "    </tr>\n",
              "    <tr>\n",
              "      <th>4</th>\n",
              "      <td>Feb 26, 2023</td>\n",
              "      <td>-0.152</td>\n",
              "    </tr>\n",
              "    <tr>\n",
              "      <th>7</th>\n",
              "      <td>Feb 27, 2023</td>\n",
              "      <td>-0.233</td>\n",
              "    </tr>\n",
              "    <tr>\n",
              "      <th>9</th>\n",
              "      <td>Feb 28, 2023</td>\n",
              "      <td>-1.376</td>\n",
              "    </tr>\n",
              "    <tr>\n",
              "      <th>18</th>\n",
              "      <td>Mar 1, 2023</td>\n",
              "      <td>-0.918</td>\n",
              "    </tr>\n",
              "    <tr>\n",
              "      <th>22</th>\n",
              "      <td>Mar 2, 2023</td>\n",
              "      <td>0.801</td>\n",
              "    </tr>\n",
              "    <tr>\n",
              "      <th>26</th>\n",
              "      <td>Mar 3, 2023</td>\n",
              "      <td>0.013</td>\n",
              "    </tr>\n",
              "    <tr>\n",
              "      <th>34</th>\n",
              "      <td>Mar 4, 2023</td>\n",
              "      <td>-0.222</td>\n",
              "    </tr>\n",
              "  </tbody>\n",
              "</table>\n",
              "</div>\n",
              "      <button class=\"colab-df-convert\" onclick=\"convertToInteractive('df-11d95988-bb76-4f3c-8428-95d0e18a919f')\"\n",
              "              title=\"Convert this dataframe to an interactive table.\"\n",
              "              style=\"display:none;\">\n",
              "        \n",
              "  <svg xmlns=\"http://www.w3.org/2000/svg\" height=\"24px\"viewBox=\"0 0 24 24\"\n",
              "       width=\"24px\">\n",
              "    <path d=\"M0 0h24v24H0V0z\" fill=\"none\"/>\n",
              "    <path d=\"M18.56 5.44l.94 2.06.94-2.06 2.06-.94-2.06-.94-.94-2.06-.94 2.06-2.06.94zm-11 1L8.5 8.5l.94-2.06 2.06-.94-2.06-.94L8.5 2.5l-.94 2.06-2.06.94zm10 10l.94 2.06.94-2.06 2.06-.94-2.06-.94-.94-2.06-.94 2.06-2.06.94z\"/><path d=\"M17.41 7.96l-1.37-1.37c-.4-.4-.92-.59-1.43-.59-.52 0-1.04.2-1.43.59L10.3 9.45l-7.72 7.72c-.78.78-.78 2.05 0 2.83L4 21.41c.39.39.9.59 1.41.59.51 0 1.02-.2 1.41-.59l7.78-7.78 2.81-2.81c.8-.78.8-2.07 0-2.86zM5.41 20L4 18.59l7.72-7.72 1.47 1.35L5.41 20z\"/>\n",
              "  </svg>\n",
              "      </button>\n",
              "      \n",
              "  <style>\n",
              "    .colab-df-container {\n",
              "      display:flex;\n",
              "      flex-wrap:wrap;\n",
              "      gap: 12px;\n",
              "    }\n",
              "\n",
              "    .colab-df-convert {\n",
              "      background-color: #E8F0FE;\n",
              "      border: none;\n",
              "      border-radius: 50%;\n",
              "      cursor: pointer;\n",
              "      display: none;\n",
              "      fill: #1967D2;\n",
              "      height: 32px;\n",
              "      padding: 0 0 0 0;\n",
              "      width: 32px;\n",
              "    }\n",
              "\n",
              "    .colab-df-convert:hover {\n",
              "      background-color: #E2EBFA;\n",
              "      box-shadow: 0px 1px 2px rgba(60, 64, 67, 0.3), 0px 1px 3px 1px rgba(60, 64, 67, 0.15);\n",
              "      fill: #174EA6;\n",
              "    }\n",
              "\n",
              "    [theme=dark] .colab-df-convert {\n",
              "      background-color: #3B4455;\n",
              "      fill: #D2E3FC;\n",
              "    }\n",
              "\n",
              "    [theme=dark] .colab-df-convert:hover {\n",
              "      background-color: #434B5C;\n",
              "      box-shadow: 0px 1px 3px 1px rgba(0, 0, 0, 0.15);\n",
              "      filter: drop-shadow(0px 1px 2px rgba(0, 0, 0, 0.3));\n",
              "      fill: #FFFFFF;\n",
              "    }\n",
              "  </style>\n",
              "\n",
              "      <script>\n",
              "        const buttonEl =\n",
              "          document.querySelector('#df-11d95988-bb76-4f3c-8428-95d0e18a919f button.colab-df-convert');\n",
              "        buttonEl.style.display =\n",
              "          google.colab.kernel.accessAllowed ? 'block' : 'none';\n",
              "\n",
              "        async function convertToInteractive(key) {\n",
              "          const element = document.querySelector('#df-11d95988-bb76-4f3c-8428-95d0e18a919f');\n",
              "          const dataTable =\n",
              "            await google.colab.kernel.invokeFunction('convertToInteractive',\n",
              "                                                     [key], {});\n",
              "          if (!dataTable) return;\n",
              "\n",
              "          const docLinkHtml = 'Like what you see? Visit the ' +\n",
              "            '<a target=\"_blank\" href=https://colab.research.google.com/notebooks/data_table.ipynb>data table notebook</a>'\n",
              "            + ' to learn more about interactive tables.';\n",
              "          element.innerHTML = '';\n",
              "          dataTable['output_type'] = 'display_data';\n",
              "          await google.colab.output.renderOutput(dataTable, element);\n",
              "          const docLink = document.createElement('div');\n",
              "          docLink.innerHTML = docLinkHtml;\n",
              "          element.appendChild(docLink);\n",
              "        }\n",
              "      </script>\n",
              "    </div>\n",
              "  </div>\n",
              "  "
            ]
          },
          "metadata": {},
          "execution_count": 20
        }
      ]
    },
    {
      "cell_type": "code",
      "source": [],
      "metadata": {
        "colab": {
          "base_uri": "https://localhost:8080/",
          "height": 269
        },
        "id": "UVz_zRL7_xE6",
        "outputId": "7574ca85-0732-4464-f887-0929db7d93fe"
      },
      "execution_count": null,
      "outputs": [
        {
          "output_type": "display_data",
          "data": {
            "text/plain": [
              "<Figure size 432x288 with 1 Axes>"
            ],
            "image/png": "[encoded data removed]"
          },
          "metadata": {
            "needs_background": "light"
          }
        }
      ]
    },
    {
      "cell_type": "code",
      "source": [
        "fig, ax = plt.subplots()\n",
        "data.plot('system:time_start', '0', xlabel=\"Date\", \n",
        "          ylabel=\"Aerosol Index\", \n",
        "          color=\"red\",\n",
        "          title=\"Change in Aerosol Index in Kochi\",\n",
        "          style=\"-o\",\n",
        "          figsize = (10,10),\n",
        "          ax=ax,\n",
        "          grid=True\n",
        "          )\n",
        "ax.legend([\"Aerosol Index\"])"
      ],
      "metadata": {
        "colab": {
          "base_uri": "https://localhost:8080/",
          "height": 639
        },
        "id": "OsDvmjbp8GBi",
        "outputId": "8fd2bd4a-e664-49a2-8288-3b96ff597dd4"
      },
      "execution_count": null,
      "outputs": [
        {
          "output_type": "execute_result",
          "data": {
            "text/plain": [
              "<matplotlib.legend.Legend at 0x7f536b730100>"
            ]
          },
          "metadata": {},
          "execution_count": 42
        },
        {
          "output_type": "display_data",
          "data": {
            "text/plain": [
              "<Figure size 720x720 with 1 Axes>"
            ],
            "image/png": "[encoded data removed]"
          },
          "metadata": {
            "needs_background": "light"
          }
        }
      ]
    },
    {
      "cell_type": "code",
      "source": [
        "list = [1,2,3,4,5]\n",
        "tuple_ = tuple(list)"
      ],
      "metadata": {
        "id": "irh69lio8U-b"
      },
      "execution_count": null,
      "outputs": []
    },
    {
      "cell_type": "code",
      "source": [
        "print(tuple_)"
      ],
      "metadata": {
        "colab": {
          "base_uri": "https://localhost:8080/"
        },
        "id": "Gi_k9zuIcsB9",
        "outputId": "170c5690-4265-4f10-df32-e55243e817e4"
      },
      "execution_count": null,
      "outputs": [
        {
          "output_type": "stream",
          "name": "stdout",
          "text": [
            "(1, 2, 3, 4, 5)\n"
          ]
        }
      ]
    },
    {
      "cell_type": "code",
      "source": [
        "def feb(n):\n",
        "  a, b = 0,1 \n",
        "  for i in range(n):\n",
        "    yield(a)\n",
        "    a,b = b, a+b"
      ],
      "metadata": {
        "id": "WJlRu7tVcvFx"
      },
      "execution_count": null,
      "outputs": []
    },
    {
      "cell_type": "code",
      "source": [
        "feb(3)"
      ],
      "metadata": {
        "colab": {
          "base_uri": "https://localhost:8080/"
        },
        "id": "2mOtvteFddrF",
        "outputId": "b4f8a13e-476c-43e0-8efa-a658c8a4d43e"
      },
      "execution_count": null,
      "outputs": [
        {
          "output_type": "execute_result",
          "data": {
            "text/plain": [
              "<generator object feb at 0x7fc7d883ea50>"
            ]
          },
          "metadata": {},
          "execution_count": 10
        }
      ]
    },
    {
      "cell_type": "code",
      "source": [
        "for i in feb(5):\n",
        "  print(i)"
      ],
      "metadata": {
        "colab": {
          "base_uri": "https://localhost:8080/"
        },
        "id": "ZGttsomOdfeg",
        "outputId": "69d3c499-f303-4af5-a1ea-13dbdd21d8fb"
      },
      "execution_count": null,
      "outputs": [
        {
          "output_type": "stream",
          "name": "stdout",
          "text": [
            "0\n",
            "1\n",
            "1\n",
            "2\n",
            "3\n"
          ]
        }
      ]
    },
    {
      "cell_type": "code",
      "source": [
        "list[-3::1]"
      ],
      "metadata": {
        "colab": {
          "base_uri": "https://localhost:8080/"
        },
        "id": "-aBIy2oLdje-",
        "outputId": "014755d4-f2ef-49ac-e6c0-34ed1f235de2"
      },
      "execution_count": null,
      "outputs": [
        {
          "output_type": "execute_result",
          "data": {
            "text/plain": [
              "[3, 4, 5]"
            ]
          },
          "metadata": {},
          "execution_count": 19
        }
      ]
    },
    {
      "cell_type": "code",
      "source": [
        "abc = [234,3434,5,54,2343,54,544]\n",
        "\n",
        "print(len(abc))\n",
        "j = 0\n",
        "\n",
        "while j< l-1:\n",
        "  if abc[j] > abc[j+1]:\n",
        "    abc[j], abc[j+1] = abc[j+1], abc[j]\n",
        "    j = -1\n",
        "  j +=1"
      ],
      "metadata": {
        "colab": {
          "base_uri": "https://localhost:8080/",
          "height": 246
        },
        "id": "GCo9rHOJgQ1Z",
        "outputId": "5fde65a6-1047-4226-8f6b-9bc3adee886d"
      },
      "execution_count": null,
      "outputs": [
        {
          "output_type": "error",
          "ename": "TypeError",
          "evalue": "ignored",
          "traceback": [
            "\u001b[0;31m---------------------------------------------------------------------------\u001b[0m",
            "\u001b[0;31mTypeError\u001b[0m                                 Traceback (most recent call last)",
            "\u001b[0;32m<ipython-input-25-b3a7f3ba2dd3>\u001b[0m in \u001b[0;36m<module>\u001b[0;34m\u001b[0m\n\u001b[1;32m      1\u001b[0m \u001b[0mabc\u001b[0m \u001b[0;34m=\u001b[0m \u001b[0;34m[\u001b[0m\u001b[0;36m234\u001b[0m\u001b[0;34m,\u001b[0m\u001b[0;36m3434\u001b[0m\u001b[0;34m,\u001b[0m\u001b[0;36m5\u001b[0m\u001b[0;34m,\u001b[0m\u001b[0;36m54\u001b[0m\u001b[0;34m,\u001b[0m\u001b[0;36m2343\u001b[0m\u001b[0;34m,\u001b[0m\u001b[0;36m54\u001b[0m\u001b[0;34m,\u001b[0m\u001b[0;36m544\u001b[0m\u001b[0;34m]\u001b[0m\u001b[0;34m\u001b[0m\u001b[0;34m\u001b[0m\u001b[0m\n\u001b[1;32m      2\u001b[0m \u001b[0;34m\u001b[0m\u001b[0m\n\u001b[0;32m----> 3\u001b[0;31m \u001b[0mprint\u001b[0m\u001b[0;34m(\u001b[0m\u001b[0mlen\u001b[0m\u001b[0;34m(\u001b[0m\u001b[0mabc\u001b[0m\u001b[0;34m)\u001b[0m\u001b[0;34m)\u001b[0m\u001b[0;34m\u001b[0m\u001b[0;34m\u001b[0m\u001b[0m\n\u001b[0m\u001b[1;32m      4\u001b[0m \u001b[0mj\u001b[0m \u001b[0;34m=\u001b[0m \u001b[0;36m0\u001b[0m\u001b[0;34m\u001b[0m\u001b[0;34m\u001b[0m\u001b[0m\n\u001b[1;32m      5\u001b[0m \u001b[0;34m\u001b[0m\u001b[0m\n",
            "\u001b[0;31mTypeError\u001b[0m: 'int' object is not callable"
          ]
        }
      ]
    },
    {
      "cell_type": "code",
      "source": [
        "lst1=[1,2,3,4] \n",
        "len(lst1)"
      ],
      "metadata": {
        "colab": {
          "base_uri": "https://localhost:8080/",
          "height": 191
        },
        "id": "2XuoWHAuipri",
        "outputId": "66c4eb4c-2c90-4f26-9dc7-fe1eae5975a7"
      },
      "execution_count": null,
      "outputs": [
        {
          "output_type": "error",
          "ename": "TypeError",
          "evalue": "ignored",
          "traceback": [
            "\u001b[0;31m---------------------------------------------------------------------------\u001b[0m",
            "\u001b[0;31mTypeError\u001b[0m                                 Traceback (most recent call last)",
            "\u001b[0;32m<ipython-input-28-31085dbd0862>\u001b[0m in \u001b[0;36m<module>\u001b[0;34m\u001b[0m\n\u001b[1;32m      1\u001b[0m \u001b[0mlst1\u001b[0m\u001b[0;34m=\u001b[0m\u001b[0;34m[\u001b[0m\u001b[0;36m1\u001b[0m\u001b[0;34m,\u001b[0m\u001b[0;36m2\u001b[0m\u001b[0;34m,\u001b[0m\u001b[0;36m3\u001b[0m\u001b[0;34m,\u001b[0m\u001b[0;36m4\u001b[0m\u001b[0;34m]\u001b[0m\u001b[0;34m\u001b[0m\u001b[0;34m\u001b[0m\u001b[0m\n\u001b[0;32m----> 2\u001b[0;31m \u001b[0mlen\u001b[0m\u001b[0;34m(\u001b[0m\u001b[0mlst1\u001b[0m\u001b[0;34m)\u001b[0m\u001b[0;34m\u001b[0m\u001b[0;34m\u001b[0m\u001b[0m\n\u001b[0m",
            "\u001b[0;31mTypeError\u001b[0m: 'int' object is not callable"
          ]
        }
      ]
    },
    {
      "cell_type": "code",
      "source": [],
      "metadata": {
        "id": "q7mwuFUHjPS8"
      },
      "execution_count": null,
      "outputs": []
    }
  ]
}