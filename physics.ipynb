{
  "nbformat": 4,
  "nbformat_minor": 0,
  "metadata": {
    "colab": {
      "provenance": [],
      "authorship_tag": "ABX9TyN3dHNZ/TL9v3doNAvJfE67",
      "include_colab_link": true
    },
    "kernelspec": {
      "name": "python3",
      "display_name": "Python 3"
    },
    "language_info": {
      "name": "python"
    }
  },
  "cells": [
    {
      "cell_type": "markdown",
      "metadata": {
        "id": "view-in-github",
        "colab_type": "text"
      },
      "source": [
        "<a href=\"https://colab.research.google.com/github/itsmevishnu/python/blob/master/physics.ipynb\" target=\"_parent\"><img src=\"https://colab.research.google.com/assets/colab-badge.svg\" alt=\"Open In Colab\"/></a>"
      ]
    },
    {
      "cell_type": "markdown",
      "source": [
        "#Computational Physics Lecture 1 : Introduction to Physics (PHYS270)\n"
      ],
      "metadata": {
        "id": "rT3kd-JhBuRf"
      }
    },
    {
      "cell_type": "code",
      "source": [
        "x = float(input(\"enter the x component:\"))\n",
        "print(f\"you entered {x}\")"
      ],
      "metadata": {
        "colab": {
          "base_uri": "https://localhost:8080/"
        },
        "id": "3delL0w2By20",
        "outputId": "e7a73b73-5d80-49ec-af50-cd4e217d7c54"
      },
      "execution_count": null,
      "outputs": [
        {
          "output_type": "stream",
          "name": "stdout",
          "text": [
            "enter the x component:5\n",
            "you entered 5.0\n"
          ]
        },
        {
          "output_type": "execute_result",
          "data": {
            "text/plain": [
              "float"
            ]
          },
          "metadata": {},
          "execution_count": 7
        }
      ]
    },
    {
      "cell_type": "code",
      "source": [
        "y = float(input('enter the y component'))\n",
        "z = float(input(\"enter the z component\"))"
      ],
      "metadata": {
        "colab": {
          "base_uri": "https://localhost:8080/"
        },
        "id": "rhEKB_RZCsQE",
        "outputId": "44663b75-845b-4852-f524-b19e93d092f3"
      },
      "execution_count": null,
      "outputs": [
        {
          "name": "stdout",
          "output_type": "stream",
          "text": [
            "enter the y component4\n",
            "enter the z component3\n"
          ]
        }
      ]
    },
    {
      "cell_type": "code",
      "source": [
        "r = (x**2+y**2+z**2)**0.5\n",
        "print(\"the value of R\", r)"
      ],
      "metadata": {
        "colab": {
          "base_uri": "https://localhost:8080/"
        },
        "id": "S5fMHHiCDvN8",
        "outputId": "b8cf4b62-2fc4-4a6a-d1ed-09bf8fe319ca"
      },
      "execution_count": null,
      "outputs": [
        {
          "output_type": "stream",
          "name": "stdout",
          "text": [
            "the value of R 6.4031242374328485\n"
          ]
        }
      ]
    },
    {
      "cell_type": "code",
      "source": [
        "temp = float(input(\"the temperature of the water\"))\n",
        "if(temp <=0):\n",
        "  print(\"water is in ice stage\")\n",
        "elif(temp >0 and temp<100):\n",
        "  print(\"Water is in liquid stage\")\n",
        "else:\n",
        "  print(\"Water is in gas stage\")"
      ],
      "metadata": {
        "colab": {
          "base_uri": "https://localhost:8080/"
        },
        "id": "vIIHQQokEWd1",
        "outputId": "f938feea-a2f6-46d5-f957-2caff64b01d7"
      },
      "execution_count": null,
      "outputs": [
        {
          "output_type": "stream",
          "name": "stdout",
          "text": [
            "the temperature of the water1\n",
            "Water is in liquid stage\n"
          ]
        }
      ]
    },
    {
      "cell_type": "code",
      "source": [
        "password = input(\"Enter the password\")\n",
        "while password != \"password\":\n",
        "  password = input(\"Enter the right password\")\n",
        "print(\"Login successfull!\")"
      ],
      "metadata": {
        "colab": {
          "base_uri": "https://localhost:8080/"
        },
        "id": "SeudwLaGHmIA",
        "outputId": "0a16b3f3-68f9-469a-d5a4-1bf06ae94488"
      },
      "execution_count": null,
      "outputs": [
        {
          "output_type": "stream",
          "name": "stdout",
          "text": [
            "Enter the password7\n",
            "Enter the right passwordpassword\n",
            "Login successfull!\n"
          ]
        }
      ]
    },
    {
      "cell_type": "code",
      "source": [
        "password = input(\"Enter the password\")\n",
        "i = 1\n",
        "maxx = 3\n",
        "while password != \"password\":\n",
        "  i +=1\n",
        "  password = input(\"Enter the right password\")\n",
        "  if i == maxx:\n",
        "    break\n",
        "if i == maxx:\n",
        "  print(\"Yu entered password diffrene times\")\n",
        "else:\n",
        "   print(\"Login successfull!\")"
      ],
      "metadata": {
        "colab": {
          "base_uri": "https://localhost:8080/"
        },
        "id": "Y7uLOb8KNbgx",
        "outputId": "8701ba52-1728-4332-bc24-f66ff3768db2"
      },
      "execution_count": null,
      "outputs": [
        {
          "output_type": "stream",
          "name": "stdout",
          "text": [
            "Enter the password3\n",
            "Enter the right password432\n",
            "Enter the right password424234\n",
            "Yu entered password diffrene times\n"
          ]
        }
      ]
    },
    {
      "cell_type": "code",
      "source": [
        "number = int(input(\"Enter the number of students\"))\n",
        "gpa = []\n",
        "i = 0\n",
        "\n",
        "while i<number:\n",
        "  gpa.append(float(input(\"Enter the gpi\")))\n",
        "  i += 1\n",
        "\n",
        "print(f\"avaerage of {number} students gpa is{sum(gpa)/len(gpa)}\")"
      ],
      "metadata": {
        "colab": {
          "base_uri": "https://localhost:8080/"
        },
        "id": "VRU6GffcS3q4",
        "outputId": "bdf887e6-5721-4b6e-fe35-c70a0102fc2f"
      },
      "execution_count": null,
      "outputs": [
        {
          "output_type": "stream",
          "name": "stdout",
          "text": [
            "Enter the number of students5\n",
            "Enter the gpi8.2\n",
            "Enter the gpi8\n",
            "Enter the gpi9\n",
            "Enter the gpi8.5\n",
            "Enter the gpi8.5\n",
            "avaerage of 5 students gpa is8.440000000000001\n"
          ]
        }
      ]
    },
    {
      "cell_type": "markdown",
      "source": [
        "#Lecture 2 Basic Loops\n",
        "For loop and functions"
      ],
      "metadata": {
        "id": "tie3aAwYY59E"
      }
    },
    {
      "cell_type": "code",
      "source": [
        "import numpy as np\n",
        "import matplotlib.pyplot as plt"
      ],
      "metadata": {
        "id": "vi6RXjr5SEZK"
      },
      "execution_count": null,
      "outputs": []
    },
    {
      "cell_type": "code",
      "source": [
        "\n",
        "a = np.genfromtxt(\"python/grades.txt\", delimiter=\"|\", dtype=str)\n",
        "names = []\n",
        "for i in a:\n",
        "  names.append(i[0])"
      ],
      "metadata": {
        "id": "JCVwyIcTZIFF",
        "colab": {
          "base_uri": "https://localhost:8080/",
          "height": 398
        },
        "outputId": "a2263138-787a-4de5-c16d-8e0766a72100"
      },
      "execution_count": null,
      "outputs": [
        {
          "output_type": "error",
          "ename": "OSError",
          "evalue": "ignored",
          "traceback": [
            "\u001b[0;31m---------------------------------------------------------------------------\u001b[0m",
            "\u001b[0;31mOSError\u001b[0m                                   Traceback (most recent call last)",
            "\u001b[0;32m<ipython-input-2-1f07609355db>\u001b[0m in \u001b[0;36m<module>\u001b[0;34m\u001b[0m\n\u001b[1;32m      1\u001b[0m \u001b[0;32mimport\u001b[0m \u001b[0mnumpy\u001b[0m \u001b[0;32mas\u001b[0m \u001b[0mnp\u001b[0m\u001b[0;34m\u001b[0m\u001b[0;34m\u001b[0m\u001b[0m\n\u001b[0;32m----> 2\u001b[0;31m \u001b[0ma\u001b[0m \u001b[0;34m=\u001b[0m \u001b[0mnp\u001b[0m\u001b[0;34m.\u001b[0m\u001b[0mgenfromtxt\u001b[0m\u001b[0;34m(\u001b[0m\u001b[0;34m\"python/grades.txt\"\u001b[0m\u001b[0;34m,\u001b[0m \u001b[0mdelimiter\u001b[0m\u001b[0;34m=\u001b[0m\u001b[0;34m\"|\"\u001b[0m\u001b[0;34m,\u001b[0m \u001b[0mdtype\u001b[0m\u001b[0;34m=\u001b[0m\u001b[0mstr\u001b[0m\u001b[0;34m)\u001b[0m\u001b[0;34m\u001b[0m\u001b[0;34m\u001b[0m\u001b[0m\n\u001b[0m\u001b[1;32m      3\u001b[0m \u001b[0mnames\u001b[0m \u001b[0;34m=\u001b[0m \u001b[0;34m[\u001b[0m\u001b[0;34m]\u001b[0m\u001b[0;34m\u001b[0m\u001b[0;34m\u001b[0m\u001b[0m\n\u001b[1;32m      4\u001b[0m \u001b[0;32mfor\u001b[0m \u001b[0mi\u001b[0m \u001b[0;32min\u001b[0m \u001b[0ma\u001b[0m\u001b[0;34m:\u001b[0m\u001b[0;34m\u001b[0m\u001b[0;34m\u001b[0m\u001b[0m\n\u001b[1;32m      5\u001b[0m   \u001b[0mnames\u001b[0m\u001b[0;34m.\u001b[0m\u001b[0mappend\u001b[0m\u001b[0;34m(\u001b[0m\u001b[0mi\u001b[0m\u001b[0;34m[\u001b[0m\u001b[0;36m0\u001b[0m\u001b[0;34m]\u001b[0m\u001b[0;34m)\u001b[0m\u001b[0;34m\u001b[0m\u001b[0;34m\u001b[0m\u001b[0m\n",
            "\u001b[0;32m/usr/local/lib/python3.7/dist-packages/numpy/lib/npyio.py\u001b[0m in \u001b[0;36mgenfromtxt\u001b[0;34m(fname, dtype, comments, delimiter, skip_header, skip_footer, converters, missing_values, filling_values, usecols, names, excludelist, deletechars, replace_space, autostrip, case_sensitive, defaultfmt, unpack, usemask, loose, invalid_raise, max_rows, encoding, like)\u001b[0m\n\u001b[1;32m   1791\u001b[0m             \u001b[0mfname\u001b[0m \u001b[0;34m=\u001b[0m \u001b[0mos_fspath\u001b[0m\u001b[0;34m(\u001b[0m\u001b[0mfname\u001b[0m\u001b[0;34m)\u001b[0m\u001b[0;34m\u001b[0m\u001b[0;34m\u001b[0m\u001b[0m\n\u001b[1;32m   1792\u001b[0m         \u001b[0;32mif\u001b[0m \u001b[0misinstance\u001b[0m\u001b[0;34m(\u001b[0m\u001b[0mfname\u001b[0m\u001b[0;34m,\u001b[0m \u001b[0mstr\u001b[0m\u001b[0;34m)\u001b[0m\u001b[0;34m:\u001b[0m\u001b[0;34m\u001b[0m\u001b[0;34m\u001b[0m\u001b[0m\n\u001b[0;32m-> 1793\u001b[0;31m             \u001b[0mfid\u001b[0m \u001b[0;34m=\u001b[0m \u001b[0mnp\u001b[0m\u001b[0;34m.\u001b[0m\u001b[0mlib\u001b[0m\u001b[0;34m.\u001b[0m\u001b[0m_datasource\u001b[0m\u001b[0;34m.\u001b[0m\u001b[0mopen\u001b[0m\u001b[0;34m(\u001b[0m\u001b[0mfname\u001b[0m\u001b[0;34m,\u001b[0m \u001b[0;34m'rt'\u001b[0m\u001b[0;34m,\u001b[0m \u001b[0mencoding\u001b[0m\u001b[0;34m=\u001b[0m\u001b[0mencoding\u001b[0m\u001b[0;34m)\u001b[0m\u001b[0;34m\u001b[0m\u001b[0;34m\u001b[0m\u001b[0m\n\u001b[0m\u001b[1;32m   1794\u001b[0m             \u001b[0mfid_ctx\u001b[0m \u001b[0;34m=\u001b[0m \u001b[0mcontextlib\u001b[0m\u001b[0;34m.\u001b[0m\u001b[0mclosing\u001b[0m\u001b[0;34m(\u001b[0m\u001b[0mfid\u001b[0m\u001b[0;34m)\u001b[0m\u001b[0;34m\u001b[0m\u001b[0;34m\u001b[0m\u001b[0m\n\u001b[1;32m   1795\u001b[0m         \u001b[0;32melse\u001b[0m\u001b[0;34m:\u001b[0m\u001b[0;34m\u001b[0m\u001b[0;34m\u001b[0m\u001b[0m\n",
            "\u001b[0;32m/usr/local/lib/python3.7/dist-packages/numpy/lib/_datasource.py\u001b[0m in \u001b[0;36mopen\u001b[0;34m(path, mode, destpath, encoding, newline)\u001b[0m\n\u001b[1;32m    191\u001b[0m \u001b[0;34m\u001b[0m\u001b[0m\n\u001b[1;32m    192\u001b[0m     \u001b[0mds\u001b[0m \u001b[0;34m=\u001b[0m \u001b[0mDataSource\u001b[0m\u001b[0;34m(\u001b[0m\u001b[0mdestpath\u001b[0m\u001b[0;34m)\u001b[0m\u001b[0;34m\u001b[0m\u001b[0;34m\u001b[0m\u001b[0m\n\u001b[0;32m--> 193\u001b[0;31m     \u001b[0;32mreturn\u001b[0m \u001b[0mds\u001b[0m\u001b[0;34m.\u001b[0m\u001b[0mopen\u001b[0m\u001b[0;34m(\u001b[0m\u001b[0mpath\u001b[0m\u001b[0;34m,\u001b[0m \u001b[0mmode\u001b[0m\u001b[0;34m,\u001b[0m \u001b[0mencoding\u001b[0m\u001b[0;34m=\u001b[0m\u001b[0mencoding\u001b[0m\u001b[0;34m,\u001b[0m \u001b[0mnewline\u001b[0m\u001b[0;34m=\u001b[0m\u001b[0mnewline\u001b[0m\u001b[0;34m)\u001b[0m\u001b[0;34m\u001b[0m\u001b[0;34m\u001b[0m\u001b[0m\n\u001b[0m\u001b[1;32m    194\u001b[0m \u001b[0;34m\u001b[0m\u001b[0m\n\u001b[1;32m    195\u001b[0m \u001b[0;34m\u001b[0m\u001b[0m\n",
            "\u001b[0;32m/usr/local/lib/python3.7/dist-packages/numpy/lib/_datasource.py\u001b[0m in \u001b[0;36mopen\u001b[0;34m(self, path, mode, encoding, newline)\u001b[0m\n\u001b[1;32m    531\u001b[0m                                       encoding=encoding, newline=newline)\n\u001b[1;32m    532\u001b[0m         \u001b[0;32melse\u001b[0m\u001b[0;34m:\u001b[0m\u001b[0;34m\u001b[0m\u001b[0;34m\u001b[0m\u001b[0m\n\u001b[0;32m--> 533\u001b[0;31m             \u001b[0;32mraise\u001b[0m \u001b[0mIOError\u001b[0m\u001b[0;34m(\u001b[0m\u001b[0;34m\"%s not found.\"\u001b[0m \u001b[0;34m%\u001b[0m \u001b[0mpath\u001b[0m\u001b[0;34m)\u001b[0m\u001b[0;34m\u001b[0m\u001b[0;34m\u001b[0m\u001b[0m\n\u001b[0m\u001b[1;32m    534\u001b[0m \u001b[0;34m\u001b[0m\u001b[0m\n\u001b[1;32m    535\u001b[0m \u001b[0;34m\u001b[0m\u001b[0m\n",
            "\u001b[0;31mOSError\u001b[0m: python/grades.txt not found."
          ]
        }
      ]
    },
    {
      "cell_type": "code",
      "source": [
        "print(names)"
      ],
      "metadata": {
        "colab": {
          "base_uri": "https://localhost:8080/"
        },
        "id": "7XkHU_CAhS4I",
        "outputId": "7c44e46f-617e-43fa-9b12-7b9fd4bcce7e"
      },
      "execution_count": null,
      "outputs": [
        {
          "output_type": "stream",
          "name": "stdout",
          "text": [
            "['Ealhstan Saira', 'Gasparo Sava', 'Demetria Cosme', 'Majken Olgica', 'Miriana Rómulo', 'Utu Arcadius', 'Branwen Evelina', 'Amilia Hilaria', 'Marina Alimjan', 'Duilio Marius', 'Richa Ansgar', 'Bennett Frieda', 'Ermingard Tome', 'Jannike Lucianv', 'Neela Amaltheia', 'Asim Jeltje', 'Dulf Siguror', 'Eilert Mechteld', 'Storm Lital', 'Mubin Vyquoxpi']\n"
          ]
        }
      ]
    },
    {
      "cell_type": "code",
      "source": [
        "nums = np.loadtxt(\"python/numbers.txt\", delimiter=\"|\")\n",
        "\n",
        "print(nums)"
      ],
      "metadata": {
        "colab": {
          "base_uri": "https://localhost:8080/"
        },
        "id": "NIPs_Ctghvhi",
        "outputId": "b0ce11ee-5d24-49b0-a3ee-6b38042fa395"
      },
      "execution_count": null,
      "outputs": [
        {
          "output_type": "stream",
          "name": "stdout",
          "text": [
            "[ 1.02152  21.00885  12.01909  75.269    45.026    20.1266   52.05001\n",
            " 35.62992  65.23234  35.1978   35.6975   62.64895  26.49782  78.39794\n",
            " 59.35912  45.977021 29.31481  68.98213  29.23134  98.23586 ]\n"
          ]
        }
      ]
    },
    {
      "cell_type": "code",
      "source": [
        "mean = sum(nums)/len(nums)\n",
        "print(mean)"
      ],
      "metadata": {
        "colab": {
          "base_uri": "https://localhost:8080/"
        },
        "id": "5AnYd9VxiAg1",
        "outputId": "e0546cf9-3bba-48ac-c9ad-2ab1a4b29e39"
      },
      "execution_count": null,
      "outputs": [
        {
          "output_type": "stream",
          "name": "stdout",
          "text": [
            "44.84618105\n"
          ]
        }
      ]
    },
    {
      "cell_type": "code",
      "source": [
        "mean_square = sum(nums**2)/len(nums)\n",
        "print(mean_square)"
      ],
      "metadata": {
        "colab": {
          "base_uri": "https://localhost:8080/"
        },
        "id": "s5-Zi8LziJ_r",
        "outputId": "ce93b568-42ae-4faa-eb73-1e9cef67c23d"
      },
      "execution_count": null,
      "outputs": [
        {
          "output_type": "stream",
          "name": "stdout",
          "text": [
            "2598.258409035431\n"
          ]
        }
      ]
    },
    {
      "cell_type": "code",
      "source": [
        "geometric_mean = np.exp(sum(np.log(nums))/len(nums))\n",
        "print(geometric_mean  )"
      ],
      "metadata": {
        "colab": {
          "base_uri": "https://localhost:8080/"
        },
        "id": "HgSCmjmOjPnL",
        "outputId": "59df43bc-e0cc-4e22-bd69-6f1b81818468"
      },
      "execution_count": null,
      "outputs": [
        {
          "output_type": "stream",
          "name": "stdout",
          "text": [
            "34.44142385480943\n"
          ]
        }
      ]
    },
    {
      "cell_type": "code",
      "source": [
        "grades = np.loadtxt(\"python/grades2.txt\")\n",
        "print(grades)"
      ],
      "metadata": {
        "colab": {
          "base_uri": "https://localhost:8080/"
        },
        "id": "ggLXK_9Om9Z9",
        "outputId": "4b546561-f8c9-4a84-9670-5b34b07f66f9"
      },
      "execution_count": null,
      "outputs": [
        {
          "output_type": "stream",
          "name": "stdout",
          "text": [
            "[[ 1.        1.02152 ]\n",
            " [ 2.       21.00885 ]\n",
            " [ 3.       12.01909 ]\n",
            " [ 4.       75.269   ]\n",
            " [ 5.       45.026   ]\n",
            " [ 6.       20.1266  ]\n",
            " [ 7.       52.05001 ]\n",
            " [ 8.       35.62992 ]\n",
            " [ 9.       65.23234 ]\n",
            " [10.       35.1978  ]\n",
            " [11.       35.6975  ]\n",
            " [12.       62.64895 ]\n",
            " [13.       26.49782 ]\n",
            " [14.       78.39794 ]\n",
            " [15.       59.35912 ]\n",
            " [16.       45.977021]\n",
            " [17.       29.31481 ]\n",
            " [18.       68.98213 ]\n",
            " [19.       29.23134 ]\n",
            " [20.       98.23586 ]]\n"
          ]
        }
      ]
    },
    {
      "cell_type": "code",
      "source": [
        "grades[0][0]"
      ],
      "metadata": {
        "colab": {
          "base_uri": "https://localhost:8080/"
        },
        "id": "u-ZA2gq7nhWp",
        "outputId": "27f8e97e-5b7f-47a9-9427-b559fc430ec9"
      },
      "execution_count": null,
      "outputs": [
        {
          "output_type": "execute_result",
          "data": {
            "text/plain": [
              "1.0"
            ]
          },
          "metadata": {},
          "execution_count": 72
        }
      ]
    },
    {
      "cell_type": "code",
      "source": [
        "grades[2][0]"
      ],
      "metadata": {
        "colab": {
          "base_uri": "https://localhost:8080/"
        },
        "id": "MT03Zzjuni-z",
        "outputId": "5c2d0c61-5a80-40a8-f0d9-b5c7393fcd83"
      },
      "execution_count": null,
      "outputs": [
        {
          "output_type": "execute_result",
          "data": {
            "text/plain": [
              "3.0"
            ]
          },
          "metadata": {},
          "execution_count": 67
        }
      ]
    },
    {
      "cell_type": "code",
      "source": [
        "grades[3,1]"
      ],
      "metadata": {
        "colab": {
          "base_uri": "https://localhost:8080/"
        },
        "id": "NxVGdZwQnp4R",
        "outputId": "8ff9cdd1-ddc2-4820-9d5d-252029ebd8a0"
      },
      "execution_count": null,
      "outputs": [
        {
          "output_type": "execute_result",
          "data": {
            "text/plain": [
              "75.269"
            ]
          },
          "metadata": {},
          "execution_count": 68
        }
      ]
    },
    {
      "cell_type": "code",
      "source": [
        "b = grades[:5,1]\n",
        "print(b)"
      ],
      "metadata": {
        "colab": {
          "base_uri": "https://localhost:8080/"
        },
        "id": "fRRlcAiTntDp",
        "outputId": "2661a191-7728-4b01-c65d-a1a4f1c1987e"
      },
      "execution_count": null,
      "outputs": [
        {
          "output_type": "stream",
          "name": "stdout",
          "text": [
            "[ 1.02152 21.00885 12.01909 75.269   45.026  ]\n"
          ]
        }
      ]
    },
    {
      "cell_type": "code",
      "source": [
        "print(sum(b))"
      ],
      "metadata": {
        "colab": {
          "base_uri": "https://localhost:8080/"
        },
        "id": "beWSvLzXqcXp",
        "outputId": "c9acd273-6e26-4d35-9f13-93d4acef3d04"
      },
      "execution_count": null,
      "outputs": [
        {
          "output_type": "stream",
          "name": "stdout",
          "text": [
            "154.34446\n"
          ]
        }
      ]
    },
    {
      "cell_type": "code",
      "source": [
        "def find_fact(n):\n",
        "  f = 1\n",
        "  for i in range(1, n+1):\n",
        "    f = f*i\n",
        "  return f"
      ],
      "metadata": {
        "id": "Y3i8_hsIq_nS"
      },
      "execution_count": null,
      "outputs": []
    },
    {
      "cell_type": "code",
      "source": [
        "print(find_fact(int(input(\"Enter the number need to find the factorial\"))))"
      ],
      "metadata": {
        "colab": {
          "base_uri": "https://localhost:8080/"
        },
        "id": "_9RoTKLYu_w2",
        "outputId": "a28c291c-a29d-4492-826f-284fa0d119bf"
      },
      "execution_count": null,
      "outputs": [
        {
          "output_type": "stream",
          "name": "stdout",
          "text": [
            "Enter the number need to find the factorial5\n",
            "120\n"
          ]
        }
      ]
    },
    {
      "cell_type": "markdown",
      "source": [
        "#Lecture 3 Matplotlib"
      ],
      "metadata": {
        "id": "AUZyqKmiZ1mQ"
      }
    },
    {
      "cell_type": "code",
      "source": [
        "from matplotlib import pyplot as plt\n",
        "%matplotlib inline \n",
        "import numpy as np\n",
        " #To shows the plot inside the jupyter note book.\n"
      ],
      "metadata": {
        "id": "AWNJrtbIvITD"
      },
      "execution_count": null,
      "outputs": []
    },
    {
      "cell_type": "code",
      "source": [
        "x = [1,2,3,4]\n",
        "y = [1,4,9,16]\n",
        "\n",
        "plt.plot(x,y)\n",
        "plt.show()\n",
        "# plt.savefig(\"fist.pdf\")"
      ],
      "metadata": {
        "colab": {
          "base_uri": "https://localhost:8080/",
          "height": 283
        },
        "id": "RRDgGHFeaNPI",
        "outputId": "caf5d455-e36d-4191-adda-d27a9e91176e"
      },
      "execution_count": null,
      "outputs": [
        {
          "output_type": "display_data",
          "data": {
            "text/plain": [
              "<Figure size 432x288 with 1 Axes>"
            ],
            "image/png": "[encoded data removed]"
          },
          "metadata": {
            "needs_background": "light"
          }
        },
        {
          "output_type": "display_data",
          "data": {
            "text/plain": [
              "<Figure size 432x288 with 0 Axes>"
            ]
          },
          "metadata": {}
        }
      ]
    },
    {
      "cell_type": "code",
      "source": [
        "x = np.arange(0,20,0.1)\n",
        "# print(x)\n",
        "y = np.cos(x)\n",
        "y1 = np.exp(-x/10)*y\n",
        "plt.plot(x, y, label=\"Oscilation 1\", linewidth=3, color=\"r\", linestyyle=\"--\")\n",
        "plt.plot(x, y1, label=\"Oscilation 2\", linewidth=3, color=\"b\")\n",
        "plt.xlabel(\"$x$ axis\", size=24)\n",
        "plt.ylabel(\"$\\sin(x)$\", size=24)\n",
        "plt.legend()\n",
        "plt.show()\n"
      ],
      "metadata": {
        "colab": {
          "base_uri": "https://localhost:8080/",
          "height": 293
        },
        "id": "6RpOr1Hfbkzg",
        "outputId": "b080476f-2bd3-4462-b251-6a63f873d32e"
      },
      "execution_count": null,
      "outputs": [
        {
          "output_type": "display_data",
          "data": {
            "text/plain": [
              "<Figure size 432x288 with 1 Axes>"
            ],
            "image/png": "[encoded data removed]"
          },
          "metadata": {
            "needs_background": "light"
          }
        }
      ]
    },
    {
      "cell_type": "code",
      "source": [
        "x = np.arange(1,20,0.1)\n",
        "y = 10**x*(np.cos(x)**2)\n",
        "plt.plot(x,y)\n",
        "plt.yscale(\"log\")\n",
        "plt.xscale(\"log\")\n",
        "plt.show()"
      ],
      "metadata": {
        "colab": {
          "base_uri": "https://localhost:8080/",
          "height": 269
        },
        "id": "F_rq7uTOdhFR",
        "outputId": "a50c95b5-8182-4ca7-cb15-79c2332916ca"
      },
      "execution_count": null,
      "outputs": [
        {
          "output_type": "display_data",
          "data": {
            "text/plain": [
              "<Figure size 432x288 with 1 Axes>"
            ],
            "image/png": "[encoded data removed]"
          },
          "metadata": {
            "needs_background": "light"
          }
        }
      ]
    },
    {
      "cell_type": "code",
      "source": [
        "data = np.loadtxt(\"grades2.txt\")\n",
        "x = data[:,0]\n",
        "y = data[:,1]\n",
        "\n",
        "plt.plot(x,y)\n",
        "plt.show()"
      ],
      "metadata": {
        "colab": {
          "base_uri": "https://localhost:8080/",
          "height": 265
        },
        "id": "ZCSeOgGBg0Nv",
        "outputId": "3d10926e-a6b5-474e-e469-b4525efb3f7c"
      },
      "execution_count": null,
      "outputs": [
        {
          "output_type": "display_data",
          "data": {
            "text/plain": [
              "<Figure size 432x288 with 1 Axes>"
            ],
            "image/png": "[encoded data removed]"
          },
          "metadata": {
            "needs_background": "light"
          }
        }
      ]
    },
    {
      "cell_type": "markdown",
      "source": [
        "# Lecture 4, Round of and Truncation errors\n",
        "Based on the numerical methods for engineers, Chapters 2-4\n",
        "\n",
        "## Equation for finding derivative of f(x)\n",
        "$ f'(x)= \\frac{f(x+h)-f(x)}{h}$\n",
        "\n",
        "where\n",
        "$h$ = a small change \n",
        "\n",
        "\n",
        "## Appluication in Physics\n",
        "$f'(x_{i+1}) = \\frac{ f(x_{i+1}) -f(x_{i}) }{x_{i+1}-x_{i}} -  \\frac{R}{x_{i+1}-x_{i}}$\n",
        "\n",
        "* $\\frac{ f(x_{i+1}) -f(x_{i}) }{x_{i+1}-x_{i}}$ - Approximation\n",
        "* $\\frac{R}{x_{i+1}-x_{i}}$ - Trucation error\n",
        "\n",
        "\n",
        "\n",
        "##Different kinds of approximation formula can be useful\n",
        "1. Forward approximation formula\n",
        "$f'(x) =\\frac{ f(x_{i+1}) -f(x_{i}) }{x_{i+1}-x_{i}} +\\mathcal{O}(h) $\n",
        "2. Backword approximiation formula\n",
        "$f'(x) = \\frac{f(x_{i})-f(x_{i-1})}{x_{i}-x_{i-1}}+\\mathcal{O}(h)$\n",
        "3. Centred approximation formula\n",
        "$f'(x) = \\frac{f(x_{i+1})-f(x_{i-1})}{x_{i+1}-x_{i-1}}+\\mathcal{O}(h^2)$  \n",
        "(Function one and function two added togther)"
      ],
      "metadata": {
        "id": "MMgVIE6rkAXt"
      }
    },
    {
      "cell_type": "code",
      "source": [
        "import math\n",
        "print(math.pi)"
      ],
      "metadata": {
        "colab": {
          "base_uri": "https://localhost:8080/"
        },
        "id": "rjm9Ri6nig4N",
        "outputId": "626350ab-ac85-4286-fd4d-b438a7afeb8b"
      },
      "execution_count": null,
      "outputs": [
        {
          "output_type": "stream",
          "name": "stdout",
          "text": [
            "3.141592653589793\n"
          ]
        }
      ]
    },
    {
      "cell_type": "code",
      "source": [
        "print(x)"
      ],
      "metadata": {
        "colab": {
          "base_uri": "https://localhost:8080/"
        },
        "id": "uL1C0CPzk6TX",
        "outputId": "bce8c899-2983-4ad5-bbdc-c4e942e12498"
      },
      "execution_count": null,
      "outputs": [
        {
          "output_type": "stream",
          "name": "stdout",
          "text": [
            "[ 1.  2.  3.  4.  5.  6.  7.  8.  9. 10. 11. 12. 13. 14. 15. 16. 17. 18.\n",
            " 19. 20.]\n"
          ]
        }
      ]
    },
    {
      "cell_type": "code",
      "source": [
        "x = np.arange(0,1,0.01)\n",
        "y = 0.1*x**4 - 0.15*x**3-0.5*x**2-0.25*x+1.2\n",
        "print(y)"
      ],
      "metadata": {
        "colab": {
          "base_uri": "https://localhost:8080/"
        },
        "id": "WYRYUHyv3Hih",
        "outputId": "11798b1d-6813-454a-892f-c7eda61c2c3e"
      },
      "execution_count": null,
      "outputs": [
        {
          "output_type": "stream",
          "name": "stdout",
          "text": [
            "[1.2        1.19744985 1.19479882 1.19204603 1.18919066 1.18623188\n",
            " 1.1831689  1.18000095 1.1767273  1.17334721 1.16986    1.16626499\n",
            " 1.16256154 1.15874901 1.15482682 1.15079438 1.14665114 1.14239657\n",
            " 1.13803018 1.13355147 1.12896    1.12425533 1.11943706 1.11450479\n",
            " 1.10945818 1.10429687 1.09902058 1.09362899 1.08812186 1.08249893\n",
            " 1.07676    1.07090487 1.06493338 1.05884537 1.05264074 1.04631937\n",
            " 1.03988122 1.03332621 1.02665434 1.01986559 1.01296    1.00593761\n",
            " 0.9987985  0.99154275 0.9841705  0.97668187 0.96907706 0.96135623\n",
            " 0.95351962 0.94556745 0.9375     0.92931755 0.92102042 0.91260893\n",
            " 0.90408346 0.89544437 0.8866921  0.87782705 0.8688497  0.85976051\n",
            " 0.85056    0.84124869 0.83182714 0.82229591 0.81265562 0.80290687\n",
            " 0.79305034 0.78308667 0.77301658 0.76284077 0.75256    0.74217503\n",
            " 0.73168666 0.72109569 0.71040298 0.69960937 0.68871578 0.67772309\n",
            " 0.66663226 0.65544423 0.64416    0.63278057 0.62130698 0.60974027\n",
            " 0.59808154 0.58633188 0.57449242 0.56256431 0.55054874 0.53844689\n",
            " 0.52626    0.51398931 0.5016361  0.48920165 0.4766873  0.46409437\n",
            " 0.45142426 0.43867833 0.42585802 0.41296475]\n"
          ]
        }
      ]
    },
    {
      "cell_type": "code",
      "source": [
        "plt.plot(x,y)\n",
        "plt.yscale(\"log\")\n",
        "plt.xscale(\"log\")\n",
        "plt.show()"
      ],
      "metadata": {
        "colab": {
          "base_uri": "https://localhost:8080/",
          "height": 269
        },
        "id": "2K5T294t3ghs",
        "outputId": "eab6f643-31dd-47c1-b825-0a8f4adbe927"
      },
      "execution_count": null,
      "outputs": [
        {
          "output_type": "display_data",
          "data": {
            "text/plain": [
              "<Figure size 432x288 with 1 Axes>"
            ],
            "image/png": "[encoded data removed]"
          },
          "metadata": {
            "needs_background": "light"
          }
        }
      ]
    },
    {
      "cell_type": "code",
      "source": [
        "plt.show()"
      ],
      "metadata": {
        "id": "v0LToBsX3z86"
      },
      "execution_count": null,
      "outputs": []
    },
    {
      "cell_type": "code",
      "source": [],
      "metadata": {
        "id": "8wAU6crY34bz"
      },
      "execution_count": null,
      "outputs": []
    },
    {
      "cell_type": "markdown",
      "source": [
        "#Root finding\n",
        "---\n",
        "## Methods available to find the roots of a function\n",
        "Root of a fucntion means, the value of $x$ when $f(x)=0$\n",
        "- \n",
        "- Bracketing: \n",
        "  1. Bisection method\n",
        "  ### Steps\n",
        "    1. Select two points $a,b$ in the $f(x)$\n",
        "    2. Find the mid point $c= \\frac{a+b}{2}$\n",
        "    3. Find $f(a)f(c)$\n",
        "      - If $f(a)f(c) > 0$, Avoid the region between $[a, c]$ and set $a=c$\n",
        "      - If $f(a)f(c) < 0$. The root lied between $[a,c]$ and set $b=c$\n",
        "      - If  $f(a)f(c) = 0$, Root\n",
        "    4. Iterate upto find $f(a)f(c) = 0$,\n",
        "  2. False position method\n",
        "\n",
        "- Open \n",
        "\n",
        "Take two assumption\n",
        "1. single root\n",
        "2. Real rootxdd\n"
      ],
      "metadata": {
        "id": "3VjEAbM3F21e"
      }
    },
    {
      "cell_type": "code",
      "source": [
        "x = np.arange(1,10)"
      ],
      "metadata": {
        "id": "e4N8Zul7RymN"
      },
      "execution_count": null,
      "outputs": []
    },
    {
      "cell_type": "code",
      "source": [
        "y = (x**10)-1"
      ],
      "metadata": {
        "id": "koac0f0rR4Rh"
      },
      "execution_count": null,
      "outputs": []
    },
    {
      "cell_type": "code",
      "source": [
        "plt.plot(x,y)"
      ],
      "metadata": {
        "colab": {
          "base_uri": "https://localhost:8080/",
          "height": 294
        },
        "id": "-hJ8KeW2STh2",
        "outputId": "79a15174-b0e0-4360-da7a-e221788a7f92"
      },
      "execution_count": null,
      "outputs": [
        {
          "output_type": "execute_result",
          "data": {
            "text/plain": [
              "[<matplotlib.lines.Line2D at 0x7f60552ad150>]"
            ]
          },
          "metadata": {},
          "execution_count": 7
        },
        {
          "output_type": "display_data",
          "data": {
            "text/plain": [
              "<Figure size 432x288 with 1 Axes>"
            ],
            "image/png": "[encoded data removed]"
          },
          "metadata": {
            "needs_background": "light"
          }
        }
      ]
    },
    {
      "cell_type": "markdown",
      "source": [
        "## Bisection method\n",
        "\n",
        "$x_r = \\frac{x_l+x_u}{2}$\n",
        "\n",
        "## False Position Method\n",
        "$x_r = x_u-\\frac{f(x_u)*x_l-x_u}{f(x_l)-f(x_u)}$"
      ],
      "metadata": {
        "id": "Cju3iUM-31Bb"
      }
    },
    {
      "cell_type": "markdown",
      "source": [
        "# Ploting equation\n",
        "$$f(x): x^3+x-3=0$$"
      ],
      "metadata": {
        "id": "S1NfnXOzSqMK"
      }
    },
    {
      "cell_type": "code",
      "source": [
        "def f(x):\n",
        "  return x**3+x-3"
      ],
      "metadata": {
        "id": "DjjhjwTA4WG6"
      },
      "execution_count": null,
      "outputs": []
    },
    {
      "cell_type": "code",
      "source": [
        "x =  np.arange(0,2, 0.1)"
      ],
      "metadata": {
        "id": "c64QhO_8Sek3"
      },
      "execution_count": null,
      "outputs": []
    },
    {
      "cell_type": "code",
      "source": [
        "plt.plot(x,f(x))\n",
        "plt.grid()\n",
        "plt.show()"
      ],
      "metadata": {
        "colab": {
          "base_uri": "https://localhost:8080/",
          "height": 265
        },
        "id": "2sfyoT9qTXGd",
        "outputId": "3be43e67-191f-4c2f-99d5-d9a356ded821"
      },
      "execution_count": null,
      "outputs": [
        {
          "output_type": "display_data",
          "data": {
            "text/plain": [
              "<Figure size 432x288 with 1 Axes>"
            ],
            "image/png": "[encoded data removed]"
          },
          "metadata": {
            "needs_background": "light"
          }
        }
      ]
    },
    {
      "cell_type": "code",
      "source": [
        "#Bisecction method\n",
        "\n",
        "def bisect(xl , xu, es, imax): #xl - > x lower, xu-> x upper , es -> precision, imax - > max iteration\n",
        "# xl=0.5; xu =1.5; es=1e-12; imax= 100\n",
        "  xr = xu\n",
        "  x = []; e = []; it = []\n",
        "\n",
        "  for i in range(imax):\n",
        "    it.append(i)\n",
        "\n",
        "    xrold=xr\n",
        "    xr= 0.5*(xl+xu) # find the mid point between the function\n",
        "    \n",
        "    if xr != 0.0:\n",
        "      ea = abs((xr-xrold)/xr)*100 # find out the error %\n",
        "    x.append(xr)\n",
        "    e.append(ea)\n",
        "\n",
        "    test = f(xl)*f(xr)\n",
        "\n",
        "    if test>0:\n",
        "      xl=xr\n",
        "    elif test<=0:\n",
        "      xu = xr\n",
        "    else:\n",
        "      ea = 0\n",
        "    \n",
        "    if ea<es:\n",
        "        break\n",
        "    \n",
        "  return it, x,e\n",
        "\n",
        "\n"
      ],
      "metadata": {
        "id": "u99tkz8X4lu_"
      },
      "execution_count": null,
      "outputs": []
    },
    {
      "cell_type": "code",
      "source": [
        "print(x, e, it) #xr= "
      ],
      "metadata": {
        "colab": {
          "base_uri": "https://localhost:8080/"
        },
        "id": "Q71vZbq1CoOn",
        "outputId": "ccd927fc-b858-4b8f-f43f-abdfa59c3a18"
      },
      "execution_count": null,
      "outputs": [
        {
          "output_type": "stream",
          "name": "stdout",
          "text": [
            "[1.0, 1.25, 1.125, 1.1875, 1.15625, 1.171875, 1.1640625, 1.16015625, 1.162109375, 1.1630859375, 1.16357421875, 1.163818359375, 1.1639404296875, 1.16400146484375, 1.164031982421875, 1.1640472412109375, 1.1640396118164062, 1.1640357971191406, 1.1640338897705078, 1.1640348434448242, 1.1640353202819824, 1.1640350818634033, 1.1640352010726929, 1.164035141468048, 1.1640351116657257, 1.164035126566887, 1.1640351340174675, 1.1640351377427578, 1.164035139605403, 1.1640351405367255, 1.1640351400710642, 1.1640351403038949, 1.1640351401874796, 1.1640351402456872, 1.164035140274791, 1.164035140289343, 1.164035140296619, 1.164035140292981, 1.164035140291162, 1.1640351402902525, 1.1640351402897977, 1.1640351402895703, 1.164035140289684, 1.1640351402897409, 1.1640351402897693, 1.1640351402897835, 1.1640351402897764] [50.0, 20.0, 11.11111111111111, 5.263157894736842, 2.7027027027027026, 1.3333333333333335, 0.6711409395973155, 0.33670033670033667, 0.16806722689075632, 0.08396305625524769, 0.0419639110365086, 0.020977554017201593, 0.01048767697954903, 0.005243563525772115, 0.0026217130272920327, 0.00131083933042327, 0.0006554239609891659, 0.000327713054449524, 0.00016385679571481707, 8.192833073483978e-05, 4.096414858679832e-05, 2.0482078488553694e-05, 1.0241038195488106e-05, 5.120519359941225e-06, 2.5602597455199104e-06, 1.2801298563726305e-06, 6.400649240894841e-07, 3.200324610205343e-07, 1.6001623025421522e-07, 8.000811506309463e-08, 4.000405754755056e-08, 2.0002028769774468e-08, 1.0001014385887436e-08, 5.000507192693667e-09, 2.500253596284321e-09, 1.2501267981265322e-09, 6.250633990593591e-10, 3.125316995306563e-10, 1.5626584976557235e-10, 7.813292488284723e-11, 3.9066462441438873e-11, 1.9533231220723253e-11, 9.766615610360672e-12, 4.8833078051800975e-12, 2.441653902589989e-12, 1.2208269512949797e-12, 6.104134756474936e-13] [0, 1, 2, 3, 4, 5, 6, 7, 8, 9, 10, 11, 12, 13, 14, 15, 16, 17, 18, 19, 20, 21, 22, 23, 24, 25, 26, 27, 28, 29, 30, 31, 32, 33, 34, 35, 36, 37, 38, 39, 40, 41, 42, 43, 44, 45, 46]\n"
          ]
        }
      ]
    },
    {
      "cell_type": "code",
      "source": [
        "#False position method\n",
        "\n",
        "def falsep(xl , xu, es, imax): #xl - > x lower, xu-> x upper , es -> precision, imax - > max iteration\n",
        "# xl=0.5; xu =1.5; es=1e-12; imax= 100\n",
        "  xr = xu\n",
        "  x = []; e = []; it = []\n",
        "\n",
        "  for i in range(imax):\n",
        "    it.append(i)\n",
        "\n",
        "    xrold=xr\n",
        "    xr= xu - f(xu)*(xl-xu)/f(xl)-f(xu) # find the mid point between the function\n",
        "    \n",
        "    if xr != 0.0:\n",
        "      ea = abs((xr-xrold)/xr)*100 # find out the error %\n",
        "    x.append(xr)\n",
        "    e.append(ea)\n",
        "\n",
        "    test = f(xl)*f(xr)\n",
        "\n",
        "    if test>0:\n",
        "      xl=xr\n",
        "    elif test<=0:\n",
        "      xu = xr\n",
        "    else:\n",
        "      ea = 0\n",
        "    \n",
        "    if ea<es:\n",
        "        break\n",
        "    \n",
        "  return it, x,e\n",
        "\n",
        "\n"
      ],
      "metadata": {
        "id": "xSv6JDPp8lOo"
      },
      "execution_count": null,
      "outputs": []
    },
    {
      "cell_type": "code",
      "source": [
        "i1, x1, e1 = bisect(0.5, 1.5, 1e-12, 100)"
      ],
      "metadata": {
        "id": "4-ovh5kH9ZqY"
      },
      "execution_count": null,
      "outputs": []
    },
    {
      "cell_type": "code",
      "source": [
        "\n",
        "i2, x2, e2 = falsep(0.5, 1.5, 1e-12, 100)"
      ],
      "metadata": {
        "id": "AyYe_RpM-fUk"
      },
      "execution_count": null,
      "outputs": []
    },
    {
      "cell_type": "code",
      "source": [
        "plt.plot(i1,e1, label=\"Bisect method\" )\n",
        "plt.plot(i2, e2, label=\"False Position\")\n",
        "plt.xlabel(\"Number of iteration\")\n",
        "plt.ylabel(\"Log\")\n",
        "plt.yscale('log')"
      ],
      "metadata": {
        "colab": {
          "base_uri": "https://localhost:8080/",
          "height": 284
        },
        "id": "nHyH7W0I-Z6z",
        "outputId": "548ca209-3e51-4fab-e9c9-c1b7eaeefd8a"
      },
      "execution_count": null,
      "outputs": [
        {
          "output_type": "display_data",
          "data": {
            "text/plain": [
              "<Figure size 432x288 with 1 Axes>"
            ],
            "image/png": "[encoded data removed]"
          },
          "metadata": {
            "needs_background": "light"
          }
        }
      ]
    },
    {
      "cell_type": "markdown",
      "source": [
        "# Lecture 8\n",
        "## Open methods for finding the solution of the function\n",
        "1. Fixed point method\n",
        "2. Newton Raphson method\n",
        "3. Secant method: Approximate derivative\n"
      ],
      "metadata": {
        "id": "v7-P4IhR0mQD"
      }
    }
  ]
}