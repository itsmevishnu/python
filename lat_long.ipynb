{
 "cells": [
  {
   "cell_type": "code",
   "execution_count": 23,
   "metadata": {},
   "outputs": [],
   "source": [
    "import requests\n",
    "import json\n",
    "import pandas as pd\n",
    "import seaborn as sn"
   ]
  },
  {
   "cell_type": "code",
   "execution_count": 3,
   "metadata": {},
   "outputs": [],
   "source": [
    "data = pd.read_csv(\"data_set/lat_long.csv\")"
   ]
  },
  {
   "cell_type": "code",
   "execution_count": 4,
   "metadata": {},
   "outputs": [
    {
     "data": {
      "text/html": [
       "<div>\n",
       "<style scoped>\n",
       "    .dataframe tbody tr th:only-of-type {\n",
       "        vertical-align: middle;\n",
       "    }\n",
       "\n",
       "    .dataframe tbody tr th {\n",
       "        vertical-align: top;\n",
       "    }\n",
       "\n",
       "    .dataframe thead th {\n",
       "        text-align: right;\n",
       "    }\n",
       "</style>\n",
       "<table border=\"1\" class=\"dataframe\">\n",
       "  <thead>\n",
       "    <tr style=\"text-align: right;\">\n",
       "      <th></th>\n",
       "      <th>city</th>\n",
       "      <th>lat</th>\n",
       "      <th>lng</th>\n",
       "      <th>country</th>\n",
       "      <th>iso2</th>\n",
       "      <th>admin_name</th>\n",
       "      <th>capital</th>\n",
       "      <th>population</th>\n",
       "      <th>population_proper</th>\n",
       "    </tr>\n",
       "  </thead>\n",
       "  <tbody>\n",
       "    <tr>\n",
       "      <th>0</th>\n",
       "      <td>Delhi</td>\n",
       "      <td>28.6600</td>\n",
       "      <td>77.2300</td>\n",
       "      <td>India</td>\n",
       "      <td>IN</td>\n",
       "      <td>Delhi</td>\n",
       "      <td>admin</td>\n",
       "      <td>29617000.0</td>\n",
       "      <td>16753235.0</td>\n",
       "    </tr>\n",
       "    <tr>\n",
       "      <th>1</th>\n",
       "      <td>Mumbai</td>\n",
       "      <td>18.9667</td>\n",
       "      <td>72.8333</td>\n",
       "      <td>India</td>\n",
       "      <td>IN</td>\n",
       "      <td>Mahārāshtra</td>\n",
       "      <td>admin</td>\n",
       "      <td>23355000.0</td>\n",
       "      <td>12478447.0</td>\n",
       "    </tr>\n",
       "    <tr>\n",
       "      <th>2</th>\n",
       "      <td>Kolkāta</td>\n",
       "      <td>22.5411</td>\n",
       "      <td>88.3378</td>\n",
       "      <td>India</td>\n",
       "      <td>IN</td>\n",
       "      <td>West Bengal</td>\n",
       "      <td>admin</td>\n",
       "      <td>17560000.0</td>\n",
       "      <td>4496694.0</td>\n",
       "    </tr>\n",
       "    <tr>\n",
       "      <th>3</th>\n",
       "      <td>Bangalore</td>\n",
       "      <td>12.9699</td>\n",
       "      <td>77.5980</td>\n",
       "      <td>India</td>\n",
       "      <td>IN</td>\n",
       "      <td>Karnātaka</td>\n",
       "      <td>admin</td>\n",
       "      <td>13707000.0</td>\n",
       "      <td>8443675.0</td>\n",
       "    </tr>\n",
       "    <tr>\n",
       "      <th>4</th>\n",
       "      <td>Chennai</td>\n",
       "      <td>13.0825</td>\n",
       "      <td>80.2750</td>\n",
       "      <td>India</td>\n",
       "      <td>IN</td>\n",
       "      <td>Tamil Nādu</td>\n",
       "      <td>admin</td>\n",
       "      <td>11324000.0</td>\n",
       "      <td>6727000.0</td>\n",
       "    </tr>\n",
       "  </tbody>\n",
       "</table>\n",
       "</div>"
      ],
      "text/plain": [
       "        city      lat      lng country iso2   admin_name capital  population  \\\n",
       "0      Delhi  28.6600  77.2300   India   IN        Delhi   admin  29617000.0   \n",
       "1     Mumbai  18.9667  72.8333   India   IN  Mahārāshtra   admin  23355000.0   \n",
       "2    Kolkāta  22.5411  88.3378   India   IN  West Bengal   admin  17560000.0   \n",
       "3  Bangalore  12.9699  77.5980   India   IN    Karnātaka   admin  13707000.0   \n",
       "4    Chennai  13.0825  80.2750   India   IN   Tamil Nādu   admin  11324000.0   \n",
       "\n",
       "   population_proper  \n",
       "0         16753235.0  \n",
       "1         12478447.0  \n",
       "2          4496694.0  \n",
       "3          8443675.0  \n",
       "4          6727000.0  "
      ]
     },
     "execution_count": 4,
     "metadata": {},
     "output_type": "execute_result"
    }
   ],
   "source": [
    "data.head()"
   ]
  },
  {
   "cell_type": "code",
   "execution_count": 28,
   "metadata": {},
   "outputs": [
    {
     "data": {
      "text/plain": [
       "0      28.6600\n",
       "1      18.9667\n",
       "2      22.5411\n",
       "3      12.9699\n",
       "4      13.0825\n",
       "        ...   \n",
       "401    24.5925\n",
       "402    15.2500\n",
       "403    10.5626\n",
       "404    30.6915\n",
       "405    19.3316\n",
       "Name: lat, Length: 406, dtype: float64"
      ]
     },
     "execution_count": 28,
     "metadata": {},
     "output_type": "execute_result"
    }
   ],
   "source": []
  },
  {
   "cell_type": "code",
   "execution_count": 5,
   "metadata": {},
   "outputs": [],
   "source": [
    "def find_elevation(lat, lng):\n",
    "    url = f\"https://api.open-elevation.com/api/v1/lookup?locations={lat},{lng}\"\n",
    "    try:\n",
    "        response = requests.get(url, verify=False)\n",
    "        data = json.loads(response.content.decode('utf-8'))\n",
    "    except Exception as e:\n",
    "        print(f\"Some error occuered. Error is {e}\")\n",
    "    return data[\"results\"][0][\"elevation\"]"
   ]
  },
  {
   "cell_type": "code",
   "execution_count": 9,
   "metadata": {},
   "outputs": [],
   "source": [
    "df = pd.read_csv(\"data_set/modified_lat_long.csv\")"
   ]
  },
  {
   "cell_type": "code",
   "execution_count": 12,
   "metadata": {},
   "outputs": [
    {
     "data": {
      "text/plain": [
       "165.0"
      ]
     },
     "execution_count": 12,
     "metadata": {},
     "output_type": "execute_result"
    }
   ],
   "source": [
    "df[\"elevation\"].median()    "
   ]
  },
  {
   "cell_type": "code",
   "execution_count": 14,
   "metadata": {},
   "outputs": [
    {
     "data": {
      "text/plain": [
       "365.43409980327914"
      ]
     },
     "execution_count": 14,
     "metadata": {},
     "output_type": "execute_result"
    }
   ],
   "source": [
    "df[\"elevation\"].std()"
   ]
  },
  {
   "cell_type": "code",
   "execution_count": 17,
   "metadata": {},
   "outputs": [
    {
     "data": {
      "text/plain": [
       "count     406.00000\n",
       "mean      267.64532\n",
       "std       365.43410\n",
       "min        -1.00000\n",
       "25%        27.25000\n",
       "50%       165.00000\n",
       "75%       345.75000\n",
       "max      2250.00000\n",
       "Name: elevation, dtype: float64"
      ]
     },
     "execution_count": 17,
     "metadata": {},
     "output_type": "execute_result"
    }
   ],
   "source": [
    "df[\"elevation\"].describe()"
   ]
  },
  {
   "cell_type": "code",
   "execution_count": 22,
   "metadata": {},
   "outputs": [
    {
     "data": {
      "text/plain": [
       "1964.0999999999972"
      ]
     },
     "execution_count": 22,
     "metadata": {},
     "output_type": "execute_result"
    }
   ],
   "source": [
    "df[\"elevation\"].quantile(0.99)"
   ]
  },
  {
   "cell_type": "code",
   "execution_count": 32,
   "metadata": {},
   "outputs": [],
   "source": [
    "mean = df[\"elevation\"].mean()\n",
    "std = df[\"elevation\"].std()\n",
    "\n",
    "\n"
   ]
  },
  {
   "cell_type": "code",
   "execution_count": 34,
   "metadata": {},
   "outputs": [
    {
     "data": {
      "text/plain": [
       "1363.9476196068817"
      ]
     },
     "execution_count": 34,
     "metadata": {},
     "output_type": "execute_result"
    }
   ],
   "source": [
    "mean + 3 *std"
   ]
  },
  {
   "cell_type": "code",
   "execution_count": 33,
   "metadata": {},
   "outputs": [
    {
     "data": {
      "text/plain": [
       "-828.656979212793"
      ]
     },
     "execution_count": 33,
     "metadata": {},
     "output_type": "execute_result"
    }
   ],
   "source": [
    "mean - 3* std"
   ]
  },
  {
   "cell_type": "code",
   "execution_count": 26,
   "metadata": {},
   "outputs": [
    {
     "data": {
      "text/plain": [
       "<AxesSubplot:xlabel='elevation', ylabel='Count'>"
      ]
     },
     "execution_count": 26,
     "metadata": {},
     "output_type": "execute_result"
    },
    {
     "data": {
      "image/png": "[encoded data removed]",
      "text/plain": [
       "<Figure size 432x288 with 1 Axes>"
      ]
     },
     "metadata": {
      "needs_background": "light"
     },
     "output_type": "display_data"
    }
   ],
   "source": [
    "sn.histplot(df[\"elevation\"], kde=True)"
   ]
  },
  {
   "cell_type": "code",
   "execution_count": 29,
   "metadata": {},
   "outputs": [
    {
     "data": {
      "text/html": [
       "<div>\n",
       "<style scoped>\n",
       "    .dataframe tbody tr th:only-of-type {\n",
       "        vertical-align: middle;\n",
       "    }\n",
       "\n",
       "    .dataframe tbody tr th {\n",
       "        vertical-align: top;\n",
       "    }\n",
       "\n",
       "    .dataframe thead th {\n",
       "        text-align: right;\n",
       "    }\n",
       "</style>\n",
       "<table border=\"1\" class=\"dataframe\">\n",
       "  <thead>\n",
       "    <tr style=\"text-align: right;\">\n",
       "      <th></th>\n",
       "      <th>city</th>\n",
       "      <th>lat</th>\n",
       "      <th>lng</th>\n",
       "      <th>country</th>\n",
       "      <th>iso2</th>\n",
       "      <th>admin_name</th>\n",
       "      <th>capital</th>\n",
       "      <th>population</th>\n",
       "      <th>population_proper</th>\n",
       "      <th>elevation</th>\n",
       "    </tr>\n",
       "  </thead>\n",
       "  <tbody>\n",
       "    <tr>\n",
       "      <th>36</th>\n",
       "      <td>Srīnagar</td>\n",
       "      <td>34.0911</td>\n",
       "      <td>74.8061</td>\n",
       "      <td>India</td>\n",
       "      <td>IN</td>\n",
       "      <td>Jammu and Kashmīr</td>\n",
       "      <td>admin</td>\n",
       "      <td>1180570.0</td>\n",
       "      <td>1180570.0</td>\n",
       "      <td>1596</td>\n",
       "    </tr>\n",
       "    <tr>\n",
       "      <th>153</th>\n",
       "      <td>Handwāra</td>\n",
       "      <td>34.4000</td>\n",
       "      <td>74.2800</td>\n",
       "      <td>India</td>\n",
       "      <td>IN</td>\n",
       "      <td>Jammu and Kashmīr</td>\n",
       "      <td>NaN</td>\n",
       "      <td>269311.0</td>\n",
       "      <td>269311.0</td>\n",
       "      <td>1604</td>\n",
       "    </tr>\n",
       "    <tr>\n",
       "      <th>178</th>\n",
       "      <td>Shimla</td>\n",
       "      <td>31.1033</td>\n",
       "      <td>77.1722</td>\n",
       "      <td>India</td>\n",
       "      <td>IN</td>\n",
       "      <td>Himāchal Pradesh</td>\n",
       "      <td>admin</td>\n",
       "      <td>206575.0</td>\n",
       "      <td>206575.0</td>\n",
       "      <td>2111</td>\n",
       "    </tr>\n",
       "    <tr>\n",
       "      <th>212</th>\n",
       "      <td>Bāramūla</td>\n",
       "      <td>34.2000</td>\n",
       "      <td>74.3400</td>\n",
       "      <td>India</td>\n",
       "      <td>IN</td>\n",
       "      <td>Jammu and Kashmīr</td>\n",
       "      <td>NaN</td>\n",
       "      <td>167986.0</td>\n",
       "      <td>167986.0</td>\n",
       "      <td>1598</td>\n",
       "    </tr>\n",
       "    <tr>\n",
       "      <th>242</th>\n",
       "      <td>Shillong</td>\n",
       "      <td>25.5744</td>\n",
       "      <td>91.8789</td>\n",
       "      <td>India</td>\n",
       "      <td>IN</td>\n",
       "      <td>Meghālaya</td>\n",
       "      <td>admin</td>\n",
       "      <td>143229.0</td>\n",
       "      <td>143229.0</td>\n",
       "      <td>1499</td>\n",
       "    </tr>\n",
       "    <tr>\n",
       "      <th>268</th>\n",
       "      <td>Darjeeling</td>\n",
       "      <td>27.0417</td>\n",
       "      <td>88.2631</td>\n",
       "      <td>India</td>\n",
       "      <td>IN</td>\n",
       "      <td>West Bengal</td>\n",
       "      <td>NaN</td>\n",
       "      <td>118805.0</td>\n",
       "      <td>118805.0</td>\n",
       "      <td>2041</td>\n",
       "    </tr>\n",
       "    <tr>\n",
       "      <th>269</th>\n",
       "      <td>Sopur</td>\n",
       "      <td>34.3000</td>\n",
       "      <td>74.4700</td>\n",
       "      <td>India</td>\n",
       "      <td>IN</td>\n",
       "      <td>Jammu and Kashmīr</td>\n",
       "      <td>NaN</td>\n",
       "      <td>118608.0</td>\n",
       "      <td>118608.0</td>\n",
       "      <td>1582</td>\n",
       "    </tr>\n",
       "    <tr>\n",
       "      <th>290</th>\n",
       "      <td>Gangtok</td>\n",
       "      <td>27.3300</td>\n",
       "      <td>88.6200</td>\n",
       "      <td>India</td>\n",
       "      <td>IN</td>\n",
       "      <td>Sikkim</td>\n",
       "      <td>admin</td>\n",
       "      <td>100286.0</td>\n",
       "      <td>100286.0</td>\n",
       "      <td>1586</td>\n",
       "    </tr>\n",
       "    <tr>\n",
       "      <th>291</th>\n",
       "      <td>Kohīma</td>\n",
       "      <td>25.6667</td>\n",
       "      <td>94.1194</td>\n",
       "      <td>India</td>\n",
       "      <td>IN</td>\n",
       "      <td>Nāgāland</td>\n",
       "      <td>admin</td>\n",
       "      <td>99039.0</td>\n",
       "      <td>99039.0</td>\n",
       "      <td>1392</td>\n",
       "    </tr>\n",
       "    <tr>\n",
       "      <th>299</th>\n",
       "      <td>Ootacamund</td>\n",
       "      <td>11.4086</td>\n",
       "      <td>76.6939</td>\n",
       "      <td>India</td>\n",
       "      <td>IN</td>\n",
       "      <td>Tamil Nādu</td>\n",
       "      <td>NaN</td>\n",
       "      <td>88430.0</td>\n",
       "      <td>88430.0</td>\n",
       "      <td>2250</td>\n",
       "    </tr>\n",
       "    <tr>\n",
       "      <th>366</th>\n",
       "      <td>Naini Tal</td>\n",
       "      <td>29.3919</td>\n",
       "      <td>79.4542</td>\n",
       "      <td>India</td>\n",
       "      <td>IN</td>\n",
       "      <td>Uttarakhand</td>\n",
       "      <td>NaN</td>\n",
       "      <td>41377.0</td>\n",
       "      <td>41377.0</td>\n",
       "      <td>1977</td>\n",
       "    </tr>\n",
       "    <tr>\n",
       "      <th>377</th>\n",
       "      <td>Kodaikānal</td>\n",
       "      <td>10.2300</td>\n",
       "      <td>77.4800</td>\n",
       "      <td>India</td>\n",
       "      <td>IN</td>\n",
       "      <td>Tamil Nādu</td>\n",
       "      <td>NaN</td>\n",
       "      <td>36501.0</td>\n",
       "      <td>36501.0</td>\n",
       "      <td>2105</td>\n",
       "    </tr>\n",
       "    <tr>\n",
       "      <th>390</th>\n",
       "      <td>Bandipura</td>\n",
       "      <td>34.4225</td>\n",
       "      <td>74.6375</td>\n",
       "      <td>India</td>\n",
       "      <td>IN</td>\n",
       "      <td>Jammu and Kashmīr</td>\n",
       "      <td>NaN</td>\n",
       "      <td>27482.0</td>\n",
       "      <td>27482.0</td>\n",
       "      <td>1611</td>\n",
       "    </tr>\n",
       "    <tr>\n",
       "      <th>399</th>\n",
       "      <td>Kulgam</td>\n",
       "      <td>33.6400</td>\n",
       "      <td>75.0200</td>\n",
       "      <td>India</td>\n",
       "      <td>IN</td>\n",
       "      <td>Jammu and Kashmīr</td>\n",
       "      <td>NaN</td>\n",
       "      <td>23584.0</td>\n",
       "      <td>23584.0</td>\n",
       "      <td>1719</td>\n",
       "    </tr>\n",
       "  </tbody>\n",
       "</table>\n",
       "</div>"
      ],
      "text/plain": [
       "           city      lat      lng country iso2         admin_name capital  \\\n",
       "36     Srīnagar  34.0911  74.8061   India   IN  Jammu and Kashmīr   admin   \n",
       "153    Handwāra  34.4000  74.2800   India   IN  Jammu and Kashmīr     NaN   \n",
       "178      Shimla  31.1033  77.1722   India   IN   Himāchal Pradesh   admin   \n",
       "212    Bāramūla  34.2000  74.3400   India   IN  Jammu and Kashmīr     NaN   \n",
       "242    Shillong  25.5744  91.8789   India   IN          Meghālaya   admin   \n",
       "268  Darjeeling  27.0417  88.2631   India   IN        West Bengal     NaN   \n",
       "269       Sopur  34.3000  74.4700   India   IN  Jammu and Kashmīr     NaN   \n",
       "290     Gangtok  27.3300  88.6200   India   IN             Sikkim   admin   \n",
       "291      Kohīma  25.6667  94.1194   India   IN           Nāgāland   admin   \n",
       "299  Ootacamund  11.4086  76.6939   India   IN         Tamil Nādu     NaN   \n",
       "366   Naini Tal  29.3919  79.4542   India   IN        Uttarakhand     NaN   \n",
       "377  Kodaikānal  10.2300  77.4800   India   IN         Tamil Nādu     NaN   \n",
       "390   Bandipura  34.4225  74.6375   India   IN  Jammu and Kashmīr     NaN   \n",
       "399      Kulgam  33.6400  75.0200   India   IN  Jammu and Kashmīr     NaN   \n",
       "\n",
       "     population  population_proper  elevation  \n",
       "36    1180570.0          1180570.0       1596  \n",
       "153    269311.0           269311.0       1604  \n",
       "178    206575.0           206575.0       2111  \n",
       "212    167986.0           167986.0       1598  \n",
       "242    143229.0           143229.0       1499  \n",
       "268    118805.0           118805.0       2041  \n",
       "269    118608.0           118608.0       1582  \n",
       "290    100286.0           100286.0       1586  \n",
       "291     99039.0            99039.0       1392  \n",
       "299     88430.0            88430.0       2250  \n",
       "366     41377.0            41377.0       1977  \n",
       "377     36501.0            36501.0       2105  \n",
       "390     27482.0            27482.0       1611  \n",
       "399     23584.0            23584.0       1719  "
      ]
     },
     "execution_count": 29,
     "metadata": {},
     "output_type": "execute_result"
    }
   ],
   "source": [
    "df[df[\"elevation\"]>(mean+3*std)]"
   ]
  },
  {
   "cell_type": "code",
   "execution_count": 36,
   "metadata": {},
   "outputs": [],
   "source": [
    "new_df = df[ (df[\"elevation\"] > -828.656979212793) & (df[\"elevation\"] < 1363.9476196068817) ]"
   ]
  },
  {
   "cell_type": "code",
   "execution_count": 38,
   "metadata": {},
   "outputs": [
    {
     "data": {
      "text/plain": [
       "<AxesSubplot:xlabel='elevation', ylabel='Count'>"
      ]
     },
     "execution_count": 38,
     "metadata": {},
     "output_type": "execute_result"
    },
    {
     "data": {
      "image/png": "[encoded data removed]",
      "text/plain": [
       "<Figure size 432x288 with 1 Axes>"
      ]
     },
     "metadata": {
      "needs_background": "light"
     },
     "output_type": "display_data"
    }
   ],
   "source": [
    "sn.histplot(new_df['elevation'], kde=True)"
   ]
  }
 ],
 "metadata": {
  "kernelspec": {
   "display_name": "Python 3.10.10 64-bit",
   "language": "python",
   "name": "python3"
  },
  "language_info": {
   "codemirror_mode": {
    "name": "ipython",
    "version": 3
   },
   "file_extension": ".py",
   "mimetype": "text/x-python",
   "name": "python",
   "nbconvert_exporter": "python",
   "pygments_lexer": "ipython3",
   "version": "3.10.10"
  },
  "orig_nbformat": 4,
  "vscode": {
   "interpreter": {
    "hash": "e7370f93d1d0cde622a1f8e1c04877d8463912d04d973331ad4851f04de6915a"
   }
  }
 },
 "nbformat": 4,
 "nbformat_minor": 2
}
