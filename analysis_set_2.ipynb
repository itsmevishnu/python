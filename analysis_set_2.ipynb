{
 "cells": [
  {
   "cell_type": "code",
   "execution_count": null,
   "metadata": {},
   "outputs": [],
   "source": [
    "!pip install matplotlib\n",
    "!pip install seaborn"
   ]
  },
  {
   "cell_type": "code",
   "execution_count": 39,
   "metadata": {},
   "outputs": [],
   "source": [
    "import pandas as pd\n",
    "import matplotlib.pyplot as plt\n",
    "import seaborn as sns"
   ]
  },
  {
   "cell_type": "code",
   "execution_count": 150,
   "metadata": {},
   "outputs": [],
   "source": [
    "data = pd.read_csv('all_dt_data.csv')"
   ]
  },
  {
   "cell_type": "code",
   "execution_count": 178,
   "metadata": {},
   "outputs": [
    {
     "name": "stdout",
     "output_type": "stream",
     "text": [
      "<class 'pandas.core.frame.DataFrame'>\n",
      "RangeIndex: 253726 entries, 0 to 253725\n",
      "Data columns (total 30 columns):\n",
      " #   Column                Non-Null Count   Dtype  \n",
      "---  ------                --------------   -----  \n",
      " 0   time_stamp            253726 non-null  object \n",
      " 1   rvolt                 253726 non-null  float64\n",
      " 2   yvolt                 253726 non-null  float64\n",
      " 3   bvolt                 253726 non-null  float64\n",
      " 4   rcurrent              253726 non-null  float64\n",
      " 5   ycurrent              253726 non-null  float64\n",
      " 6   bcurrent              253726 non-null  float64\n",
      " 7   real_energy           253726 non-null  float64\n",
      " 8   apparent              253726 non-null  float64\n",
      " 9   reactive_lag          253726 non-null  float64\n",
      " 10  reactive_lead         253726 non-null  float64\n",
      " 11  pf                    253726 non-null  float64\n",
      " 12  meter_no              253726 non-null  int64  \n",
      " 13  yearm                 253726 non-null  int64  \n",
      " 14  monthm                253726 non-null  int64  \n",
      " 15  datem                 253726 non-null  int64  \n",
      " 16  hourm                 253726 non-null  int64  \n",
      " 17  minm                  253726 non-null  int64  \n",
      " 18  number_of_phases      253726 non-null  int64  \n",
      " 19  slot_duration         253726 non-null  int64  \n",
      " 20  phases                253726 non-null  int64  \n",
      " 21  kw_load               253726 non-null  int64  \n",
      " 22  kva_load              253726 non-null  int64  \n",
      " 23  Unnamed: 23           810 non-null     float64\n",
      " 24  day_or_night          253726 non-null  object \n",
      " 25  day_usage             253726 non-null  float64\n",
      " 26  night_usage           253726 non-null  float64\n",
      " 27  day_usage_per_day     253726 non-null  float64\n",
      " 28  night_usage_per_day   253726 non-null  float64\n",
      " 29  overall_day_or_night  253726 non-null  object \n",
      "dtypes: float64(16), int64(11), object(3)\n",
      "memory usage: 58.1+ MB\n"
     ]
    }
   ],
   "source": [
    "data.info()"
   ]
  },
  {
   "cell_type": "code",
   "execution_count": 168,
   "metadata": {},
   "outputs": [],
   "source": [
    "#group by date\n",
    "# per_day = df.groupby(\"datem\")[\"time_stamp\",\"real_energy\", \"hourm\", \"number_of_phases\"]\n",
    "\n",
    "def check_day(row):\n",
    "    #Check the number of phase is 3, then only calculate further.\n",
    "    if(row[\"number_of_phases\"] != 3):\n",
    "        return \"undefined\"\n",
    "    else:\n",
    "        if(row['real_energy']!=0 and row['hourm'] in range(6,19)): #day time is consider as 6 am to 6pm 6<=row[\"hourm\"]<=16\n",
    "           return \"day\"\n",
    "        else:\n",
    "           return \"night\"\n",
    "\n",
    "data[\"day_or_night\"] = data.apply(lambda x: check_day(x), axis=1)\n",
    "#for easy calculation\n",
    "\n",
    "# # ie. for if the phase number is 3, then only the energy calculated for  day_usage and night-usage\n",
    "data[\"day_usage\"] = data.apply(lambda x: x[\"real_energy\"] if x[\"day_or_night\"] == \"day\" else 0, axis=1)\n",
    "data[\"night_usage\"] = data.apply(lambda x: x[\"real_energy\"] if x[\"day_or_night\"] == \"night\" else 0, axis=1)\n",
    "\n",
    "# The energy usage by each day for each DT at day time and night time.\n",
    "data[\"day_usage_per_day\"] = data.groupby([\"datem\", \"meter_no\"])['day_usage'].transform('sum')\n",
    "data[\"night_usage_per_day\"] = data.groupby([\"datem\", \"meter_no\"])['night_usage'].transform('sum')\n",
    "\n",
    "#check the overall energy usage to verify whether the energy usage is day or night\n",
    "data[\"overall_day_or_night\"] = data.apply(lambda x: \"day\" if x[\"day_usage_per_day\"] > x[\"night_usage_per_day\"] else \"night\", axis=1)\n",
    " "
   ]
  },
  {
   "cell_type": "code",
   "execution_count": 270,
   "metadata": {},
   "outputs": [],
   "source": [
    "def check_phases(row):\n",
    "    r, b, y = row[\"rvolt\"], row[\"bvolt\"], row[\"yvolt\"]\n",
    "\n",
    "    if r > 50 and b > 50 and y > 50:\n",
    "        return 3\n",
    "    elif (r > 50 and b > 50) or (b > 50 and y > 50) or (r > 50 and y > 50):\n",
    "        return 2\n",
    "    elif r > 50 or b > 50 or y> 50:\n",
    "        return 1\n",
    "    else:\n",
    "        return 0"
   ]
  },
  {
   "cell_type": "code",
   "execution_count": 325,
   "metadata": {},
   "outputs": [],
   "source": [
    "data.to_csv('updated_all_dt_data.csv')"
   ]
  },
  {
   "cell_type": "code",
   "execution_count": 274,
   "metadata": {},
   "outputs": [],
   "source": [
    "grouped = data.groupby([\"datem\", \"meter_no\"])"
   ]
  },
  {
   "cell_type": "code",
   "execution_count": 175,
   "metadata": {},
   "outputs": [],
   "source": [
    "new_df = pd.DataFrame()"
   ]
  },
  {
   "cell_type": "code",
   "execution_count": 321,
   "metadata": {},
   "outputs": [],
   "source": [
    "def find_count_phase(x, phase):\n",
    "   return (x[\"number_of_phases\"] == phase).sum()\n",
    "    "
   ]
  },
  {
   "cell_type": "code",
   "execution_count": 323,
   "metadata": {},
   "outputs": [],
   "source": [
    "new_df[\"date\"] = pd.to_datetime(grouped.first()[\"time_stamp\"]).dt.strftime(\"%d/%m/%Y\")\n",
    "new_df[\"real_energy\"] = grouped[\"real_energy\"].sum()\n",
    "new_df[\"day_usage\"] = grouped[\"day_usage\"].sum()\n",
    "new_df[\"night_usage\"] = grouped[\"night_usage\"].sum()\n",
    "#volatage mean\n",
    "new_df[\"r_volt_avg\"] = grouped[\"rvolt\"].mean()\n",
    "new_df[\"b_volt_avg\"] = grouped[\"bvolt\"].mean()\n",
    "new_df[\"y_volt_avg\"] = grouped[\"yvolt\"].mean()\n",
    "\n",
    "#volate minumum\n",
    "new_df[\"r_volt_min\"] = grouped[\"rvolt\"].min()\n",
    "new_df[\"b_volt_min\"] = grouped[\"bvolt\"].min()\n",
    "new_df[\"y_volt_min\"] = grouped[\"yvolt\"].min()\n",
    "\n",
    "#current mean\n",
    "new_df[\"r_current_avg\"] = grouped[\"rcurrent\"].mean()\n",
    "new_df[\"b_current_avg\"] = grouped[\"bcurrent\"].mean()\n",
    "new_df[\"r_current_avg\"] = grouped[\"ycurrent\"].mean()\n",
    "\n",
    "#current max\n",
    "new_df[\"r_current_max\"] = grouped[\"rcurrent\"].max()\n",
    "new_df[\"b_current_max\"] = grouped[\"bcurrent\"].max()\n",
    "new_df[\"r_current_max\"] = grouped[\"ycurrent\"].max()\n",
    "\n",
    "#kw load\n",
    "new_df[\"kw_load_avg\"] = grouped[\"kw_load\"].mean()\n",
    "new_df[\"kw_load_max\"] = grouped[\"kw_load\"].max()\n",
    "\n",
    "#Phases count\n",
    "new_df[\"phase_1\"] = grouped.apply(find_count_phase, 1)\n",
    "new_df[\"phase_2\"] = grouped.apply(find_count_phase, 2)\n",
    "new_df[\"phase_3\"] = grouped.apply(find_count_phase, 3)\n",
    "\n"
   ]
  },
  {
   "cell_type": "code",
   "execution_count": 326,
   "metadata": {},
   "outputs": [],
   "source": [
    "new_df.to_csv('day_wise_all_dt_data.csv')"
   ]
  }
 ],
 "metadata": {
  "kernelspec": {
   "display_name": "athira",
   "language": "python",
   "name": "python3"
  },
  "language_info": {
   "codemirror_mode": {
    "name": "ipython",
    "version": 3
   },
   "file_extension": ".py",
   "mimetype": "text/x-python",
   "name": "python",
   "nbconvert_exporter": "python",
   "pygments_lexer": "ipython3",
   "version": "3.11.3"
  },
  "orig_nbformat": 4
 },
 "nbformat": 4,
 "nbformat_minor": 2
}
