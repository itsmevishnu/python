{
  "nbformat": 4,
  "nbformat_minor": 0,
  "metadata": {
    "colab": {
      "provenance": [],
      "include_colab_link": true
    },
    "kernelspec": {
      "name": "python3",
      "display_name": "Python 3"
    },
    "language_info": {
      "name": "python"
    }
  },
  "cells": [
    {
      "cell_type": "markdown",
      "metadata": {
        "id": "view-in-github",
        "colab_type": "text"
      },
      "source": [
        "<a href=\"https://colab.research.google.com/github/itsmevishnu/python/blob/master/Learn_python.ipynb\" target=\"_parent\"><img src=\"https://colab.research.google.com/assets/colab-badge.svg\" alt=\"Open In Colab\"/></a>"
      ]
    },
    {
      "cell_type": "code",
      "execution_count": null,
      "metadata": {
        "colab": {
          "base_uri": "https://localhost:8080/"
        },
        "id": "TaAgf9EJOU-i",
        "outputId": "b9f455e6-31c1-4849-ec47-c3a45a5534d0"
      },
      "outputs": [
        {
          "output_type": "stream",
          "name": "stdout",
          "text": [
            "10\n"
          ]
        }
      ],
      "source": [
        "print(5+5)"
      ]
    },
    {
      "cell_type": "markdown",
      "source": [
        "- Print is the basic command to print the elements\n",
        "- We can use expression, strings, numbers etc."
      ],
      "metadata": {
        "id": "JxqswHgrPZWq"
      }
    },
    {
      "cell_type": "code",
      "source": [
        "x = 3\n",
        "y = 1.2\n",
        "z = True\n",
        "a = 6+5j\n",
        "print (type(a))                                                                  #complex number"
      ],
      "metadata": {
        "colab": {
          "base_uri": "https://localhost:8080/"
        },
        "id": "evV23Bp0PvhG",
        "outputId": "45a29def-64f1-4c55-e91a-337074a5b825"
      },
      "execution_count": null,
      "outputs": [
        {
          "output_type": "stream",
          "name": "stdout",
          "text": [
            "<class 'complex'>\n"
          ]
        }
      ]
    },
    {
      "cell_type": "code",
      "source": [
        "a = [1,2,3,4,5,6,7,8]\n",
        "print(a)\n",
        "a[2:6] = [100, 101, 102, 103]\n",
        "\n",
        "print(a)"
      ],
      "metadata": {
        "colab": {
          "base_uri": "https://localhost:8080/"
        },
        "id": "9MiIdQ1P0dwM",
        "outputId": "d0bf288a-1bd4-44e7-a915-c13025a1b4d9"
      },
      "execution_count": null,
      "outputs": [
        {
          "output_type": "stream",
          "name": "stdout",
          "text": [
            "[1, 2, 3, 4, 5, 6, 7, 8]\n",
            "[1, 2, 100, 101, 102, 103, 7, 8]\n"
          ]
        }
      ]
    },
    {
      "cell_type": "markdown",
      "source": [
        "## Numpy\n",
        "- Numpy is much faster because, it has a 8 bit integer, which is very faster to access\n",
        "- Numpy is faster because, the memory allocation is contigious rather than different locations as Python list\n",
        "- Numpy array can hold only one type of values at a time unlike python list\n",
        "- Numpy is used for linear algebra, matrix , image processing, data science etc.\n"
      ],
      "metadata": {
        "id": "ITX_THZo0eMw"
      }
    },
    {
      "cell_type": "code",
      "source": [
        "import numpy as np"
      ],
      "metadata": {
        "id": "iuc0cq_a1OSP"
      },
      "execution_count": null,
      "outputs": []
    },
    {
      "cell_type": "markdown",
      "source": [
        "### One dimensional array\n",
        "1. Creation of array using \n",
        "```python \n",
        "np.array([items..]) # creates a new array, need to pass the list of values\n",
        "np.ones(n)  # creates a new array with ones, pass the number of 1s\n",
        "np.zeros(n) # Creates a new array with zeros,pass the number of 0s\n",
        "np.arange(start, end, step) # Creates an array starts from start, and ends at end-1 with steps with step.\n",
        "np.linspace(start, end, n) # Creates an equally spaced array between start and end with n element\n",
        "np.empty() # Creates an array. initially the values will be some random values\n",
        "```\n",
        "2. Accessing the elements\n",
        "3. Slicing elements\n",
        "4. Basic properties \n",
        "```python\n",
        "arr.dtype # for the data type\n",
        "arr.ndim # dimension of the array\n",
        "arr.size # for the size of the array\n",
        "arr.itemsize # for the size of one array item in bytes\n",
        "arr.nbytes # total size of the array in bytes\n",
        "```\n",
        "5. Coversion to multiple dimension array"
      ],
      "metadata": {
        "id": "ar4-mj-Z2omv"
      }
    },
    {
      "cell_type": "markdown",
      "source": [
        "## 1. Creation of array"
      ],
      "metadata": {
        "id": "reip7NIR7vR5"
      }
    },
    {
      "cell_type": "code",
      "source": [
        "a = np.array([1, 2, 3,4,5,6], dtype=np.int8) # we can assin the type here explicitly. \n",
        "b = np.array([2,3,5,6,], dtype=np.int32) # d.type is for showing the type of the data\n",
        "c = np.array([1.23,3,4,5], dtype=float) #np.float is changed to float in the latest version of numpy\n",
        "\n",
        "zero = np.zeros(3)\n",
        "ones = np.ones(4)\n",
        "empty = np.empty(2)\n",
        "a_range = np.arange(1,10,2)\n",
        "lin_space = np.linspace(1,10,5)\n",
        "\n",
        "\n",
        "print(a)\n",
        "print(b)\n",
        "print(c)\n",
        "print(zero)\n",
        "print(ones)\n",
        "print(empty)\n",
        "print(a_range)\n",
        "print(lin_space)"
      ],
      "metadata": {
        "colab": {
          "base_uri": "https://localhost:8080/"
        },
        "id": "yyuodqhN1UBa",
        "outputId": "bf6ce78d-ba7c-4387-c586-bbb56d50a999"
      },
      "execution_count": null,
      "outputs": [
        {
          "output_type": "stream",
          "name": "stdout",
          "text": [
            "[1 2 3 4 5 6]\n",
            "[2 3 5 6]\n",
            "[1.23 3.   4.   5.  ]\n",
            "[0. 0. 0.]\n",
            "[1. 1. 1. 1.]\n",
            "[1.9596952e-316 1.4821969e-323]\n",
            "[1 3 5 7 9]\n",
            "[ 1.    3.25  5.5   7.75 10.  ]\n"
          ]
        }
      ]
    },
    {
      "cell_type": "markdown",
      "source": [
        "## 4. Basic Properties"
      ],
      "metadata": {
        "id": "yWsZKzpc75JW"
      }
    },
    {
      "cell_type": "code",
      "source": [
        "print(a.ndim, a.shape)  # dimension of the array, shape of the given array\n",
        "print(a.itemsize)# size (in byte) of each item in the array\n",
        "print(a.size)# total size(len)  of the  array\n",
        "print(a.nbytes) # itemsize*size --> provides the total size\n",
        "print(a.dtype) # dtype stands for data type"
      ],
      "metadata": {
        "colab": {
          "base_uri": "https://localhost:8080/"
        },
        "id": "mDnqxoEH1swL",
        "outputId": "9f7f313b-d6d4-409c-ad74-457416148731"
      },
      "execution_count": null,
      "outputs": [
        {
          "output_type": "stream",
          "name": "stdout",
          "text": [
            "1 (6,)\n",
            "1\n",
            "6\n",
            "6\n",
            "int8\n"
          ]
        }
      ]
    }
  ]
}